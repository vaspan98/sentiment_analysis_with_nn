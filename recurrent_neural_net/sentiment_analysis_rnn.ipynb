{
  "nbformat": 4,
  "nbformat_minor": 0,
  "metadata": {
    "colab": {
      "name": "sentiment_analysis_rnn.ipynb",
      "provenance": [],
      "collapsed_sections": [
        "JhfmSB4kcQDV",
        "ZVGwqM_XFZIq",
        "RITdTeFH3HIr"
      ],
      "machine_shape": "hm"
    },
    "kernelspec": {
      "display_name": "Python 3",
      "language": "python",
      "name": "python3"
    },
    "language_info": {
      "codemirror_mode": {
        "name": "ipython",
        "version": 3
      },
      "file_extension": ".py",
      "mimetype": "text/x-python",
      "name": "python",
      "nbconvert_exporter": "python",
      "pygments_lexer": "ipython3",
      "version": "3.8.3"
    },
    "accelerator": "GPU"
  },
  "cells": [
    {
      "cell_type": "markdown",
      "metadata": {
        "id": "ig1HGm_sXvHx"
      },
      "source": [
        "# Twitter Sentiment Analysis - Recurrent Neural Networks \n",
        "## <div> Vassilis Panagakis </div>"
      ]
    },
    {
      "cell_type": "code",
      "metadata": {
        "colab": {
          "base_uri": "https://localhost:8080/"
        },
        "id": "lQ0xV4tFJZTI",
        "outputId": "fa07bd18-d151-4a74-b792-48c77f9f3170"
      },
      "source": [
        "!pip install d2l==0.15.0"
      ],
      "execution_count": 1,
      "outputs": [
        {
          "output_type": "stream",
          "text": [
            "Collecting d2l==0.15.0\n",
            "\u001b[?25l  Downloading https://files.pythonhosted.org/packages/46/4f/d169ebbd3c686b6ade9cba78fa2730ba5583048b901cd3b2cf01b28ea651/d2l-0.15.0-py3-none-any.whl (59kB)\n",
            "\r\u001b[K     |█████▌                          | 10kB 24.8MB/s eta 0:00:01\r\u001b[K     |███████████                     | 20kB 32.5MB/s eta 0:00:01\r\u001b[K     |████████████████▍               | 30kB 21.9MB/s eta 0:00:01\r\u001b[K     |██████████████████████          | 40kB 17.0MB/s eta 0:00:01\r\u001b[K     |███████████████████████████▍    | 51kB 15.0MB/s eta 0:00:01\r\u001b[K     |████████████████████████████████| 61kB 6.0MB/s \n",
            "\u001b[?25hRequirement already satisfied: matplotlib in /usr/local/lib/python3.7/dist-packages (from d2l==0.15.0) (3.2.2)\n",
            "Requirement already satisfied: jupyter in /usr/local/lib/python3.7/dist-packages (from d2l==0.15.0) (1.0.0)\n",
            "Requirement already satisfied: pandas in /usr/local/lib/python3.7/dist-packages (from d2l==0.15.0) (1.1.5)\n",
            "Requirement already satisfied: numpy in /usr/local/lib/python3.7/dist-packages (from d2l==0.15.0) (1.19.5)\n",
            "Requirement already satisfied: kiwisolver>=1.0.1 in /usr/local/lib/python3.7/dist-packages (from matplotlib->d2l==0.15.0) (1.3.1)\n",
            "Requirement already satisfied: python-dateutil>=2.1 in /usr/local/lib/python3.7/dist-packages (from matplotlib->d2l==0.15.0) (2.8.1)\n",
            "Requirement already satisfied: cycler>=0.10 in /usr/local/lib/python3.7/dist-packages (from matplotlib->d2l==0.15.0) (0.10.0)\n",
            "Requirement already satisfied: pyparsing!=2.0.4,!=2.1.2,!=2.1.6,>=2.0.1 in /usr/local/lib/python3.7/dist-packages (from matplotlib->d2l==0.15.0) (2.4.7)\n",
            "Requirement already satisfied: ipykernel in /usr/local/lib/python3.7/dist-packages (from jupyter->d2l==0.15.0) (4.10.1)\n",
            "Requirement already satisfied: nbconvert in /usr/local/lib/python3.7/dist-packages (from jupyter->d2l==0.15.0) (5.6.1)\n",
            "Requirement already satisfied: jupyter-console in /usr/local/lib/python3.7/dist-packages (from jupyter->d2l==0.15.0) (5.2.0)\n",
            "Requirement already satisfied: qtconsole in /usr/local/lib/python3.7/dist-packages (from jupyter->d2l==0.15.0) (5.0.2)\n",
            "Requirement already satisfied: notebook in /usr/local/lib/python3.7/dist-packages (from jupyter->d2l==0.15.0) (5.3.1)\n",
            "Requirement already satisfied: ipywidgets in /usr/local/lib/python3.7/dist-packages (from jupyter->d2l==0.15.0) (7.6.3)\n",
            "Requirement already satisfied: pytz>=2017.2 in /usr/local/lib/python3.7/dist-packages (from pandas->d2l==0.15.0) (2018.9)\n",
            "Requirement already satisfied: six>=1.5 in /usr/local/lib/python3.7/dist-packages (from python-dateutil>=2.1->matplotlib->d2l==0.15.0) (1.15.0)\n",
            "Requirement already satisfied: ipython>=4.0.0 in /usr/local/lib/python3.7/dist-packages (from ipykernel->jupyter->d2l==0.15.0) (5.5.0)\n",
            "Requirement already satisfied: jupyter-client in /usr/local/lib/python3.7/dist-packages (from ipykernel->jupyter->d2l==0.15.0) (5.3.5)\n",
            "Requirement already satisfied: traitlets>=4.1.0 in /usr/local/lib/python3.7/dist-packages (from ipykernel->jupyter->d2l==0.15.0) (4.3.3)\n",
            "Requirement already satisfied: tornado>=4.0 in /usr/local/lib/python3.7/dist-packages (from ipykernel->jupyter->d2l==0.15.0) (5.1.1)\n",
            "Requirement already satisfied: nbformat>=4.4 in /usr/local/lib/python3.7/dist-packages (from nbconvert->jupyter->d2l==0.15.0) (5.1.2)\n",
            "Requirement already satisfied: testpath in /usr/local/lib/python3.7/dist-packages (from nbconvert->jupyter->d2l==0.15.0) (0.4.4)\n",
            "Requirement already satisfied: jinja2>=2.4 in /usr/local/lib/python3.7/dist-packages (from nbconvert->jupyter->d2l==0.15.0) (2.11.3)\n",
            "Requirement already satisfied: mistune<2,>=0.8.1 in /usr/local/lib/python3.7/dist-packages (from nbconvert->jupyter->d2l==0.15.0) (0.8.4)\n",
            "Requirement already satisfied: entrypoints>=0.2.2 in /usr/local/lib/python3.7/dist-packages (from nbconvert->jupyter->d2l==0.15.0) (0.3)\n",
            "Requirement already satisfied: pandocfilters>=1.4.1 in /usr/local/lib/python3.7/dist-packages (from nbconvert->jupyter->d2l==0.15.0) (1.4.3)\n",
            "Requirement already satisfied: defusedxml in /usr/local/lib/python3.7/dist-packages (from nbconvert->jupyter->d2l==0.15.0) (0.6.0)\n",
            "Requirement already satisfied: bleach in /usr/local/lib/python3.7/dist-packages (from nbconvert->jupyter->d2l==0.15.0) (3.3.0)\n",
            "Requirement already satisfied: pygments in /usr/local/lib/python3.7/dist-packages (from nbconvert->jupyter->d2l==0.15.0) (2.6.1)\n",
            "Requirement already satisfied: jupyter-core in /usr/local/lib/python3.7/dist-packages (from nbconvert->jupyter->d2l==0.15.0) (4.7.1)\n",
            "Requirement already satisfied: prompt-toolkit<2.0.0,>=1.0.0 in /usr/local/lib/python3.7/dist-packages (from jupyter-console->jupyter->d2l==0.15.0) (1.0.18)\n",
            "Requirement already satisfied: qtpy in /usr/local/lib/python3.7/dist-packages (from qtconsole->jupyter->d2l==0.15.0) (1.9.0)\n",
            "Requirement already satisfied: ipython-genutils in /usr/local/lib/python3.7/dist-packages (from qtconsole->jupyter->d2l==0.15.0) (0.2.0)\n",
            "Requirement already satisfied: pyzmq>=17.1 in /usr/local/lib/python3.7/dist-packages (from qtconsole->jupyter->d2l==0.15.0) (22.0.3)\n",
            "Requirement already satisfied: Send2Trash in /usr/local/lib/python3.7/dist-packages (from notebook->jupyter->d2l==0.15.0) (1.5.0)\n",
            "Requirement already satisfied: terminado>=0.8.1 in /usr/local/lib/python3.7/dist-packages (from notebook->jupyter->d2l==0.15.0) (0.9.2)\n",
            "Requirement already satisfied: jupyterlab-widgets>=1.0.0; python_version >= \"3.6\" in /usr/local/lib/python3.7/dist-packages (from ipywidgets->jupyter->d2l==0.15.0) (1.0.0)\n",
            "Requirement already satisfied: widgetsnbextension~=3.5.0 in /usr/local/lib/python3.7/dist-packages (from ipywidgets->jupyter->d2l==0.15.0) (3.5.1)\n",
            "Requirement already satisfied: pexpect; sys_platform != \"win32\" in /usr/local/lib/python3.7/dist-packages (from ipython>=4.0.0->ipykernel->jupyter->d2l==0.15.0) (4.8.0)\n",
            "Requirement already satisfied: setuptools>=18.5 in /usr/local/lib/python3.7/dist-packages (from ipython>=4.0.0->ipykernel->jupyter->d2l==0.15.0) (53.0.0)\n",
            "Requirement already satisfied: pickleshare in /usr/local/lib/python3.7/dist-packages (from ipython>=4.0.0->ipykernel->jupyter->d2l==0.15.0) (0.7.5)\n",
            "Requirement already satisfied: decorator in /usr/local/lib/python3.7/dist-packages (from ipython>=4.0.0->ipykernel->jupyter->d2l==0.15.0) (4.4.2)\n",
            "Requirement already satisfied: simplegeneric>0.8 in /usr/local/lib/python3.7/dist-packages (from ipython>=4.0.0->ipykernel->jupyter->d2l==0.15.0) (0.8.1)\n",
            "Requirement already satisfied: jsonschema!=2.5.0,>=2.4 in /usr/local/lib/python3.7/dist-packages (from nbformat>=4.4->nbconvert->jupyter->d2l==0.15.0) (2.6.0)\n",
            "Requirement already satisfied: MarkupSafe>=0.23 in /usr/local/lib/python3.7/dist-packages (from jinja2>=2.4->nbconvert->jupyter->d2l==0.15.0) (1.1.1)\n",
            "Requirement already satisfied: webencodings in /usr/local/lib/python3.7/dist-packages (from bleach->nbconvert->jupyter->d2l==0.15.0) (0.5.1)\n",
            "Requirement already satisfied: packaging in /usr/local/lib/python3.7/dist-packages (from bleach->nbconvert->jupyter->d2l==0.15.0) (20.9)\n",
            "Requirement already satisfied: wcwidth in /usr/local/lib/python3.7/dist-packages (from prompt-toolkit<2.0.0,>=1.0.0->jupyter-console->jupyter->d2l==0.15.0) (0.2.5)\n",
            "Requirement already satisfied: ptyprocess; os_name != \"nt\" in /usr/local/lib/python3.7/dist-packages (from terminado>=0.8.1->notebook->jupyter->d2l==0.15.0) (0.7.0)\n",
            "Installing collected packages: d2l\n",
            "Successfully installed d2l-0.15.0\n"
          ],
          "name": "stdout"
        }
      ]
    },
    {
      "cell_type": "code",
      "metadata": {
        "id": "L3VQYcefW8Hf"
      },
      "source": [
        "import pandas as pd\n",
        "import numpy as np \n",
        "import re\n",
        "import warnings\n",
        "import torch\n",
        "import matplotlib.pyplot as plt\n",
        "import pickle\n",
        "\n",
        "warnings.filterwarnings('ignore')  "
      ],
      "execution_count": 2,
      "outputs": []
    },
    {
      "cell_type": "markdown",
      "metadata": {
        "id": "sStnn3cnXAOM"
      },
      "source": [
        "## Load Data"
      ]
    },
    {
      "cell_type": "code",
      "metadata": {
        "colab": {
          "base_uri": "https://localhost:8080/"
        },
        "id": "FyzcY9_IXCal",
        "outputId": "a2aeeb30-bddc-4e87-80cd-cc685ce23b69"
      },
      "source": [
        "from google.colab import drive \n",
        "drive.mount('/content/gdrive')"
      ],
      "execution_count": 3,
      "outputs": [
        {
          "output_type": "stream",
          "text": [
            "Mounted at /content/gdrive\n"
          ],
          "name": "stdout"
        }
      ]
    },
    {
      "cell_type": "markdown",
      "metadata": {
        "id": "_LM1FQO7XNK6"
      },
      "source": [
        "#### Create a dataframe from SentimentTweets.csv file data"
      ]
    },
    {
      "cell_type": "code",
      "metadata": {
        "id": "Z54N_yxEXG2r",
        "colab": {
          "base_uri": "https://localhost:8080/",
          "height": 204
        },
        "outputId": "7feccf4a-f1f8-4ff3-bceb-8dcc218c86e9"
      },
      "source": [
        "df=pd.read_csv('gdrive/My Drive/Colab Notebooks/SentimentTweets.csv', usecols=['target','id','date','flag','user','text'])\n",
        "\n",
        "df.head()\n"
      ],
      "execution_count": 4,
      "outputs": [
        {
          "output_type": "execute_result",
          "data": {
            "text/html": [
              "<div>\n",
              "<style scoped>\n",
              "    .dataframe tbody tr th:only-of-type {\n",
              "        vertical-align: middle;\n",
              "    }\n",
              "\n",
              "    .dataframe tbody tr th {\n",
              "        vertical-align: top;\n",
              "    }\n",
              "\n",
              "    .dataframe thead th {\n",
              "        text-align: right;\n",
              "    }\n",
              "</style>\n",
              "<table border=\"1\" class=\"dataframe\">\n",
              "  <thead>\n",
              "    <tr style=\"text-align: right;\">\n",
              "      <th></th>\n",
              "      <th>target</th>\n",
              "      <th>id</th>\n",
              "      <th>date</th>\n",
              "      <th>flag</th>\n",
              "      <th>user</th>\n",
              "      <th>text</th>\n",
              "    </tr>\n",
              "  </thead>\n",
              "  <tbody>\n",
              "    <tr>\n",
              "      <th>0</th>\n",
              "      <td>0</td>\n",
              "      <td>2249621587</td>\n",
              "      <td>Fri Jun 19 22:41:08 PDT 2009</td>\n",
              "      <td>NO_QUERY</td>\n",
              "      <td>sukumarpant</td>\n",
              "      <td>#brokenpromises...</td>\n",
              "    </tr>\n",
              "    <tr>\n",
              "      <th>1</th>\n",
              "      <td>0</td>\n",
              "      <td>2059003515</td>\n",
              "      <td>Sat Jun 06 16:03:21 PDT 2009</td>\n",
              "      <td>NO_QUERY</td>\n",
              "      <td>MTMSparrow</td>\n",
              "      <td>David Carradine  so sad. Thai's law not sure i...</td>\n",
              "    </tr>\n",
              "    <tr>\n",
              "      <th>2</th>\n",
              "      <td>4</td>\n",
              "      <td>2017466467</td>\n",
              "      <td>Wed Jun 03 08:26:14 PDT 2009</td>\n",
              "      <td>NO_QUERY</td>\n",
              "      <td>itsmemcee</td>\n",
              "      <td>A @ 415 B @ 425. Tell your bro i say congrats!</td>\n",
              "    </tr>\n",
              "    <tr>\n",
              "      <th>3</th>\n",
              "      <td>4</td>\n",
              "      <td>2186457254</td>\n",
              "      <td>Mon Jun 15 18:52:04 PDT 2009</td>\n",
              "      <td>NO_QUERY</td>\n",
              "      <td>jdfreivald</td>\n",
              "      <td>@littlefluffycat  Indeed.</td>\n",
              "    </tr>\n",
              "    <tr>\n",
              "      <th>4</th>\n",
              "      <td>4</td>\n",
              "      <td>2064458395</td>\n",
              "      <td>Sun Jun 07 06:19:20 PDT 2009</td>\n",
              "      <td>NO_QUERY</td>\n",
              "      <td>CrazyHan</td>\n",
              "      <td>Completed Race 4 Life in 58mins with girlies f...</td>\n",
              "    </tr>\n",
              "  </tbody>\n",
              "</table>\n",
              "</div>"
            ],
            "text/plain": [
              "   target  ...                                               text\n",
              "0       0  ...                                #brokenpromises... \n",
              "1       0  ...  David Carradine  so sad. Thai's law not sure i...\n",
              "2       4  ...    A @ 415 B @ 425. Tell your bro i say congrats! \n",
              "3       4  ...                          @littlefluffycat  Indeed.\n",
              "4       4  ...  Completed Race 4 Life in 58mins with girlies f...\n",
              "\n",
              "[5 rows x 6 columns]"
            ]
          },
          "metadata": {
            "tags": []
          },
          "execution_count": 4
        }
      ]
    },
    {
      "cell_type": "code",
      "metadata": {
        "colab": {
          "base_uri": "https://localhost:8080/",
          "height": 204
        },
        "id": "um-sOo0R1RRt",
        "outputId": "0af1b036-b904-408c-f789-cd1d2c7a50aa"
      },
      "source": [
        "df.drop(columns=['id', 'date', 'flag', 'user'], axis=1, inplace=True) #drop useless columns\r\n",
        "\r\n",
        "df.head()"
      ],
      "execution_count": 5,
      "outputs": [
        {
          "output_type": "execute_result",
          "data": {
            "text/html": [
              "<div>\n",
              "<style scoped>\n",
              "    .dataframe tbody tr th:only-of-type {\n",
              "        vertical-align: middle;\n",
              "    }\n",
              "\n",
              "    .dataframe tbody tr th {\n",
              "        vertical-align: top;\n",
              "    }\n",
              "\n",
              "    .dataframe thead th {\n",
              "        text-align: right;\n",
              "    }\n",
              "</style>\n",
              "<table border=\"1\" class=\"dataframe\">\n",
              "  <thead>\n",
              "    <tr style=\"text-align: right;\">\n",
              "      <th></th>\n",
              "      <th>target</th>\n",
              "      <th>text</th>\n",
              "    </tr>\n",
              "  </thead>\n",
              "  <tbody>\n",
              "    <tr>\n",
              "      <th>0</th>\n",
              "      <td>0</td>\n",
              "      <td>#brokenpromises...</td>\n",
              "    </tr>\n",
              "    <tr>\n",
              "      <th>1</th>\n",
              "      <td>0</td>\n",
              "      <td>David Carradine  so sad. Thai's law not sure i...</td>\n",
              "    </tr>\n",
              "    <tr>\n",
              "      <th>2</th>\n",
              "      <td>4</td>\n",
              "      <td>A @ 415 B @ 425. Tell your bro i say congrats!</td>\n",
              "    </tr>\n",
              "    <tr>\n",
              "      <th>3</th>\n",
              "      <td>4</td>\n",
              "      <td>@littlefluffycat  Indeed.</td>\n",
              "    </tr>\n",
              "    <tr>\n",
              "      <th>4</th>\n",
              "      <td>4</td>\n",
              "      <td>Completed Race 4 Life in 58mins with girlies f...</td>\n",
              "    </tr>\n",
              "  </tbody>\n",
              "</table>\n",
              "</div>"
            ],
            "text/plain": [
              "   target                                               text\n",
              "0       0                                #brokenpromises... \n",
              "1       0  David Carradine  so sad. Thai's law not sure i...\n",
              "2       4    A @ 415 B @ 425. Tell your bro i say congrats! \n",
              "3       4                          @littlefluffycat  Indeed.\n",
              "4       4  Completed Race 4 Life in 58mins with girlies f..."
            ]
          },
          "metadata": {
            "tags": []
          },
          "execution_count": 5
        }
      ]
    },
    {
      "cell_type": "code",
      "metadata": {
        "id": "5rxc3Nze1ToO"
      },
      "source": [
        "# split 'target' and 'text' columns \r\n",
        "X = df[['text']]\r\n",
        "y = df[['target']]"
      ],
      "execution_count": 6,
      "outputs": []
    },
    {
      "cell_type": "code",
      "metadata": {
        "id": "bOH8oV7b1Wtk"
      },
      "source": [
        "from sklearn.model_selection import train_test_split\r\n",
        "\r\n",
        "# get train and test dataframes \r\n",
        "train_X, test_X, train_Y, test_Y = train_test_split(X, y, test_size=0.2, stratify=df['target'], random_state = 42)"
      ],
      "execution_count": 7,
      "outputs": []
    },
    {
      "cell_type": "markdown",
      "metadata": {
        "id": "4qt2539dXho5"
      },
      "source": [
        "#### Display train and test sets after split"
      ]
    },
    {
      "cell_type": "code",
      "metadata": {
        "colab": {
          "base_uri": "https://localhost:8080/",
          "height": 204
        },
        "id": "EM1VLqxVXgI1",
        "outputId": "068c9b92-3ff5-4ce6-8f27-07c1ea33b4a2"
      },
      "source": [
        "train_X.head()"
      ],
      "execution_count": 8,
      "outputs": [
        {
          "output_type": "execute_result",
          "data": {
            "text/html": [
              "<div>\n",
              "<style scoped>\n",
              "    .dataframe tbody tr th:only-of-type {\n",
              "        vertical-align: middle;\n",
              "    }\n",
              "\n",
              "    .dataframe tbody tr th {\n",
              "        vertical-align: top;\n",
              "    }\n",
              "\n",
              "    .dataframe thead th {\n",
              "        text-align: right;\n",
              "    }\n",
              "</style>\n",
              "<table border=\"1\" class=\"dataframe\">\n",
              "  <thead>\n",
              "    <tr style=\"text-align: right;\">\n",
              "      <th></th>\n",
              "      <th>text</th>\n",
              "    </tr>\n",
              "  </thead>\n",
              "  <tbody>\n",
              "    <tr>\n",
              "      <th>492660</th>\n",
              "      <td>The respected journalist @robfahey just tried ...</td>\n",
              "    </tr>\n",
              "    <tr>\n",
              "      <th>858754</th>\n",
              "      <td>@maggienash  Thanks, Maggie.  I'm still bouncing</td>\n",
              "    </tr>\n",
              "    <tr>\n",
              "      <th>746070</th>\n",
              "      <td>@do0dlebugdebz not now,but will be if you're o...</td>\n",
              "    </tr>\n",
              "    <tr>\n",
              "      <th>885531</th>\n",
              "      <td>@Pure798 yea that works...ughh</td>\n",
              "    </tr>\n",
              "    <tr>\n",
              "      <th>806384</th>\n",
              "      <td>@melapoo lol Cool. I keep getting the weird on...</td>\n",
              "    </tr>\n",
              "  </tbody>\n",
              "</table>\n",
              "</div>"
            ],
            "text/plain": [
              "                                                     text\n",
              "492660  The respected journalist @robfahey just tried ...\n",
              "858754  @maggienash  Thanks, Maggie.  I'm still bouncing \n",
              "746070  @do0dlebugdebz not now,but will be if you're o...\n",
              "885531                    @Pure798 yea that works...ughh \n",
              "806384  @melapoo lol Cool. I keep getting the weird on..."
            ]
          },
          "metadata": {
            "tags": []
          },
          "execution_count": 8
        }
      ]
    },
    {
      "cell_type": "code",
      "metadata": {
        "colab": {
          "base_uri": "https://localhost:8080/",
          "height": 204
        },
        "id": "OBaNuTQZXksQ",
        "outputId": "58eefcf9-e784-4fb1-aabf-0cf4fc689b79"
      },
      "source": [
        "test_X.head()"
      ],
      "execution_count": 9,
      "outputs": [
        {
          "output_type": "execute_result",
          "data": {
            "text/html": [
              "<div>\n",
              "<style scoped>\n",
              "    .dataframe tbody tr th:only-of-type {\n",
              "        vertical-align: middle;\n",
              "    }\n",
              "\n",
              "    .dataframe tbody tr th {\n",
              "        vertical-align: top;\n",
              "    }\n",
              "\n",
              "    .dataframe thead th {\n",
              "        text-align: right;\n",
              "    }\n",
              "</style>\n",
              "<table border=\"1\" class=\"dataframe\">\n",
              "  <thead>\n",
              "    <tr style=\"text-align: right;\">\n",
              "      <th></th>\n",
              "      <th>text</th>\n",
              "    </tr>\n",
              "  </thead>\n",
              "  <tbody>\n",
              "    <tr>\n",
              "      <th>220479</th>\n",
              "      <td>...... fuck you soderling. fuck you. this has ...</td>\n",
              "    </tr>\n",
              "    <tr>\n",
              "      <th>840623</th>\n",
              "      <td>OK next step - today I learn to twitter from m...</td>\n",
              "    </tr>\n",
              "    <tr>\n",
              "      <th>772674</th>\n",
              "      <td>trying to upload a picture and loves how twitt...</td>\n",
              "    </tr>\n",
              "    <tr>\n",
              "      <th>1037193</th>\n",
              "      <td>@addictedtonye Get 100 followers a day using w...</td>\n",
              "    </tr>\n",
              "    <tr>\n",
              "      <th>971656</th>\n",
              "      <td>@AmeliaBt It sure is..</td>\n",
              "    </tr>\n",
              "  </tbody>\n",
              "</table>\n",
              "</div>"
            ],
            "text/plain": [
              "                                                      text\n",
              "220479   ...... fuck you soderling. fuck you. this has ...\n",
              "840623   OK next step - today I learn to twitter from m...\n",
              "772674   trying to upload a picture and loves how twitt...\n",
              "1037193  @addictedtonye Get 100 followers a day using w...\n",
              "971656                             @AmeliaBt It sure is.. "
            ]
          },
          "metadata": {
            "tags": []
          },
          "execution_count": 9
        }
      ]
    },
    {
      "cell_type": "markdown",
      "metadata": {
        "id": "4ClyD5k4Xl61"
      },
      "source": [
        "## Labels Pre-processing"
      ]
    },
    {
      "cell_type": "code",
      "metadata": {
        "id": "T6o-BhRXXnlJ"
      },
      "source": [
        "# replace 4 with 1 to create binary labels\n",
        "train_Y = train_Y.replace(4,1)\n",
        "test_Y = test_Y.replace(4,1)\n",
        "\n",
        "# create numpy arrays for sets' labels\n",
        "train_y = np.asarray(train_Y['target'].tolist()) \n",
        "test_y = np.asarray(test_Y['target'].tolist())\n",
        "\n",
        "# covert numpy arrays to torch tensors\n",
        "train_y, test_y = map(torch.tensor, (train_y, test_y))\n",
        "# covert tensors data to float\n",
        "train_y, test_y = train_y.float(), test_y.float()"
      ],
      "execution_count": 10,
      "outputs": []
    },
    {
      "cell_type": "markdown",
      "metadata": {
        "id": "ZzDrAI8xXpzc"
      },
      "source": [
        "## Data Pre-processing"
      ]
    },
    {
      "cell_type": "markdown",
      "metadata": {
        "id": "JhfmSB4kcQDV"
      },
      "source": [
        "#### Load cleansed data from csv\n"
      ]
    },
    {
      "cell_type": "code",
      "metadata": {
        "id": "YoFIMphscMsR"
      },
      "source": [
        "# restore processed data\n",
        "train_X = pd.read_csv('gdrive/My Drive/Colab Notebooks/CleanedTrain.csv', usecols=['text','processedText'])\n",
        "test_X = pd.read_csv('gdrive/My Drive/Colab Notebooks/CleanedTest.csv', usecols=['text','processedText'])"
      ],
      "execution_count": null,
      "outputs": []
    },
    {
      "cell_type": "markdown",
      "metadata": {
        "id": "a8UMJDrgchTW"
      },
      "source": [
        "### Cleanse data"
      ]
    },
    {
      "cell_type": "code",
      "metadata": {
        "id": "RtrcZJSWXsb7"
      },
      "source": [
        "# function that removes all @mentions, links and non alphabetic strings \n",
        "def clean_content(text):\n",
        "    \n",
        "    text = re.sub(r'@[A-Za-z0-9_]+', '', text) # remove text with @ prefix\n",
        "    text = re.sub(r'http\\S+', '', text) # remove text with http prefix (links)  \n",
        "    text = re.sub(r'www\\S+', '', text) # remove text with www prefix (links)\n",
        "    text = re.sub(r'\\\\\\w+', '', str(text)) # remove text after backslash\n",
        "    text = re.sub(r'\\b\\w{1,2}\\b', '', text) # remove text containing 2 or less characters\n",
        "    \n",
        "    text =  ''.join(ch for ch in text if ch.isalpha() or ch == ' ')\n",
        "    \n",
        "    text = text.lower() # convert text into lowercase\n",
        "    \n",
        "    return text"
      ],
      "execution_count": 11,
      "outputs": []
    },
    {
      "cell_type": "code",
      "metadata": {
        "id": "TRZXeA2nXt8L"
      },
      "source": [
        "# create a column for each set containing the processed text data\n",
        "for index, row in train_X.iterrows():\n",
        "    train_X.loc[index,'processedText'] = clean_content(train_X.loc[index,'text'])\n",
        "\n",
        "for index, row in test_X.iterrows():\n",
        "    test_X.loc[index,'processedText'] = clean_content(test_X.loc[index,'text'])"
      ],
      "execution_count": 12,
      "outputs": []
    },
    {
      "cell_type": "markdown",
      "metadata": {
        "id": "Pt5LUmFqXwzV"
      },
      "source": [
        "#### Display train and test sets after text cleansing"
      ]
    },
    {
      "cell_type": "code",
      "metadata": {
        "colab": {
          "base_uri": "https://localhost:8080/",
          "height": 204
        },
        "id": "YPZLdglyXvZh",
        "outputId": "a5951472-16ec-4f81-f299-e01886ec0e8e"
      },
      "source": [
        "train_X.head()"
      ],
      "execution_count": 13,
      "outputs": [
        {
          "output_type": "execute_result",
          "data": {
            "text/html": [
              "<div>\n",
              "<style scoped>\n",
              "    .dataframe tbody tr th:only-of-type {\n",
              "        vertical-align: middle;\n",
              "    }\n",
              "\n",
              "    .dataframe tbody tr th {\n",
              "        vertical-align: top;\n",
              "    }\n",
              "\n",
              "    .dataframe thead th {\n",
              "        text-align: right;\n",
              "    }\n",
              "</style>\n",
              "<table border=\"1\" class=\"dataframe\">\n",
              "  <thead>\n",
              "    <tr style=\"text-align: right;\">\n",
              "      <th></th>\n",
              "      <th>text</th>\n",
              "      <th>processedText</th>\n",
              "    </tr>\n",
              "  </thead>\n",
              "  <tbody>\n",
              "    <tr>\n",
              "      <th>492660</th>\n",
              "      <td>The respected journalist @robfahey just tried ...</td>\n",
              "      <td>the respected journalist  just tried  have sex...</td>\n",
              "    </tr>\n",
              "    <tr>\n",
              "      <th>858754</th>\n",
              "      <td>@maggienash  Thanks, Maggie.  I'm still bouncing</td>\n",
              "      <td>thanks maggie   still bouncing</td>\n",
              "    </tr>\n",
              "    <tr>\n",
              "      <th>746070</th>\n",
              "      <td>@do0dlebugdebz not now,but will be if you're o...</td>\n",
              "      <td>not nowbut will   you    just sounded like da...</td>\n",
              "    </tr>\n",
              "    <tr>\n",
              "      <th>885531</th>\n",
              "      <td>@Pure798 yea that works...ughh</td>\n",
              "      <td>yea that worksughh</td>\n",
              "    </tr>\n",
              "    <tr>\n",
              "      <th>806384</th>\n",
              "      <td>@melapoo lol Cool. I keep getting the weird on...</td>\n",
              "      <td>lol cool  keep getting the weird ones  got th...</td>\n",
              "    </tr>\n",
              "  </tbody>\n",
              "</table>\n",
              "</div>"
            ],
            "text/plain": [
              "                                                     text                                      processedText\n",
              "492660  The respected journalist @robfahey just tried ...  the respected journalist  just tried  have sex...\n",
              "858754  @maggienash  Thanks, Maggie.  I'm still bouncing                     thanks maggie   still bouncing \n",
              "746070  @do0dlebugdebz not now,but will be if you're o...   not nowbut will   you    just sounded like da...\n",
              "885531                    @Pure798 yea that works...ughh                                 yea that worksughh \n",
              "806384  @melapoo lol Cool. I keep getting the weird on...   lol cool  keep getting the weird ones  got th..."
            ]
          },
          "metadata": {
            "tags": []
          },
          "execution_count": 13
        }
      ]
    },
    {
      "cell_type": "code",
      "metadata": {
        "colab": {
          "base_uri": "https://localhost:8080/",
          "height": 204
        },
        "id": "8_dyGR4IXzTG",
        "outputId": "f805600e-1070-428b-e3de-c7be7c6da98a"
      },
      "source": [
        "test_X.head()"
      ],
      "execution_count": 14,
      "outputs": [
        {
          "output_type": "execute_result",
          "data": {
            "text/html": [
              "<div>\n",
              "<style scoped>\n",
              "    .dataframe tbody tr th:only-of-type {\n",
              "        vertical-align: middle;\n",
              "    }\n",
              "\n",
              "    .dataframe tbody tr th {\n",
              "        vertical-align: top;\n",
              "    }\n",
              "\n",
              "    .dataframe thead th {\n",
              "        text-align: right;\n",
              "    }\n",
              "</style>\n",
              "<table border=\"1\" class=\"dataframe\">\n",
              "  <thead>\n",
              "    <tr style=\"text-align: right;\">\n",
              "      <th></th>\n",
              "      <th>text</th>\n",
              "      <th>processedText</th>\n",
              "    </tr>\n",
              "  </thead>\n",
              "  <tbody>\n",
              "    <tr>\n",
              "      <th>220479</th>\n",
              "      <td>...... fuck you soderling. fuck you. this has ...</td>\n",
              "      <td>fuck you soderling fuck you this has    night...</td>\n",
              "    </tr>\n",
              "    <tr>\n",
              "      <th>840623</th>\n",
              "      <td>OK next step - today I learn to twitter from m...</td>\n",
              "      <td>next step  today  learn  twitter from  phone ...</td>\n",
              "    </tr>\n",
              "    <tr>\n",
              "      <th>772674</th>\n",
              "      <td>trying to upload a picture and loves how twitt...</td>\n",
              "      <td>trying  upload  picture and loves how twitter ...</td>\n",
              "    </tr>\n",
              "    <tr>\n",
              "      <th>1037193</th>\n",
              "      <td>@addictedtonye Get 100 followers a day using w...</td>\n",
              "      <td>get  followers  day using  once you add every...</td>\n",
              "    </tr>\n",
              "    <tr>\n",
              "      <th>971656</th>\n",
              "      <td>@AmeliaBt It sure is..</td>\n",
              "      <td>sure</td>\n",
              "    </tr>\n",
              "  </tbody>\n",
              "</table>\n",
              "</div>"
            ],
            "text/plain": [
              "                                                      text                                      processedText\n",
              "220479   ...... fuck you soderling. fuck you. this has ...   fuck you soderling fuck you this has    night...\n",
              "840623   OK next step - today I learn to twitter from m...   next step  today  learn  twitter from  phone ...\n",
              "772674   trying to upload a picture and loves how twitt...  trying  upload  picture and loves how twitter ...\n",
              "1037193  @addictedtonye Get 100 followers a day using w...   get  followers  day using  once you add every...\n",
              "971656                             @AmeliaBt It sure is..                                              sure  "
            ]
          },
          "metadata": {
            "tags": []
          },
          "execution_count": 14
        }
      ]
    },
    {
      "cell_type": "code",
      "metadata": {
        "id": "OS56PPZjg6kT"
      },
      "source": [
        "# # store processed data to a csv file\n",
        "# train_X.to_csv('gdrive/My Drive/Colab Notebooks/CleanedTrain.csv', index = True, header=True)\n",
        "# test_X.to_csv('gdrive/My Drive/Colab Notebooks/CleanedTest.csv', index = True, header=True)"
      ],
      "execution_count": null,
      "outputs": []
    },
    {
      "cell_type": "markdown",
      "metadata": {
        "id": "gdbg3VI4X2M_"
      },
      "source": [
        "### Tf-idf Vectorization"
      ]
    },
    {
      "cell_type": "code",
      "metadata": {
        "id": "kH2OoLFGX0n2"
      },
      "source": [
        "from sklearn.feature_extraction.text import TfidfVectorizer\n",
        "\n",
        "tfidfVectorizer = TfidfVectorizer(max_df=0.99, min_df=1, stop_words='english', max_features=50)\n",
        "\n",
        "# apply tf-idf transformation to both train and test sets data\n",
        "tr_tfidf = tfidfVectorizer.fit_transform(train_X['processedText'])\n",
        "te_tfidf = tfidfVectorizer.transform(test_X['processedText'])\n",
        "\n",
        "# insert transformed data to numpy arrays for both training and test sets\n",
        "train_tfidf = tr_tfidf.toarray()\n",
        "test_tfidf = te_tfidf.toarray()"
      ],
      "execution_count": 15,
      "outputs": []
    },
    {
      "cell_type": "markdown",
      "metadata": {
        "id": "7JW0sbRl3Wza"
      },
      "source": [
        "#### Convert input vectors to torch tensors"
      ]
    },
    {
      "cell_type": "code",
      "metadata": {
        "id": "-s2GcdA13RV6"
      },
      "source": [
        "# covert numpy arrays to torch tensors\r\n",
        "train_tfidf, test_tfidf = map(torch.tensor, (train_tfidf, test_tfidf))\r\n",
        "# covert tensors data to float\r\n",
        "train_tfidf, test_tfidf = train_tfidf.float(), test_tfidf.float()"
      ],
      "execution_count": 16,
      "outputs": []
    },
    {
      "cell_type": "markdown",
      "metadata": {
        "id": "Lu0tIeExpLPd"
      },
      "source": [
        "### GloVe Pre-trained Embeddings"
      ]
    },
    {
      "cell_type": "code",
      "metadata": {
        "id": "L91p4LurpJ2Z"
      },
      "source": [
        "from torchtext.data import Field \n",
        "from torchtext.vocab import GloVe"
      ],
      "execution_count": 17,
      "outputs": []
    },
    {
      "cell_type": "markdown",
      "metadata": {
        "id": "ZVGwqM_XFZIq"
      },
      "source": [
        "#### Load glove embeddings from disk"
      ]
    },
    {
      "cell_type": "code",
      "metadata": {
        "id": "9K-_MSNUtNQI"
      },
      "source": [
        "with open('gdrive/My Drive/Colab Notebooks/train_glove.pkl', 'rb') as fp:\n",
        "    train_glove = pickle.load(fp)\n",
        "\n",
        "with open('gdrive/My Drive/Colab Notebooks/test_glove.pkl', 'rb') as fp:\n",
        "    test_glove = pickle.load(fp)"
      ],
      "execution_count": null,
      "outputs": []
    },
    {
      "cell_type": "code",
      "metadata": {
        "id": "5rNqilsfHFCI"
      },
      "source": [
        "padding = train_X.processedText.map(lambda x: len(x)).max() # find the largest 'processedText' in dataframe to determine the padding's length"
      ],
      "execution_count": null,
      "outputs": []
    },
    {
      "cell_type": "markdown",
      "metadata": {
        "id": "RITdTeFH3HIr"
      },
      "source": [
        "#### Convert input vectors to torch tensors"
      ]
    },
    {
      "cell_type": "code",
      "metadata": {
        "id": "SpCzi6Bo3HIx"
      },
      "source": [
        "#covert numpy arrays to torch tensors\n",
        "train_glove, test_glove = map(torch.tensor, (train_glove, test_glove))\n",
        "# covert tensors data to float\n",
        "train_glove, test_glove = train_glove.float(), test_glove.float()"
      ],
      "execution_count": null,
      "outputs": []
    },
    {
      "cell_type": "markdown",
      "metadata": {
        "id": "Qd2UmWYYd5PR"
      },
      "source": [
        "### Produce embedding input vectors"
      ]
    },
    {
      "cell_type": "code",
      "metadata": {
        "id": "_fFU56eQLAQ2",
        "colab": {
          "base_uri": "https://localhost:8080/"
        },
        "outputId": "6751e839-b381-47d2-d55e-16f3c8b32a8a"
      },
      "source": [
        "emb_size=50\r\n",
        "\r\n",
        "embedding = GloVe(name='6B', dim=emb_size) # use \"glove.6B.50d\" as embedding"
      ],
      "execution_count": 18,
      "outputs": [
        {
          "output_type": "stream",
          "text": [
            ".vector_cache/glove.6B.zip: 862MB [06:52, 2.09MB/s]                           \n",
            "100%|█████████▉| 399838/400000 [00:10<00:00, 36397.69it/s]"
          ],
          "name": "stderr"
        }
      ]
    },
    {
      "cell_type": "code",
      "metadata": {
        "id": "MQJ02_a_3Mzv"
      },
      "source": [
        "# function to tokenize preprocessed text and add the necessary padding tokens \n",
        "def tokenize(df, padding):\n",
        "\n",
        "  text_field = Field(\n",
        "      sequential=True,\n",
        "      tokenize='spacy', \n",
        "      fix_length=padding,\n",
        "      lower=True\n",
        "  )\n",
        "\n",
        "  label_field = Field(sequential=False, use_vocab=False)\n",
        "\n",
        "  preprocessed_text = df['processedText'].apply(\n",
        "      lambda x: text_field.preprocess(x)\n",
        "  )\n",
        "\n",
        "  return preprocessed_text"
      ],
      "execution_count": 19,
      "outputs": []
    },
    {
      "cell_type": "code",
      "metadata": {
        "id": "yL932Qp2rW1K"
      },
      "source": [
        "# function that creates a mean vector for a series of tokens\n",
        "def tokens_to_vector(tokens, embedding, emb_size):\n",
        "  vectors = []\n",
        "  \n",
        "  for token in tokens:\n",
        "    try: \n",
        "        vectors.append(embedding[token].cpu().detach().numpy()) # add word's vector to list if word belongs to embedding dictionary\n",
        "    except KeyError:\n",
        "        vectors.append(np.zeros(emb_size).astype('float32') ) # else, add a zero vector to the list to represent unknown words\n",
        "          \n",
        "  total = np.zeros(emb_size).astype('float32') \n",
        "  \n",
        "  # compute the mean vector\n",
        "  for v in vectors: \n",
        "      total += v\n",
        "      \n",
        "  mean = total / len(vectors)\n",
        "\n",
        "  return mean.tolist() # return vector in list format"
      ],
      "execution_count": 20,
      "outputs": []
    },
    {
      "cell_type": "code",
      "metadata": {
        "colab": {
          "base_uri": "https://localhost:8080/"
        },
        "id": "qOMAxNVQe0qw",
        "outputId": "3647b8c9-cdce-4b36-c6ae-0c5fe71c804a"
      },
      "source": [
        "!python -m spacy download en"
      ],
      "execution_count": 21,
      "outputs": [
        {
          "output_type": "stream",
          "text": [
            "Requirement already satisfied: en_core_web_sm==2.2.5 from https://github.com/explosion/spacy-models/releases/download/en_core_web_sm-2.2.5/en_core_web_sm-2.2.5.tar.gz#egg=en_core_web_sm==2.2.5 in /usr/local/lib/python3.7/dist-packages (2.2.5)\n",
            "Requirement already satisfied: spacy>=2.2.2 in /usr/local/lib/python3.7/dist-packages (from en_core_web_sm==2.2.5) (2.2.4)\n",
            "Requirement already satisfied: preshed<3.1.0,>=3.0.2 in /usr/local/lib/python3.7/dist-packages (from spacy>=2.2.2->en_core_web_sm==2.2.5) (3.0.5)\n",
            "Requirement already satisfied: cymem<2.1.0,>=2.0.2 in /usr/local/lib/python3.7/dist-packages (from spacy>=2.2.2->en_core_web_sm==2.2.5) (2.0.5)\n",
            "Requirement already satisfied: catalogue<1.1.0,>=0.0.7 in /usr/local/lib/python3.7/dist-packages (from spacy>=2.2.2->en_core_web_sm==2.2.5) (1.0.0)\n",
            "Requirement already satisfied: thinc==7.4.0 in /usr/local/lib/python3.7/dist-packages (from spacy>=2.2.2->en_core_web_sm==2.2.5) (7.4.0)\n",
            "Requirement already satisfied: wasabi<1.1.0,>=0.4.0 in /usr/local/lib/python3.7/dist-packages (from spacy>=2.2.2->en_core_web_sm==2.2.5) (0.8.2)\n",
            "Requirement already satisfied: blis<0.5.0,>=0.4.0 in /usr/local/lib/python3.7/dist-packages (from spacy>=2.2.2->en_core_web_sm==2.2.5) (0.4.1)\n",
            "Requirement already satisfied: requests<3.0.0,>=2.13.0 in /usr/local/lib/python3.7/dist-packages (from spacy>=2.2.2->en_core_web_sm==2.2.5) (2.23.0)\n",
            "Requirement already satisfied: srsly<1.1.0,>=1.0.2 in /usr/local/lib/python3.7/dist-packages (from spacy>=2.2.2->en_core_web_sm==2.2.5) (1.0.5)\n",
            "Requirement already satisfied: numpy>=1.15.0 in /usr/local/lib/python3.7/dist-packages (from spacy>=2.2.2->en_core_web_sm==2.2.5) (1.19.5)\n",
            "Requirement already satisfied: plac<1.2.0,>=0.9.6 in /usr/local/lib/python3.7/dist-packages (from spacy>=2.2.2->en_core_web_sm==2.2.5) (1.1.3)\n",
            "Requirement already satisfied: setuptools in /usr/local/lib/python3.7/dist-packages (from spacy>=2.2.2->en_core_web_sm==2.2.5) (53.0.0)\n",
            "Requirement already satisfied: tqdm<5.0.0,>=4.38.0 in /usr/local/lib/python3.7/dist-packages (from spacy>=2.2.2->en_core_web_sm==2.2.5) (4.41.1)\n",
            "Requirement already satisfied: murmurhash<1.1.0,>=0.28.0 in /usr/local/lib/python3.7/dist-packages (from spacy>=2.2.2->en_core_web_sm==2.2.5) (1.0.5)\n",
            "Requirement already satisfied: importlib-metadata>=0.20; python_version < \"3.8\" in /usr/local/lib/python3.7/dist-packages (from catalogue<1.1.0,>=0.0.7->spacy>=2.2.2->en_core_web_sm==2.2.5) (3.4.0)\n",
            "Requirement already satisfied: idna<3,>=2.5 in /usr/local/lib/python3.7/dist-packages (from requests<3.0.0,>=2.13.0->spacy>=2.2.2->en_core_web_sm==2.2.5) (2.10)\n",
            "Requirement already satisfied: certifi>=2017.4.17 in /usr/local/lib/python3.7/dist-packages (from requests<3.0.0,>=2.13.0->spacy>=2.2.2->en_core_web_sm==2.2.5) (2020.12.5)\n",
            "Requirement already satisfied: urllib3!=1.25.0,!=1.25.1,<1.26,>=1.21.1 in /usr/local/lib/python3.7/dist-packages (from requests<3.0.0,>=2.13.0->spacy>=2.2.2->en_core_web_sm==2.2.5) (1.24.3)\n",
            "Requirement already satisfied: chardet<4,>=3.0.2 in /usr/local/lib/python3.7/dist-packages (from requests<3.0.0,>=2.13.0->spacy>=2.2.2->en_core_web_sm==2.2.5) (3.0.4)\n",
            "Requirement already satisfied: zipp>=0.5 in /usr/local/lib/python3.7/dist-packages (from importlib-metadata>=0.20; python_version < \"3.8\"->catalogue<1.1.0,>=0.0.7->spacy>=2.2.2->en_core_web_sm==2.2.5) (3.4.0)\n",
            "Requirement already satisfied: typing-extensions>=3.6.4; python_version < \"3.8\" in /usr/local/lib/python3.7/dist-packages (from importlib-metadata>=0.20; python_version < \"3.8\"->catalogue<1.1.0,>=0.0.7->spacy>=2.2.2->en_core_web_sm==2.2.5) (3.7.4.3)\n",
            "\u001b[38;5;2m✔ Download and installation successful\u001b[0m\n",
            "You can now load the model via spacy.load('en_core_web_sm')\n",
            "\u001b[38;5;2m✔ Linking successful\u001b[0m\n",
            "/usr/local/lib/python3.7/dist-packages/en_core_web_sm -->\n",
            "/usr/local/lib/python3.7/dist-packages/spacy/data/en\n",
            "You can now load the model via spacy.load('en')\n"
          ],
          "name": "stdout"
        }
      ]
    },
    {
      "cell_type": "code",
      "metadata": {
        "id": "Cf3p3H3Y3E0Y"
      },
      "source": [
        "padding = train_X.processedText.map(lambda x: len(x)).max() # find the largest 'processedText' in dataframe to determine the padding's length"
      ],
      "execution_count": 22,
      "outputs": []
    },
    {
      "cell_type": "code",
      "metadata": {
        "id": "BKVv3EeVno2f",
        "colab": {
          "base_uri": "https://localhost:8080/"
        },
        "outputId": "69adf8c6-b9f4-41d7-ca27-757eff794036"
      },
      "source": [
        "# apply tokenization to both train and test sets\n",
        "train_toks = tokenize(train_X, padding)\n",
        "test_toks = tokenize(test_X, padding)"
      ],
      "execution_count": 23,
      "outputs": [
        {
          "output_type": "stream",
          "text": [
            "\r100%|█████████▉| 399838/400000 [00:30<00:00, 36397.69it/s]"
          ],
          "name": "stderr"
        }
      ]
    },
    {
      "cell_type": "code",
      "metadata": {
        "id": "_Eqxp7EkBBOu"
      },
      "source": [
        "tr_glove = [] \n",
        "\n",
        "# create a list of vectors for every series of tokens in train set\n",
        "for i, tokens in enumerate(train_toks):\n",
        "  tr_glove.append(tokens_to_vector(tokens, embedding, emb_size))\n",
        "\n",
        "te_glove = []\n",
        "\n",
        "# create a list of vectors for every series of tokens in test set\n",
        "for i, tokens in enumerate(test_toks):\n",
        "  te_glove.append(tokens_to_vector(tokens, embedding, emb_size))"
      ],
      "execution_count": 24,
      "outputs": []
    },
    {
      "cell_type": "code",
      "metadata": {
        "id": "S-e5AoOBFuSX"
      },
      "source": [
        "# convert list of vectors to numpy array\n",
        "train_glove = np.array(tr_glove)\n",
        "test_glove = np.array(te_glove)"
      ],
      "execution_count": 25,
      "outputs": []
    },
    {
      "cell_type": "code",
      "metadata": {
        "id": "VBI4gRINLKpb"
      },
      "source": [
        "# # store glove embeddings to disk\n",
        "# with open('gdrive/My Drive/Colab Notebooks/train_glove.pkl', 'wb') as fp:\n",
        "#     pickle.dump(train_glove, fp)\n",
        "\n",
        "# with open('gdrive/My Drive/Colab Notebooks/test_glove.pkl', 'wb') as fp:\n",
        "#     pickle.dump(test_glove, fp)"
      ],
      "execution_count": null,
      "outputs": []
    },
    {
      "cell_type": "markdown",
      "metadata": {
        "id": "9CLiNV0XfAde"
      },
      "source": [
        "#### Convert input vectors to torch tensors"
      ]
    },
    {
      "cell_type": "code",
      "metadata": {
        "id": "zR59A_DfrZXE"
      },
      "source": [
        "#covert numpy arrays to torch tensors\n",
        "train_glove, test_glove = map(torch.tensor, (train_glove, test_glove))\n",
        "# covert tensors data to float\n",
        "train_glove, test_glove = train_glove.float(), test_glove.float()"
      ],
      "execution_count": 26,
      "outputs": []
    },
    {
      "cell_type": "markdown",
      "metadata": {
        "id": "YhSyXl904xb_"
      },
      "source": [
        "## Recurrent Neural Networks"
      ]
    },
    {
      "cell_type": "code",
      "metadata": {
        "id": "x0KLu_hZeYKx"
      },
      "source": [
        "import torch.nn as nn\n",
        "import torch.nn.functional as F\n",
        "from torch import optim"
      ],
      "execution_count": 27,
      "outputs": []
    },
    {
      "cell_type": "markdown",
      "metadata": {
        "id": "P3c0KOKtMziW"
      },
      "source": [
        "### Evaluation Functions"
      ]
    },
    {
      "cell_type": "code",
      "metadata": {
        "id": "HvnVsVT6sjSI"
      },
      "source": [
        "from sklearn.metrics import roc_curve, auc\n",
        "from sklearn.metrics import roc_auc_score\n",
        "from d2l import torch as d2l\n",
        "\n",
        "# function that creates a dataframe to display the Precision, Recall and F1-score of the Neural Networks\n",
        "def display_metrics(model):\n",
        "  nn_dic = {model:['-','-','-']}\n",
        "  nn_df = pd.DataFrame.from_dict(nn_dic, orient='index', columns=['Precision','Recall','F1-Score'])\n",
        "\n",
        "  return nn_df\n",
        "\n",
        "# function to plot loss per epoch\n",
        "def loss_per_epoch(loss, title):\n",
        "  plt.figure(figsize=(8, 5))\n",
        "  plt.style.use('seaborn-whitegrid')\n",
        "\n",
        "  plt.plot(range(len(loss)), loss)\n",
        "  plt.title('Loss - Epoch Diagram (' + title + ')', size=20)\n",
        "  plt.xlim=[1, len(loss)]\n",
        "  plt.xlabel('Epochs', size=20)\n",
        "\n",
        "  plt.yticks(loss, [i for i in loss])\n",
        "  plt.yscale('logit')\n",
        "  plt.ylabel('Loss', size=20)\n",
        "\n",
        "  plt.show()\n",
        "\n",
        " \n",
        "# function that plots the ROC curve on the test set\n",
        "def roc_plot(net, test_X, test_y, batch_size, title):\n",
        "  fpr = dict()\n",
        "  tpr = dict()\n",
        "  roc_auc = dict()\n",
        "  test_iter = d2l.load_array((test_X, test_y), batch_size) # split train set in batches\n",
        "  \n",
        "  fin_y_pred = []\n",
        "  prec, rec, f1 = 0, 0, 0\n",
        "  for X, y in test_iter:\n",
        "    dim = X.shape[1]\n",
        "    X = X.unsqueeze(1)\n",
        "    X = X.expand(X.shape[0], dim, dim)\n",
        "    \n",
        "    # add parameters to device\n",
        "    X = X.to(device)\n",
        "    y = y.to(device)\n",
        "\n",
        "    y_pred = net.predict(X) # execute predict on test set\n",
        "    y_pred = torch.mean(y_pred, dim=1) # calculate mean\n",
        "    y_pred = y_pred.cpu().data.numpy() # convert to numpy\n",
        "\n",
        "    y = y.cpu().data.numpy() # convert to numpy \n",
        "\n",
        "    for i in range(2):\n",
        "        fpr[i], tpr[i], _ = roc_curve(y, y_pred)\n",
        "        roc_auc[i] = auc(fpr[i], tpr[i])\n",
        "\n",
        "  plt.figure(figsize=(8, 5))\n",
        "  plt.style.use('seaborn-whitegrid')\n",
        "  plt.plot(fpr[1], tpr[1])\n",
        "\n",
        "  plt.title('Receiver operating characteristic (' + title + ')', size=20)\n",
        "  plt.xlabel('False Positive Rate', size=20)\n",
        "  plt.ylabel('True Positive Rate', size=20)\n",
        "  plt.show()\n",
        "  \n",
        "  roc_score = \"%.3f%%\" % (roc_auc[i] * 100)\n",
        "  print(\"\\nROC Score = \", roc_score)"
      ],
      "execution_count": 28,
      "outputs": []
    },
    {
      "cell_type": "markdown",
      "metadata": {
        "id": "ir5xbfh2-RaN"
      },
      "source": [
        "### Bidirectional Stacked Recurrent Neural Net"
      ]
    },
    {
      "cell_type": "code",
      "metadata": {
        "id": "rKVUnt9E-RaN"
      },
      "source": [
        "class RNN(nn.Module):\n",
        "    \"\"\"\n",
        "    Bidirectional Stacked Recurrent Neural Net with LSTM /GRU cells\n",
        "\n",
        "    Structure:\n",
        "      Input, hidden and output layers\n",
        "      Number of layers > 1\n",
        "      Bidirectional=True\n",
        "    \n",
        "    Output layer:\n",
        "      Linear\n",
        "      Sigmoid activation function\n",
        "    \"\"\"\n",
        "    def __init__(self, cell_type, input_size, output_size, hidden_size=100, num_layers=1, dropout=0):\n",
        "        super(RNN, self).__init__()\n",
        "        \n",
        "        cells = {\n",
        "        \"RNN\" : nn.RNN,\n",
        "        \"LSTM\" : nn.LSTM,\n",
        "        \"GRU\" : nn.GRU\n",
        "        }\n",
        "\n",
        "        # class initializations\n",
        "        self.cell_type = cell_type\n",
        "        self.input_size = input_size \n",
        "        self.hidden_size = hidden_size\n",
        "        self.num_layers = num_layers\n",
        "        self.output_size = output_size\n",
        "\n",
        "        self.rnn = cells[cell_type](         # RNN / LSTM / GRU model\n",
        "            input_size=input_size,           # input layer's size\n",
        "            hidden_size=hidden_size,         # hidden layer's size\n",
        "            num_layers=num_layers,           # number of layers \n",
        "            bidirectional=True,              # bidirectional RNN \n",
        "            batch_first=True,                # input's and output's first dimension has batch size\n",
        "            dropout=dropout                  # add dropout layer after rnn layer\n",
        "        )\n",
        "        \n",
        "        self.FC = nn.Linear(hidden_size * 2, output_size) # we need 2 extra layers as the output to the final layer because RNN is bidirectional\n",
        "            \n",
        "    def forward(self, x):\n",
        "        # LSTM cells return the last cell states\n",
        "        if self.cell_type == 'LSTM':\n",
        "            out, (last_hidden_state, last_cell_state) = self.rnn(x) \n",
        "        else:\n",
        "            out, last_hidden_state = self.rnn(x)\n",
        "            \n",
        "        output = self.FC(out)\n",
        "\n",
        "        return F.sigmoid(output) \n",
        "\n",
        "    def predict(self, x):\n",
        "        Y_pred = self.forward(x)\n",
        "        return Y_pred"
      ],
      "execution_count": 29,
      "outputs": []
    },
    {
      "cell_type": "code",
      "metadata": {
        "id": "HM6HJA6ZspsR"
      },
      "source": [
        "# function that trains a Neural Net and returns the loss history\n",
        "# with manual implementation of Early Stopping and BCELoss loss function\n",
        "def fit(net, train_X, train_y, epochs, learning_rate, batch_size, patience):\n",
        "  not_improved = 0\n",
        "  early_stop = False\n",
        "  min_ls = np.Inf # initialize minimum loss\n",
        "  \n",
        "  train_ls = []\n",
        "  train_iter = d2l.load_array((train_X, train_y), batch_size) # split train set in batches\n",
        "  \n",
        "  optimizer = torch.optim.Adam(net.parameters(), lr=learning_rate) # Adam Optimizer\n",
        "  for epoch in range(epochs):\n",
        "    epoch_ls = 0\n",
        "    for X, y in train_iter:\n",
        "      criterion = nn.BCELoss() # use BCELoss to calucalate the loss\n",
        "\n",
        "      dim = X.shape[1]\n",
        "      X = X.unsqueeze(1) \n",
        "      X = X.expand(batch_size, dim, dim) # expand to 3D\n",
        "      net_x = torch.mean(net(X.float()), dim=1) # calculate mean\n",
        "\n",
        "      y = y.unsqueeze(1) \n",
        "\n",
        "      l = criterion(net_x, y) # calculate batch's loss\n",
        "      epoch_ls += l.item() # sum all batches' losses of current epoch\n",
        "      optimizer.zero_grad()\n",
        "      l.backward()\n",
        "\n",
        "      optimizer.step()\n",
        "    \n",
        "    mean_ls = epoch_ls / len(train_iter) # calculate the mean loss of the current epoch\n",
        "    mean_ls = round(mean_ls, 6) # round up the loss to the 6th decimal digit\n",
        "\n",
        "    if mean_ls < min_ls: # store minimum loss\n",
        "      not_improved = 0\n",
        "      min_ls = mean_ls\n",
        "\n",
        "    else:\n",
        "      not_improved += 1 # raise not_improved counter\n",
        "\n",
        "    if (epoch + 1) >= patience and not_improved == patience: # apply early stopping \n",
        "      print(\"Early stopping! (patience = \" + str(patience) + \")\")\n",
        "      early_stop = True\n",
        "      break\n",
        "\n",
        "    print(f'epoch {epoch + 1}, loss {mean_ls:f}') \n",
        "    train_ls.append(mean_ls)\n",
        "\n",
        "  return train_ls\n",
        "\n",
        "# function that executes the Neural Net training and prints the loss per epoch, applying Early Stopping\n",
        "def train_net(device, net, train_X, train_y, sample, epochs=10, lr=0.1, batch=1, patience=3):\n",
        "  # add parameters to device\n",
        "  train_X = train_X.to(device)\n",
        "  train_y = train_y.to(device)\n",
        "  net.to(device)\n",
        "\n",
        "  # execute fit with Early Stopping on train set\n",
        "  train_ls = fit(net, train_X[:sample], train_y[:sample], epochs=epochs, learning_rate=lr, batch_size=batch, patience=patience) \n",
        "  print(f'\\nFinal loss {train_ls[-1]:f}')\n",
        "\n",
        "  return train_ls "
      ],
      "execution_count": 30,
      "outputs": []
    },
    {
      "cell_type": "code",
      "metadata": {
        "id": "OZu7Nyttmh6x"
      },
      "source": [
        "from sklearn import metrics\n",
        "\n",
        "# function that executes prediction on test set using sigmoid activation function on output layer\n",
        "def predict_on_test(device, net, test_X, test_y, batch_size=1):\n",
        "  test_iter = d2l.load_array((test_X, test_y), batch_size) # split train set in batches\n",
        "  \n",
        "  prec, rec, f1 = 0, 0, 0\n",
        "  for X, y in test_iter:\n",
        "    dim = X.shape[1]\n",
        "    X = X.unsqueeze(1)\n",
        "    X = X.expand(X.shape[0], dim, dim)\n",
        "    \n",
        "    # add parameters to device\n",
        "    X = X.to(device)\n",
        "    y = y.to(device)\n",
        "\n",
        "    y_pred = net.predict(X) # execute predict on test set\n",
        "    y_pred = torch.mean(y_pred, dim=1) # calculate mean\n",
        "    y_pred = y_pred.cpu().data.numpy() # convert to numpy\n",
        "\n",
        "    y_pred = np.where(y_pred >= 0.5, 1, 0) # if prediction is >= 0.5 set it to 1\n",
        "\n",
        "    y = y.cpu().data.numpy() # convert to numpy \n",
        "\n",
        "    p = metrics.precision_score(y, y_pred)\n",
        "    r = metrics.recall_score(y, y_pred)\n",
        "    f = metrics.f1_score(y, y_pred)\n",
        "\n",
        "    prec += p # sum all batches' precision\n",
        "    rec += r # sum all batches' recall\n",
        "    f1 += f # sum all batches' f1 score\n",
        "      \n",
        "  mean_prec = prec / len(test_iter) # calculate the mean precision of test set\n",
        "  mean_rec = rec / len(test_iter) # calculate the mean recall of test set\n",
        "  mean_f1 = f1 / len(test_iter) # calculate the mean f1 score of test set\n",
        "\n",
        "  final_prec = \"%.3f%%\" % (mean_prec * 100)\n",
        "  final_rec = \"%.3f%%\" % (mean_rec * 100)\n",
        "  final_f1 = \"%.3f%%\" % (mean_f1 * 100)\n",
        "\n",
        "  return final_prec, final_rec, final_f1"
      ],
      "execution_count": 31,
      "outputs": []
    },
    {
      "cell_type": "markdown",
      "metadata": {
        "id": "Q0Dzsc_13Ch8"
      },
      "source": [
        "### Train & Predict"
      ]
    },
    {
      "cell_type": "code",
      "metadata": {
        "colab": {
          "base_uri": "https://localhost:8080/"
        },
        "id": "mPZfeCWpwjdn",
        "outputId": "c4ccf07f-14ed-479f-e4c4-99949fecd1e1"
      },
      "source": [
        "# enable gpu for faster execution\n",
        "device = torch.device(\"cuda\" if torch.cuda.is_available() else \"cpu\")\n",
        "print(\"Device available for running: \")\n",
        "print(device)"
      ],
      "execution_count": 32,
      "outputs": [
        {
          "output_type": "stream",
          "text": [
            "Device available for running: \n",
            "cuda\n"
          ],
          "name": "stdout"
        }
      ]
    },
    {
      "cell_type": "markdown",
      "metadata": {
        "id": "AaouUOywTb8d"
      },
      "source": [
        "#### Tf-idf"
      ]
    },
    {
      "cell_type": "code",
      "metadata": {
        "id": "z5lFA-3TTn17"
      },
      "source": [
        "# initialize dataframe to display metrics\n",
        "tfidf_df = display_metrics('LSTM-TFIDF')"
      ],
      "execution_count": 33,
      "outputs": []
    },
    {
      "cell_type": "code",
      "metadata": {
        "colab": {
          "base_uri": "https://localhost:8080/"
        },
        "id": "6YSQNmDuTn18",
        "outputId": "fd5f7554-f59c-41a6-eff8-47db0d39117f"
      },
      "source": [
        "# initialize parameters\n",
        "lstm_cell = 'LSTM'                # model\n",
        "input_size = train_tfidf.shape[1] # number of input neurons\n",
        "output_size = 1                   # number of output neurons\n",
        "hidden_size = 2 * input_size      # number of hidden neurons\n",
        "num_layers = 2                    # number of stacked layers\n",
        "dropout = 0.2                     # dropout probability\n",
        "\n",
        "tfidf_net = RNN(lstm_cell, input_size, output_size, hidden_size, num_layers, dropout)\n",
        "print(tfidf_net)"
      ],
      "execution_count": 34,
      "outputs": [
        {
          "output_type": "stream",
          "text": [
            "RNN(\n",
            "  (rnn): LSTM(50, 100, num_layers=2, batch_first=True, dropout=0.2, bidirectional=True)\n",
            "  (FC): Linear(in_features=200, out_features=1, bias=True)\n",
            ")\n"
          ],
          "name": "stdout"
        }
      ]
    },
    {
      "cell_type": "code",
      "metadata": {
        "colab": {
          "base_uri": "https://localhost:8080/"
        },
        "id": "rBsuvBtYTn19",
        "outputId": "e86ecbf4-f4a8-40b9-a238-dabd950b6b6d"
      },
      "source": [
        "sample=train_tfidf.shape[0] # use the whole training set\n",
        "epochs=10                   # number of epochs\n",
        "lr=0.005                    # learning rate\n",
        "batch=1024                  # batch size\n",
        "patience=3                  # number of epochs, where loss doesn't improve\n",
        "\n",
        "# train Neural Net\n",
        "train_net(device, tfidf_net, train_tfidf, train_y, sample, epochs, lr, batch, patience) \n",
        "\n",
        "# predict on test set\n",
        "(tfidf_df.loc['LSTM-TFIDF','Precision'], \n",
        " tfidf_df.loc['LSTM-TFIDF','Recall'], \n",
        " tfidf_df.loc['LSTM-TFIDF','F1-Score']) = predict_on_test(device, tfidf_net, test_tfidf, test_y, batch) "
      ],
      "execution_count": 35,
      "outputs": [
        {
          "output_type": "stream",
          "text": [
            "epoch 1, loss 0.631548\n",
            "epoch 2, loss 0.629052\n",
            "epoch 3, loss 0.628191\n",
            "epoch 4, loss 0.627632\n",
            "epoch 5, loss 0.627326\n",
            "epoch 6, loss 0.626994\n",
            "epoch 7, loss 0.626656\n",
            "epoch 8, loss 0.626432\n",
            "epoch 9, loss 0.629573\n",
            "epoch 10, loss 0.633482\n",
            "\n",
            "Final loss 0.633482\n"
          ],
          "name": "stdout"
        }
      ]
    },
    {
      "cell_type": "code",
      "metadata": {
        "colab": {
          "base_uri": "https://localhost:8080/",
          "height": 80
        },
        "id": "hZ2GlmfMTn19",
        "outputId": "bcec0663-2105-493d-b43c-868256292208"
      },
      "source": [
        "tfidf_df"
      ],
      "execution_count": 36,
      "outputs": [
        {
          "output_type": "execute_result",
          "data": {
            "text/html": [
              "<div>\n",
              "<style scoped>\n",
              "    .dataframe tbody tr th:only-of-type {\n",
              "        vertical-align: middle;\n",
              "    }\n",
              "\n",
              "    .dataframe tbody tr th {\n",
              "        vertical-align: top;\n",
              "    }\n",
              "\n",
              "    .dataframe thead th {\n",
              "        text-align: right;\n",
              "    }\n",
              "</style>\n",
              "<table border=\"1\" class=\"dataframe\">\n",
              "  <thead>\n",
              "    <tr style=\"text-align: right;\">\n",
              "      <th></th>\n",
              "      <th>Precision</th>\n",
              "      <th>Recall</th>\n",
              "      <th>F1-Score</th>\n",
              "    </tr>\n",
              "  </thead>\n",
              "  <tbody>\n",
              "    <tr>\n",
              "      <th>LSTM-TFIDF</th>\n",
              "      <td>63.523%</td>\n",
              "      <td>50.613%</td>\n",
              "      <td>56.314%</td>\n",
              "    </tr>\n",
              "  </tbody>\n",
              "</table>\n",
              "</div>"
            ],
            "text/plain": [
              "           Precision   Recall F1-Score\n",
              "LSTM-TFIDF   63.523%  50.613%  56.314%"
            ]
          },
          "metadata": {
            "tags": []
          },
          "execution_count": 36
        }
      ]
    },
    {
      "cell_type": "markdown",
      "metadata": {
        "id": "47MvXCMCBoO6"
      },
      "source": [
        "**In our first experiment, we implement a bidirectional stacked RNN model using tf-idf input vectors. This model is implemented based on parametres that are proven to be the most appropriate for our classification problem, after experimenting with our best bidirectional stacked RNN Neural Network with glove embeddings, which we will present later on. <br> We train all our RNN models with BCELoss loss function and we use sigmoid activation function (ideal for binary classification) in the output layer. Our best model is implemented using LSTM cells, dropout layers with 0.2 probability and the learning rate is 0.005. The number of hidden neurons is twice the number of input neurons and the number of stacked layers should normally be 3 for better results, but we set it to 2 for faster execution (We experiment with the number of stacked layers later). Moreover, aiming to avoid overfitting we train our RNNs with the Early Stopping technique, with patience=3. In our experiments we notice, that Early Stopping is indeed applied sooner or later depending on our model parametres. <br> Subsequently, we will explain thoroughly the reason why the above parametres are the best ones. Besides, the purpose of our first experiment is to prove the inability of tf-idf vectors to produce satisfying classification results. <br> Αfter conducting all our experiments with glove embeddings we observe that the above loss is worse by 0.1 or more compared to most experiments with glove RNN models. Furthermore, the prediction scores are very imbalanced and far worse than the glove RNNs ones. Therefore, there is no reason for further experementation with tf-idf input vectors.**\r\n"
      ]
    },
    {
      "cell_type": "markdown",
      "metadata": {
        "id": "56JssDknTOhi"
      },
      "source": [
        "#### GloVe\n"
      ]
    },
    {
      "cell_type": "markdown",
      "metadata": {
        "id": "h1c974bjZUzv"
      },
      "source": [
        "##### RNN"
      ]
    },
    {
      "cell_type": "code",
      "metadata": {
        "id": "16Y9w4cWZp-a"
      },
      "source": [
        "# initialize dataframe to display metrics\n",
        "rnn_df = display_metrics('RNN-GLOVE')"
      ],
      "execution_count": 37,
      "outputs": []
    },
    {
      "cell_type": "code",
      "metadata": {
        "colab": {
          "base_uri": "https://localhost:8080/"
        },
        "id": "Z7c8hUaFZp-a",
        "outputId": "2ea87fb0-8401-44b1-874e-b5b29b7cf58d"
      },
      "source": [
        "# initialize parameters\n",
        "rnn_cell = 'RNN'                  # model\n",
        "input_size = train_glove.shape[1] # number of input neurons\n",
        "output_size = 1                   # number of output neurons\n",
        "hidden_size = 2 * input_size      # number of hidden neurons\n",
        "num_layers = 2                    # number of stacked layers\n",
        "dropout = 0.2                     # dropout probability\n",
        "\n",
        "rnn_net = RNN(rnn_cell, input_size, output_size, hidden_size, num_layers, dropout)\n",
        "print(rnn_net)"
      ],
      "execution_count": 38,
      "outputs": [
        {
          "output_type": "stream",
          "text": [
            "RNN(\n",
            "  (rnn): RNN(50, 100, num_layers=2, batch_first=True, dropout=0.2, bidirectional=True)\n",
            "  (FC): Linear(in_features=200, out_features=1, bias=True)\n",
            ")\n"
          ],
          "name": "stdout"
        }
      ]
    },
    {
      "cell_type": "code",
      "metadata": {
        "colab": {
          "base_uri": "https://localhost:8080/"
        },
        "id": "qrXsBPyqZp-b",
        "outputId": "e6730b63-b585-488f-f01c-16ce37b12cd5"
      },
      "source": [
        "sample=train_glove.shape[0] # use the whole training set\n",
        "epochs=10                   # number of epochs\n",
        "lr=0.005                    # learning rate\n",
        "batch=1024                  # batch size\n",
        "patience=3                  # number of epochs, where loss doesn't improve\n",
        "\n",
        "# train Neural Net\n",
        "train_net(device, rnn_net, train_glove, train_y, sample, epochs, lr, batch, patience) \n",
        "\n",
        "# predict on test set\n",
        "(rnn_df.loc['RNN-GLOVE','Precision'], \n",
        " rnn_df.loc['RNN-GLOVE','Recall'], \n",
        " rnn_df.loc['RNN-GLOVE','F1-Score']) = predict_on_test(device, rnn_net, test_glove, test_y, batch) "
      ],
      "execution_count": 39,
      "outputs": [
        {
          "output_type": "stream",
          "text": [
            "epoch 1, loss 0.601485\n",
            "epoch 2, loss 0.595943\n",
            "epoch 3, loss 0.590860\n",
            "epoch 4, loss 0.587495\n",
            "epoch 5, loss 0.586926\n",
            "epoch 6, loss 0.583072\n",
            "epoch 7, loss 0.580005\n",
            "epoch 8, loss 0.610617\n",
            "epoch 9, loss 0.602646\n",
            "Early stopping! (patience = 3)\n",
            "\n",
            "Final loss 0.602646\n"
          ],
          "name": "stdout"
        }
      ]
    },
    {
      "cell_type": "code",
      "metadata": {
        "colab": {
          "base_uri": "https://localhost:8080/",
          "height": 80
        },
        "id": "lbPbRguAZp-c",
        "outputId": "4293ecf1-194d-49c6-aa62-539c9f7ce2b9"
      },
      "source": [
        "rnn_df"
      ],
      "execution_count": 40,
      "outputs": [
        {
          "output_type": "execute_result",
          "data": {
            "text/html": [
              "<div>\n",
              "<style scoped>\n",
              "    .dataframe tbody tr th:only-of-type {\n",
              "        vertical-align: middle;\n",
              "    }\n",
              "\n",
              "    .dataframe tbody tr th {\n",
              "        vertical-align: top;\n",
              "    }\n",
              "\n",
              "    .dataframe thead th {\n",
              "        text-align: right;\n",
              "    }\n",
              "</style>\n",
              "<table border=\"1\" class=\"dataframe\">\n",
              "  <thead>\n",
              "    <tr style=\"text-align: right;\">\n",
              "      <th></th>\n",
              "      <th>Precision</th>\n",
              "      <th>Recall</th>\n",
              "      <th>F1-Score</th>\n",
              "    </tr>\n",
              "  </thead>\n",
              "  <tbody>\n",
              "    <tr>\n",
              "      <th>RNN-GLOVE</th>\n",
              "      <td>66.873%</td>\n",
              "      <td>71.564%</td>\n",
              "      <td>69.121%</td>\n",
              "    </tr>\n",
              "  </tbody>\n",
              "</table>\n",
              "</div>"
            ],
            "text/plain": [
              "          Precision   Recall F1-Score\n",
              "RNN-GLOVE   66.873%  71.564%  69.121%"
            ]
          },
          "metadata": {
            "tags": []
          },
          "execution_count": 40
        }
      ]
    },
    {
      "cell_type": "markdown",
      "metadata": {
        "id": "8ioL1sPuMt9h"
      },
      "source": [
        "**From our second experiment and afterwards, we implement RNN models using glove input vectors. Our concept is to keep the best parametres fixed and change just one parametre in each experiment. Our goal is to prove that the each parametre we change is not the best one for our classification problem. In our second experiment, we choose not to use LSTM or GRU cells. So we implement a RNN model with tanh non-linearity. We prefer tanh non-linearity over ReLu, because after conducting a small experiment, ReLu proved to produce terrible loss values and the model didn't converge. We also keep using 2 stacked layers instead of 3 for faster execution. <br> The positive outcome of our second experiment is that we achieve a big improvement in the prediction scores. Specifically, the scores are slightly more balanced and F1 Score has a rate that is close to the F1 Score of our best model. On the other hand, as we can see the loss values are still high compared to our following experiments and we observe that at the model begins to overfit as Early Stopping is applied. It's obvious that a model, which overfits is not reliable. Consequently, we should experiment with different cell types, in order to improve the loss convergence and eliminate the overfitting problem.**\r\n"
      ]
    },
    {
      "cell_type": "markdown",
      "metadata": {
        "id": "EbdlylGudJeb"
      },
      "source": [
        "##### GRU"
      ]
    },
    {
      "cell_type": "code",
      "metadata": {
        "id": "z1j7hSRCdQeb"
      },
      "source": [
        "# initialize dataframe to display metrics\n",
        "gru_df = display_metrics('GRU-GLOVE')"
      ],
      "execution_count": 41,
      "outputs": []
    },
    {
      "cell_type": "code",
      "metadata": {
        "colab": {
          "base_uri": "https://localhost:8080/"
        },
        "id": "iAAnEgTjdQep",
        "outputId": "b8679c70-696e-4ffd-c3d4-f6c2a01abd6f"
      },
      "source": [
        "# initialize parameters\n",
        "gru_cell = 'GRU'                  # model\n",
        "input_size = train_glove.shape[1] # number of input neurons\n",
        "output_size = 1                   # number of output neurons\n",
        "hidden_size = 2 * input_size      # number of hidden neurons\n",
        "num_layers = 2                    # number of stacked layers\n",
        "dropout = 0.2                     # dropout probability\n",
        "\n",
        "gru_net = RNN(gru_cell, input_size, output_size, hidden_size, num_layers, dropout)\n",
        "print(gru_net)"
      ],
      "execution_count": 42,
      "outputs": [
        {
          "output_type": "stream",
          "text": [
            "RNN(\n",
            "  (rnn): GRU(50, 100, num_layers=2, batch_first=True, dropout=0.2, bidirectional=True)\n",
            "  (FC): Linear(in_features=200, out_features=1, bias=True)\n",
            ")\n"
          ],
          "name": "stdout"
        }
      ]
    },
    {
      "cell_type": "code",
      "metadata": {
        "colab": {
          "base_uri": "https://localhost:8080/"
        },
        "id": "stbSwAsRdQeq",
        "outputId": "d0ab891e-eb37-4976-a7e9-466f8d03874a"
      },
      "source": [
        "sample=train_glove.shape[0] # use the whole training set\n",
        "epochs=10                   # number of epochs\n",
        "lr=0.005                    # learning rate\n",
        "batch=1024                  # batch size\n",
        "patience=3                  # number of epochs, where loss doesn't improve\n",
        "\n",
        "# train Neural Net\n",
        "train_net(device, gru_net, train_glove, train_y, sample, epochs, lr, batch, patience) \n",
        "\n",
        "# predict on test set\n",
        "(gru_df.loc['GRU-GLOVE','Precision'], \n",
        " gru_df.loc['GRU-GLOVE','Recall'], \n",
        " gru_df.loc['GRU-GLOVE','F1-Score']) = predict_on_test(device, gru_net, test_glove, test_y, batch) "
      ],
      "execution_count": 43,
      "outputs": [
        {
          "output_type": "stream",
          "text": [
            "epoch 1, loss 0.580139\n",
            "epoch 2, loss 0.556862\n",
            "epoch 3, loss 0.547185\n",
            "epoch 4, loss 0.539554\n",
            "epoch 5, loss 0.535844\n",
            "epoch 6, loss 0.535861\n",
            "epoch 7, loss 0.534980\n",
            "epoch 8, loss 0.530525\n",
            "epoch 9, loss 0.534642\n",
            "epoch 10, loss 0.535554\n",
            "\n",
            "Final loss 0.535554\n"
          ],
          "name": "stdout"
        }
      ]
    },
    {
      "cell_type": "code",
      "metadata": {
        "colab": {
          "base_uri": "https://localhost:8080/",
          "height": 80
        },
        "id": "xC_m0wNVdQer",
        "outputId": "2d1a1c15-457e-463b-8d9d-a1293e646a4e"
      },
      "source": [
        "gru_df"
      ],
      "execution_count": 44,
      "outputs": [
        {
          "output_type": "execute_result",
          "data": {
            "text/html": [
              "<div>\n",
              "<style scoped>\n",
              "    .dataframe tbody tr th:only-of-type {\n",
              "        vertical-align: middle;\n",
              "    }\n",
              "\n",
              "    .dataframe tbody tr th {\n",
              "        vertical-align: top;\n",
              "    }\n",
              "\n",
              "    .dataframe thead th {\n",
              "        text-align: right;\n",
              "    }\n",
              "</style>\n",
              "<table border=\"1\" class=\"dataframe\">\n",
              "  <thead>\n",
              "    <tr style=\"text-align: right;\">\n",
              "      <th></th>\n",
              "      <th>Precision</th>\n",
              "      <th>Recall</th>\n",
              "      <th>F1-Score</th>\n",
              "    </tr>\n",
              "  </thead>\n",
              "  <tbody>\n",
              "    <tr>\n",
              "      <th>GRU-GLOVE</th>\n",
              "      <td>69.365%</td>\n",
              "      <td>73.252%</td>\n",
              "      <td>71.237%</td>\n",
              "    </tr>\n",
              "  </tbody>\n",
              "</table>\n",
              "</div>"
            ],
            "text/plain": [
              "          Precision   Recall F1-Score\n",
              "GRU-GLOVE   69.365%  73.252%  71.237%"
            ]
          },
          "metadata": {
            "tags": []
          },
          "execution_count": 44
        }
      ]
    },
    {
      "cell_type": "markdown",
      "metadata": {
        "id": "MIQe2KE4YrFc"
      },
      "source": [
        "**In our third experiment, we aim to eliminate overfitting and reduce the loss by using GRU cells. <br> From the beginning of the training we are lucky to observe a small loss reduction by 0.02 compared to our previous model. We also note that the prediction scores are significantly better than the scores produced by our previous model. Yet, the model begins to overfit once again. The Early Stopping technique is sooner or later applied, depending on the moment that overfitting begins. Therefore, our new model doesn't help us accomplish our initial goal and we are in fact obligated to experiment with the only cell type left, the LSTM.**\r\n"
      ]
    },
    {
      "cell_type": "markdown",
      "metadata": {
        "id": "y7JZeu2FlcIp"
      },
      "source": [
        "##### LSTM - Learning Rate Effect"
      ]
    },
    {
      "cell_type": "code",
      "metadata": {
        "id": "v-XtAch3lcI3"
      },
      "source": [
        "# initialize dataframe to display metrics\n",
        "lstmLR_df = display_metrics('LSTM-GLOVE-LR')"
      ],
      "execution_count": 45,
      "outputs": []
    },
    {
      "cell_type": "code",
      "metadata": {
        "colab": {
          "base_uri": "https://localhost:8080/"
        },
        "id": "8U_WTvTWlcI4",
        "outputId": "47863fdf-9caa-4dca-a2e0-3248a9b7fbf6"
      },
      "source": [
        "# initialize parameters\n",
        "lstm_cell = 'LSTM'                # model\n",
        "input_size = train_glove.shape[1] # number of input neurons\n",
        "output_size = 1                   # number of output neurons\n",
        "hidden_size = 2 * input_size      # number of hidden neurons\n",
        "num_layers = 2                    # number of stacked layers\n",
        "dropout = 0.2                     # dropout probability\n",
        "\n",
        "lstmLR_net = RNN(lstm_cell, input_size, output_size, hidden_size, num_layers, dropout)\n",
        "print(lstmLR_net)"
      ],
      "execution_count": 46,
      "outputs": [
        {
          "output_type": "stream",
          "text": [
            "RNN(\n",
            "  (rnn): LSTM(50, 100, num_layers=2, batch_first=True, dropout=0.2, bidirectional=True)\n",
            "  (FC): Linear(in_features=200, out_features=1, bias=True)\n",
            ")\n"
          ],
          "name": "stdout"
        }
      ]
    },
    {
      "cell_type": "code",
      "metadata": {
        "colab": {
          "base_uri": "https://localhost:8080/"
        },
        "id": "TSHEHLJblcI6",
        "outputId": "c8a0e4d3-9d2c-4c1d-f5e8-8e06ef366b50"
      },
      "source": [
        "sample=train_glove.shape[0] # use the whole training set\n",
        "epochs=10                   # number of epochs\n",
        "lr=0.01                     # learning rate\n",
        "batch=1024                  # batch size\n",
        "patience=3                  # number of epochs, where loss doesn't improve\n",
        "\n",
        "# train Neural Net\n",
        "train_net(device, lstmLR_net, train_glove, train_y, sample, epochs, lr, batch, patience) \n",
        "\n",
        "# predict on test set\n",
        "(lstmLR_df.loc['LSTM-GLOVE-LR','Precision'], \n",
        " lstmLR_df.loc['LSTM-GLOVE-LR','Recall'], \n",
        " lstmLR_df.loc['LSTM-GLOVE-LR','F1-Score']) = predict_on_test(device, lstmLR_net, test_glove, test_y, batch) "
      ],
      "execution_count": 47,
      "outputs": [
        {
          "output_type": "stream",
          "text": [
            "epoch 1, loss 0.577590\n",
            "epoch 2, loss 0.555778\n",
            "epoch 3, loss 0.547897\n",
            "epoch 4, loss 0.542875\n",
            "epoch 5, loss 0.563727\n",
            "epoch 6, loss 0.601713\n",
            "Early stopping! (patience = 3)\n",
            "\n",
            "Final loss 0.601713\n"
          ],
          "name": "stdout"
        }
      ]
    },
    {
      "cell_type": "code",
      "metadata": {
        "colab": {
          "base_uri": "https://localhost:8080/",
          "height": 80
        },
        "id": "7AN1Ga9elcI7",
        "outputId": "7a4738c9-d55d-43bf-ebba-012d50a1de0f"
      },
      "source": [
        "lstmLR_df"
      ],
      "execution_count": 48,
      "outputs": [
        {
          "output_type": "execute_result",
          "data": {
            "text/html": [
              "<div>\n",
              "<style scoped>\n",
              "    .dataframe tbody tr th:only-of-type {\n",
              "        vertical-align: middle;\n",
              "    }\n",
              "\n",
              "    .dataframe tbody tr th {\n",
              "        vertical-align: top;\n",
              "    }\n",
              "\n",
              "    .dataframe thead th {\n",
              "        text-align: right;\n",
              "    }\n",
              "</style>\n",
              "<table border=\"1\" class=\"dataframe\">\n",
              "  <thead>\n",
              "    <tr style=\"text-align: right;\">\n",
              "      <th></th>\n",
              "      <th>Precision</th>\n",
              "      <th>Recall</th>\n",
              "      <th>F1-Score</th>\n",
              "    </tr>\n",
              "  </thead>\n",
              "  <tbody>\n",
              "    <tr>\n",
              "      <th>LSTM-GLOVE-LR</th>\n",
              "      <td>67.505%</td>\n",
              "      <td>67.383%</td>\n",
              "      <td>67.425%</td>\n",
              "    </tr>\n",
              "  </tbody>\n",
              "</table>\n",
              "</div>"
            ],
            "text/plain": [
              "              Precision   Recall F1-Score\n",
              "LSTM-GLOVE-LR   67.505%  67.383%  67.425%"
            ]
          },
          "metadata": {
            "tags": []
          },
          "execution_count": 48
        }
      ]
    },
    {
      "cell_type": "markdown",
      "metadata": {
        "id": "_4O-2G9bgWWJ"
      },
      "source": [
        "**From our fourth experiment and afterwards, we implement RNN Neural Networks using LSTM cells, as LSTM is gradually proven to be the ideal cell type for our classification problem. So we keep experimenting with the remaining parametres. <br> In our fourth experiment, we try to show the importance of the learning rate and the big effect it can have to a model's convergence. That's why we change the learning rate from 0.05 to 0.01, which theoretically shouldn't make a significant difference. At first sight, the model seems to converge fine, but it doesn't take long to realise that our model begins once again to overfit as Early Stopping is applied. Concerning the prediction scores, they seem balanced but they are worse than the previous onces.**\r\n"
      ]
    },
    {
      "cell_type": "markdown",
      "metadata": {
        "id": "GIDpo514e7aL"
      },
      "source": [
        "##### LSTM - 3 Stacked Layers"
      ]
    },
    {
      "cell_type": "code",
      "metadata": {
        "id": "Szwersrve7aO"
      },
      "source": [
        "# initialize dataframe to display metrics\n",
        "lstm3_df = display_metrics('LSTM-GLOVE-3')"
      ],
      "execution_count": 49,
      "outputs": []
    },
    {
      "cell_type": "code",
      "metadata": {
        "colab": {
          "base_uri": "https://localhost:8080/"
        },
        "id": "LFC1GwW3e7aP",
        "outputId": "ef7ff494-4080-4857-a018-f50d988b8582"
      },
      "source": [
        "# initialize parameters\n",
        "lstm_cell = 'LSTM'                # model\n",
        "input_size = train_glove.shape[1] # number of input neurons\n",
        "output_size = 1                   # number of output neurons\n",
        "hidden_size = 2 * input_size      # number of hidden neurons\n",
        "num_layers = 3                    # number of stacked layers\n",
        "dropout = 0.2                     # dropout probability\n",
        "\n",
        "lstm3_net = RNN(lstm_cell, input_size, output_size, hidden_size, num_layers, dropout)\n",
        "print(lstm3_net)"
      ],
      "execution_count": 50,
      "outputs": [
        {
          "output_type": "stream",
          "text": [
            "RNN(\n",
            "  (rnn): LSTM(50, 100, num_layers=3, batch_first=True, dropout=0.2, bidirectional=True)\n",
            "  (FC): Linear(in_features=200, out_features=1, bias=True)\n",
            ")\n"
          ],
          "name": "stdout"
        }
      ]
    },
    {
      "cell_type": "code",
      "metadata": {
        "colab": {
          "base_uri": "https://localhost:8080/"
        },
        "id": "1PPuv3Sne7aP",
        "outputId": "52868291-734d-4e91-9ec3-6fb6a48eb89b"
      },
      "source": [
        "sample=train_glove.shape[0] # use the whole training set\n",
        "epochs=10                   # number of epochs\n",
        "lr=0.005                    # learning rate\n",
        "batch=1024                  # batch size\n",
        "patience=3                  # number of epochs, where loss doesn't improve\n",
        "\n",
        "# train Neural Net\n",
        "train_net(device, lstm3_net, train_glove, train_y, sample, epochs, lr, batch, patience) \n",
        "\n",
        "# predict on test set\n",
        "(lstm3_df.loc['LSTM-GLOVE-3','Precision'], \n",
        " lstm3_df.loc['LSTM-GLOVE-3','Recall'], \n",
        " lstm3_df.loc['LSTM-GLOVE-3','F1-Score']) = predict_on_test(device, lstm3_net, test_glove, test_y, batch) "
      ],
      "execution_count": 51,
      "outputs": [
        {
          "output_type": "stream",
          "text": [
            "epoch 1, loss 0.576224\n",
            "epoch 2, loss 0.555022\n",
            "epoch 3, loss 0.546569\n",
            "epoch 4, loss 0.540741\n",
            "epoch 5, loss 0.536076\n",
            "epoch 6, loss 0.532324\n",
            "epoch 7, loss 0.528786\n",
            "epoch 8, loss 0.527463\n",
            "epoch 9, loss 0.525237\n",
            "epoch 10, loss 0.522132\n",
            "\n",
            "Final loss 0.522132\n"
          ],
          "name": "stdout"
        }
      ]
    },
    {
      "cell_type": "code",
      "metadata": {
        "colab": {
          "base_uri": "https://localhost:8080/",
          "height": 80
        },
        "id": "xnTBh6MTe7aQ",
        "outputId": "6ecda554-fd35-491d-b179-57d76dcd27db"
      },
      "source": [
        "lstm3_df"
      ],
      "execution_count": 52,
      "outputs": [
        {
          "output_type": "execute_result",
          "data": {
            "text/html": [
              "<div>\n",
              "<style scoped>\n",
              "    .dataframe tbody tr th:only-of-type {\n",
              "        vertical-align: middle;\n",
              "    }\n",
              "\n",
              "    .dataframe tbody tr th {\n",
              "        vertical-align: top;\n",
              "    }\n",
              "\n",
              "    .dataframe thead th {\n",
              "        text-align: right;\n",
              "    }\n",
              "</style>\n",
              "<table border=\"1\" class=\"dataframe\">\n",
              "  <thead>\n",
              "    <tr style=\"text-align: right;\">\n",
              "      <th></th>\n",
              "      <th>Precision</th>\n",
              "      <th>Recall</th>\n",
              "      <th>F1-Score</th>\n",
              "    </tr>\n",
              "  </thead>\n",
              "  <tbody>\n",
              "    <tr>\n",
              "      <th>LSTM-GLOVE-3</th>\n",
              "      <td>73.808%</td>\n",
              "      <td>67.553%</td>\n",
              "      <td>70.520%</td>\n",
              "    </tr>\n",
              "  </tbody>\n",
              "</table>\n",
              "</div>"
            ],
            "text/plain": [
              "             Precision   Recall F1-Score\n",
              "LSTM-GLOVE-3   73.808%  67.553%  70.520%"
            ]
          },
          "metadata": {
            "tags": []
          },
          "execution_count": 52
        }
      ]
    },
    {
      "cell_type": "markdown",
      "metadata": {
        "id": "hHVO5HZ78oVQ"
      },
      "source": [
        "**As we mentioned before we have trained all our RNN models with BCELoss loss function and we have used sigmoid activation function in the output layer. We also montioned that the best model is implemented using LSTM cells, dropout layers with 0.2 probability and the learning rate is 0.005. The number of hidden neurons is twice the number of input neurons and the number of stacked layers is 3. As we can see in our current, fifth experiment, our model contains all the above parametres and it is, typically, the most effective model of all in terms of loss convergence and prodiction scores, but in fact not the most useful one (best). We observe that thanks to the LSTM cells and the 3 stacked layers our model is converging faster than ever, manages to avoid overfitting and after all produces the best scores on the prediction set. Actually, we implemented a similar model with 4 stacked layers that produced slightly better results and one with 2 stacked layers that produced slightly worse results. We present the latter right below. The reason why we later on prefer to set the 2 stacked bidirectional RNN as our best model is the negligible difference compared to the 3 and 4 stacked RNNs both in loss convergence as in prediction scores combined with the significantly faster execution time of the 2 stacked RNN. In a few words as we will see below the 2 stacked bidirectional RNN is equally efficient and much faster than the 3 stacked bidirectional RNN.**\r\n"
      ]
    },
    {
      "cell_type": "markdown",
      "metadata": {
        "id": "yAUMmSm7gf0v"
      },
      "source": [
        "##### LSTM - Best Model"
      ]
    },
    {
      "cell_type": "code",
      "metadata": {
        "id": "aqGlRs5_53PW"
      },
      "source": [
        "# initialize dataframe to display metrics\n",
        "best_df = display_metrics('LSTM-GLOVE-BEST')"
      ],
      "execution_count": 53,
      "outputs": []
    },
    {
      "cell_type": "code",
      "metadata": {
        "id": "Ql7_Ph-gTOhi",
        "colab": {
          "base_uri": "https://localhost:8080/"
        },
        "outputId": "4ac4c528-3c6e-4435-cae0-6f94ec56e99c"
      },
      "source": [
        "# initialize parameters\n",
        "lstm_cell = 'LSTM'                # model\n",
        "input_size = train_glove.shape[1] # number of input neurons\n",
        "output_size = 1                   # number of output neurons\n",
        "hidden_size = 2 * input_size      # number of hidden neurons\n",
        "num_layers = 2                    # number of stacked layers\n",
        "dropout = 0.2                     # dropout probability\n",
        "\n",
        "best_net = RNN(lstm_cell, input_size, output_size, hidden_size, num_layers, dropout)\n",
        "print(best_net)"
      ],
      "execution_count": 54,
      "outputs": [
        {
          "output_type": "stream",
          "text": [
            "RNN(\n",
            "  (rnn): LSTM(50, 100, num_layers=2, batch_first=True, dropout=0.2, bidirectional=True)\n",
            "  (FC): Linear(in_features=200, out_features=1, bias=True)\n",
            ")\n"
          ],
          "name": "stdout"
        }
      ]
    },
    {
      "cell_type": "code",
      "metadata": {
        "colab": {
          "base_uri": "https://localhost:8080/"
        },
        "id": "ShzF80JgTOhi",
        "outputId": "6ec893c0-2c72-463b-cbba-3754ec9444e9"
      },
      "source": [
        "sample=train_glove.shape[0] # use the whole training set\n",
        "epochs=20                   # number of epochs\n",
        "lr=0.005                    # learning rate\n",
        "batch=2048                  # batch size\n",
        "patience=3                  # number of epochs, where loss doesn't improve\n",
        "\n",
        "# train Neural Net\n",
        "glove_ls = train_net(device, best_net, train_glove, train_y, sample, epochs, lr, batch, patience) \n",
        "\n",
        "# predict on test set\n",
        "(best_df.loc['LSTM-GLOVE-BEST','Precision'], \n",
        " best_df.loc['LSTM-GLOVE-BEST','Recall'], \n",
        " best_df.loc['LSTM-GLOVE-BEST','F1-Score']) = predict_on_test(device, best_net, test_glove, test_y, batch) "
      ],
      "execution_count": 55,
      "outputs": [
        {
          "output_type": "stream",
          "text": [
            "epoch 1, loss 0.578249\n",
            "epoch 2, loss 0.556724\n",
            "epoch 3, loss 0.548151\n",
            "epoch 4, loss 0.542525\n",
            "epoch 5, loss 0.537649\n",
            "epoch 6, loss 0.534102\n",
            "epoch 7, loss 0.530894\n",
            "epoch 8, loss 0.528769\n",
            "epoch 9, loss 0.525330\n",
            "epoch 10, loss 0.521799\n",
            "epoch 11, loss 0.518954\n",
            "epoch 12, loss 0.516601\n",
            "epoch 13, loss 0.513377\n",
            "epoch 14, loss 0.512035\n",
            "epoch 15, loss 0.509824\n",
            "epoch 16, loss 0.506401\n",
            "epoch 17, loss 0.502483\n",
            "epoch 18, loss 0.500309\n",
            "epoch 19, loss 0.497796\n",
            "epoch 20, loss 0.494170\n",
            "\n",
            "Final loss 0.494170\n"
          ],
          "name": "stdout"
        }
      ]
    },
    {
      "cell_type": "code",
      "metadata": {
        "id": "Ob2VtbJyP8hP",
        "colab": {
          "base_uri": "https://localhost:8080/",
          "height": 80
        },
        "outputId": "efc560f0-bc1f-4b83-e3f0-6fe74fdd724d"
      },
      "source": [
        "best_df"
      ],
      "execution_count": 56,
      "outputs": [
        {
          "output_type": "execute_result",
          "data": {
            "text/html": [
              "<div>\n",
              "<style scoped>\n",
              "    .dataframe tbody tr th:only-of-type {\n",
              "        vertical-align: middle;\n",
              "    }\n",
              "\n",
              "    .dataframe tbody tr th {\n",
              "        vertical-align: top;\n",
              "    }\n",
              "\n",
              "    .dataframe thead th {\n",
              "        text-align: right;\n",
              "    }\n",
              "</style>\n",
              "<table border=\"1\" class=\"dataframe\">\n",
              "  <thead>\n",
              "    <tr style=\"text-align: right;\">\n",
              "      <th></th>\n",
              "      <th>Precision</th>\n",
              "      <th>Recall</th>\n",
              "      <th>F1-Score</th>\n",
              "    </tr>\n",
              "  </thead>\n",
              "  <tbody>\n",
              "    <tr>\n",
              "      <th>LSTM-GLOVE-BEST</th>\n",
              "      <td>71.716%</td>\n",
              "      <td>71.919%</td>\n",
              "      <td>71.806%</td>\n",
              "    </tr>\n",
              "  </tbody>\n",
              "</table>\n",
              "</div>"
            ],
            "text/plain": [
              "                Precision   Recall F1-Score\n",
              "LSTM-GLOVE-BEST   71.716%  71.919%  71.806%"
            ]
          },
          "metadata": {
            "tags": []
          },
          "execution_count": 56
        }
      ]
    },
    {
      "cell_type": "markdown",
      "metadata": {
        "id": "fvBkLhcJ7syZ"
      },
      "source": [
        "**In our current, sixth experiment, we present our best model, which, as we mentioned, contains 2 stacked LSTM layers and the rest, best parametres that we showed above. We can see that our tellings are verified as our model's loss values are almost the same as the values of our previous 2 stacked RNN model (until epoch 10) and the scores on the prediction set are almost the same as well. The big advantage of our current-best model compared to our previous model is the much faster training execution. This is of course expected because of the smaller number of stacked layers used. The fast loss convergence is also verified when we train our model with 20 epochs as we observe for the first time the loss obtaining a value below 0.5 . <br><br>\n",
        "After having chosen our best model we experimented with some other parametres as well and we tried to explain the reason why these parametres are the ones that produce the best eperimental results. First of all, from our experiments we can draw the conclusion that in our classification problem LSTM Networks perform better than GRU Networks and much better than standard RNN Networks. We know that in theory it is difficult to train standard RNNs to solve problems that require learning long-term temporal dependencies. This is because the gradient of the loss function decays exponentially with time (vanishing gradient problem). It is a fact that a Sentiment Classification problem like ours is composed of plenty long-term temporal dependencies that determine the variability of a sentiment. So LSTMs' memory cells help to maintain information in memory for long periods of time. GRUs are similar to LSTMs, but use a simplified structure. Their structure is useful for faster training execution and better performance on small datasets. Yet, as we showed earlier our GRU model begins to overfit on our large dataset, that consists of many long-term temporal dependencies. <br> Moreover, we experimented with the gradient clipping technique and different dropout probabilities. The use of gradient clipping technique slowed down the training execution and led to a very slow loss convergence. Therefore, we didn't include it in our implementation. Finally, the dropout layers helped us reduce and sometimes fully eliminate the overfitting problem. Except from the above models, tha use 0.2 dropout probability, we also trained a model with 0.5 dropout probability, but the results were worse in both loss value and prediction accuracy terms.**\n"
      ]
    },
    {
      "cell_type": "markdown",
      "metadata": {
        "id": "d3zpMtck8I6J"
      },
      "source": [
        "### Loss - Epoch Diagram"
      ]
    },
    {
      "cell_type": "markdown",
      "metadata": {
        "id": "W09LurEPfcw1"
      },
      "source": [
        "**In the below Loss - Epoch Diagram we visualise the loss convergence of our best model epoch by epoch. It is obvious, that our best model <br> (2 stacked, bidirection LSTM) is converging fast and smoothly and it does not overfit.**\r\n"
      ]
    },
    {
      "cell_type": "code",
      "metadata": {
        "id": "pEhg5lfOTOhj",
        "colab": {
          "base_uri": "https://localhost:8080/",
          "height": 360
        },
        "outputId": "66c575a4-e820-4fca-d290-83b7aa6eee82"
      },
      "source": [
        "loss_per_epoch(glove_ls, 'LSTM-GLOVE-BEST')"
      ],
      "execution_count": 57,
      "outputs": [
        {
          "output_type": "display_data",
          "data": {
            "image/png": "[encoded data removed]",
            "text/plain": [
              "<Figure size 576x360 with 1 Axes>"
            ]
          },
          "metadata": {
            "tags": [],
            "needs_background": "light"
          }
        }
      ]
    },
    {
      "cell_type": "markdown",
      "metadata": {
        "id": "1of_QkvmF7Rr"
      },
      "source": [
        "### ROC Curve"
      ]
    },
    {
      "cell_type": "markdown",
      "metadata": {
        "id": "Jn55nlXEoipb"
      },
      "source": [
        "**The Auc Score of LSTM-GLOVE-BEST Neural Network, using pre-trained glove embeddings input vectors is ~80% and it's a decent score. As a matter of fact, the Auc Score is almost the same for all the models we experimented with. The high Auc Score means that the model has a good ability at measuring how often a sentiment rating is correct. We should be happy with our result, specially if we consider that Recurrent Neural Networks is a class of Neural Networks that are helpful in modeling sequencial data and they are not so effective at extracting local and position-invariant features. For tasks like Sentiment Analysis, where feature detection in text is more important (searching for angry terms, irony, sadness etc.), a Convolution Neural Network would produce the best results possible. <br> The Auc Score is visualized in the below ROC diagram, where the outcome is almost a perfect curve.**"
      ]
    },
    {
      "cell_type": "code",
      "metadata": {
        "colab": {
          "base_uri": "https://localhost:8080/",
          "height": 394
        },
        "id": "0-ZqQmixF7gn",
        "outputId": "7f34ad5b-7457-4824-d30b-46459d85229a"
      },
      "source": [
        "# display the best ROC diagram based on Auc Score\n",
        "roc_plot(best_net, test_glove, test_y, batch, 'LSTM-GLOVE-BEST')"
      ],
      "execution_count": 58,
      "outputs": [
        {
          "output_type": "display_data",
          "data": {
            "image/png": "[encoded data removed]",
            "text/plain": [
              "<Figure size 576x360 with 1 Axes>"
            ]
          },
          "metadata": {
            "tags": []
          }
        },
        {
          "output_type": "stream",
          "text": [
            "\n",
            "ROC Score =  79.698%\n"
          ],
          "name": "stdout"
        }
      ]
    },
    {
      "cell_type": "markdown",
      "metadata": {
        "id": "lk3bBsfYGURV"
      },
      "source": [
        "### Recurrent Neural Network vs Feed-Forward Neural Network"
      ]
    },
    {
      "cell_type": "code",
      "metadata": {
        "colab": {
          "base_uri": "https://localhost:8080/",
          "height": 111
        },
        "id": "EAUW__llZTpE",
        "outputId": "4778ae38-fee0-4ab9-8808-87a12641db9b"
      },
      "source": [
        "# initialize dataframe to display loss results \r\n",
        "ls_dic = {'FFNN-GLOVE':['-'], 'LSTM-GLOVE-BEST':['-']}\r\n",
        "ls_df = pd.DataFrame.from_dict(ls_dic, orient='index', columns=['Final-loss'])\r\n",
        "\r\n",
        "ls_df.loc['FFNN-GLOVE', 'Final-loss'] = '0.518319'\r\n",
        "ls_df.loc['LSTM-GLOVE-BEST', 'Final-loss'] = glove_ls[-1]\r\n",
        "ls_df"
      ],
      "execution_count": 59,
      "outputs": [
        {
          "output_type": "execute_result",
          "data": {
            "text/html": [
              "<div>\n",
              "<style scoped>\n",
              "    .dataframe tbody tr th:only-of-type {\n",
              "        vertical-align: middle;\n",
              "    }\n",
              "\n",
              "    .dataframe tbody tr th {\n",
              "        vertical-align: top;\n",
              "    }\n",
              "\n",
              "    .dataframe thead th {\n",
              "        text-align: right;\n",
              "    }\n",
              "</style>\n",
              "<table border=\"1\" class=\"dataframe\">\n",
              "  <thead>\n",
              "    <tr style=\"text-align: right;\">\n",
              "      <th></th>\n",
              "      <th>Final-loss</th>\n",
              "    </tr>\n",
              "  </thead>\n",
              "  <tbody>\n",
              "    <tr>\n",
              "      <th>FFNN-GLOVE</th>\n",
              "      <td>0.518319</td>\n",
              "    </tr>\n",
              "    <tr>\n",
              "      <th>LSTM-GLOVE-BEST</th>\n",
              "      <td>0.49417</td>\n",
              "    </tr>\n",
              "  </tbody>\n",
              "</table>\n",
              "</div>"
            ],
            "text/plain": [
              "                Final-loss\n",
              "FFNN-GLOVE        0.518319\n",
              "LSTM-GLOVE-BEST    0.49417"
            ]
          },
          "metadata": {
            "tags": []
          },
          "execution_count": 59
        }
      ]
    },
    {
      "cell_type": "markdown",
      "metadata": {
        "id": "guvFIocGjWoi"
      },
      "source": [
        "**We observe that both Neural Networks produce better results when using pre-trained glove embeddings input vectors. Firstly, we compare our best Recurrent Neural Network with our best Feed-Forward Neural Network of our first notebook, based on the loss convergence. We train our best models with 20 epochs in both cases and we notice that our bidirectional 2 stacked RNN model, using LSTM cells is converging faster than our best Feed-Forward Neural Network. That's a logical outcome, because as we mentioned earlier LSTMs are consisted of memory cells that are able to maintain information in memory for long periods of time.\r\n",
        "On the other hand, Feed-Foward Neural Networks are primarily used in cases where the data to be learned is neither sequential nor time-dependent. As a result, in a Sentiment Classification problem like ours, which is composed of plenty long-term temporal dependencies we expect our RNN to learn the data faster.**"
      ]
    },
    {
      "cell_type": "code",
      "metadata": {
        "colab": {
          "base_uri": "https://localhost:8080/",
          "height": 111
        },
        "id": "1yT4Fj89Yoj3",
        "outputId": "cc2a9860-9777-405d-8997-e14962d5fba8"
      },
      "source": [
        "# initialize dataframe to display metrics results \r\n",
        "sc_dic = {'FFNN-GLOVE':['-', '-', '-'], 'LSTM-GLOVE-BEST':['-', '-', '-']}\r\n",
        "sc_df = pd.DataFrame.from_dict(sc_dic, orient='index', columns=['Precision', 'Recall', 'F1-Score'])\r\n",
        "\r\n",
        "sc_df.loc['FFNN-GLOVE','Precision'] = '73.868%'\r\n",
        "sc_df.loc['FFNN-GLOVE','Recall'] = '73.475%'\r\n",
        "sc_df.loc['FFNN-GLOVE','F1-Score'] = '73.671%'\r\n",
        "\r\n",
        "sc_df.loc['LSTM-GLOVE-BEST','Precision'] = best_df.loc['LSTM-GLOVE-BEST','Precision']\r\n",
        "sc_df.loc['LSTM-GLOVE-BEST','Recall'] = best_df.loc['LSTM-GLOVE-BEST','Recall']\r\n",
        "sc_df.loc['LSTM-GLOVE-BEST','F1-Score'] = best_df.loc['LSTM-GLOVE-BEST','F1-Score']\r\n",
        "\r\n",
        "sc_df "
      ],
      "execution_count": 60,
      "outputs": [
        {
          "output_type": "execute_result",
          "data": {
            "text/html": [
              "<div>\n",
              "<style scoped>\n",
              "    .dataframe tbody tr th:only-of-type {\n",
              "        vertical-align: middle;\n",
              "    }\n",
              "\n",
              "    .dataframe tbody tr th {\n",
              "        vertical-align: top;\n",
              "    }\n",
              "\n",
              "    .dataframe thead th {\n",
              "        text-align: right;\n",
              "    }\n",
              "</style>\n",
              "<table border=\"1\" class=\"dataframe\">\n",
              "  <thead>\n",
              "    <tr style=\"text-align: right;\">\n",
              "      <th></th>\n",
              "      <th>Precision</th>\n",
              "      <th>Recall</th>\n",
              "      <th>F1-Score</th>\n",
              "    </tr>\n",
              "  </thead>\n",
              "  <tbody>\n",
              "    <tr>\n",
              "      <th>FFNN-GLOVE</th>\n",
              "      <td>73.868%</td>\n",
              "      <td>73.475%</td>\n",
              "      <td>73.671%</td>\n",
              "    </tr>\n",
              "    <tr>\n",
              "      <th>LSTM-GLOVE-BEST</th>\n",
              "      <td>71.716%</td>\n",
              "      <td>71.919%</td>\n",
              "      <td>71.806%</td>\n",
              "    </tr>\n",
              "  </tbody>\n",
              "</table>\n",
              "</div>"
            ],
            "text/plain": [
              "                Precision   Recall F1-Score\n",
              "FFNN-GLOVE        73.868%  73.475%  73.671%\n",
              "LSTM-GLOVE-BEST   71.716%  71.919%  71.806%"
            ]
          },
          "metadata": {
            "tags": []
          },
          "execution_count": 60
        }
      ]
    },
    {
      "cell_type": "markdown",
      "metadata": {
        "id": "pGbQFN73GKjc"
      },
      "source": [
        "**Subsequently, we compare our best models, based on the metrics of the prediction on the test set. Both models seem to produce very similar metrics with our FFNN being slightly more effective than our RNN, assuming that the F1-Score is a descent representative for a model's effeciency. Even though the metrics difference is not significant we can notice that the LSTM's ability on maintaining information leads to a faster convergence but not to better classification results. Yet, as we mentioned the metrics difference is insignificant. As a result, the noticeable faster convergence of RNN (RNN model converges even faster than FFNN if we train them with more epochs) is an important factor that can lead to its supremacy compared to FFNN. Either way, neither Recurrent Neural Networks nor Feed-Forward Neural Networks are the ideal to be applied in feature detection in texts. As we know, in theory, for tasks like Sentiment Analysis, where feature detection in text is more important (searching for angry terms, irony, sadness etc.), a Convolution Neural Network would surely produce better results.**"
      ]
    }
  ]
}