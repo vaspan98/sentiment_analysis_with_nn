{
  "nbformat": 4,
  "nbformat_minor": 0,
  "metadata": {
    "colab": {
      "name": "sentiment_analysis_ffnn.ipynb",
      "provenance": [],
      "collapsed_sections": [
        "JhfmSB4kcQDV",
        "oo6oCRsY2Fxx",
        "RITdTeFH3HIr"
      ],
      "machine_shape": "hm"
    },
    "kernelspec": {
      "display_name": "Python 3",
      "language": "python",
      "name": "python3"
    },
    "language_info": {
      "codemirror_mode": {
        "name": "ipython",
        "version": 3
      },
      "file_extension": ".py",
      "mimetype": "text/x-python",
      "name": "python",
      "nbconvert_exporter": "python",
      "pygments_lexer": "ipython3",
      "version": "3.8.3"
    },
    "accelerator": "GPU"
  },
  "cells": [
    {
      "cell_type": "markdown",
      "metadata": {
        "id": "ig1HGm_sXvHx"
      },
      "source": [
        "# Twitter Sentiment Analysis - Feed-forward Neural Networks \n",
        "## <div> Vassilis Panagakis </div>"
      ]
    },
    {
      "cell_type": "code",
      "metadata": {
        "id": "lQ0xV4tFJZTI",
        "colab": {
          "base_uri": "https://localhost:8080/"
        },
        "outputId": "0e4173ed-ba10-494f-f938-29de90589898"
      },
      "source": [
        "!pip install d2l==0.15.0"
      ],
      "execution_count": null,
      "outputs": [
        {
          "output_type": "stream",
          "text": [
            "Requirement already satisfied: d2l==0.15.0 in /usr/local/lib/python3.7/dist-packages (0.15.0)\n",
            "Requirement already satisfied: pandas in /usr/local/lib/python3.7/dist-packages (from d2l==0.15.0) (1.1.5)\n",
            "Requirement already satisfied: numpy in /usr/local/lib/python3.7/dist-packages (from d2l==0.15.0) (1.19.5)\n",
            "Requirement already satisfied: matplotlib in /usr/local/lib/python3.7/dist-packages (from d2l==0.15.0) (3.2.2)\n",
            "Requirement already satisfied: jupyter in /usr/local/lib/python3.7/dist-packages (from d2l==0.15.0) (1.0.0)\n",
            "Requirement already satisfied: pytz>=2017.2 in /usr/local/lib/python3.7/dist-packages (from pandas->d2l==0.15.0) (2018.9)\n",
            "Requirement already satisfied: python-dateutil>=2.7.3 in /usr/local/lib/python3.7/dist-packages (from pandas->d2l==0.15.0) (2.8.1)\n",
            "Requirement already satisfied: cycler>=0.10 in /usr/local/lib/python3.7/dist-packages (from matplotlib->d2l==0.15.0) (0.10.0)\n",
            "Requirement already satisfied: pyparsing!=2.0.4,!=2.1.2,!=2.1.6,>=2.0.1 in /usr/local/lib/python3.7/dist-packages (from matplotlib->d2l==0.15.0) (2.4.7)\n",
            "Requirement already satisfied: kiwisolver>=1.0.1 in /usr/local/lib/python3.7/dist-packages (from matplotlib->d2l==0.15.0) (1.3.1)\n",
            "Requirement already satisfied: notebook in /usr/local/lib/python3.7/dist-packages (from jupyter->d2l==0.15.0) (5.3.1)\n",
            "Requirement already satisfied: jupyter-console in /usr/local/lib/python3.7/dist-packages (from jupyter->d2l==0.15.0) (5.2.0)\n",
            "Requirement already satisfied: ipywidgets in /usr/local/lib/python3.7/dist-packages (from jupyter->d2l==0.15.0) (7.6.3)\n",
            "Requirement already satisfied: qtconsole in /usr/local/lib/python3.7/dist-packages (from jupyter->d2l==0.15.0) (5.0.2)\n",
            "Requirement already satisfied: nbconvert in /usr/local/lib/python3.7/dist-packages (from jupyter->d2l==0.15.0) (5.6.1)\n",
            "Requirement already satisfied: ipykernel in /usr/local/lib/python3.7/dist-packages (from jupyter->d2l==0.15.0) (4.10.1)\n",
            "Requirement already satisfied: six>=1.5 in /usr/local/lib/python3.7/dist-packages (from python-dateutil>=2.7.3->pandas->d2l==0.15.0) (1.15.0)\n",
            "Requirement already satisfied: jupyter-client>=5.2.0 in /usr/local/lib/python3.7/dist-packages (from notebook->jupyter->d2l==0.15.0) (5.3.5)\n",
            "Requirement already satisfied: terminado>=0.8.1 in /usr/local/lib/python3.7/dist-packages (from notebook->jupyter->d2l==0.15.0) (0.9.2)\n",
            "Requirement already satisfied: jinja2 in /usr/local/lib/python3.7/dist-packages (from notebook->jupyter->d2l==0.15.0) (2.11.3)\n",
            "Requirement already satisfied: Send2Trash in /usr/local/lib/python3.7/dist-packages (from notebook->jupyter->d2l==0.15.0) (1.5.0)\n",
            "Requirement already satisfied: nbformat in /usr/local/lib/python3.7/dist-packages (from notebook->jupyter->d2l==0.15.0) (5.1.2)\n",
            "Requirement already satisfied: tornado>=4 in /usr/local/lib/python3.7/dist-packages (from notebook->jupyter->d2l==0.15.0) (5.1.1)\n",
            "Requirement already satisfied: ipython-genutils in /usr/local/lib/python3.7/dist-packages (from notebook->jupyter->d2l==0.15.0) (0.2.0)\n",
            "Requirement already satisfied: jupyter-core>=4.4.0 in /usr/local/lib/python3.7/dist-packages (from notebook->jupyter->d2l==0.15.0) (4.7.1)\n",
            "Requirement already satisfied: traitlets>=4.2.1 in /usr/local/lib/python3.7/dist-packages (from notebook->jupyter->d2l==0.15.0) (4.3.3)\n",
            "Requirement already satisfied: pygments in /usr/local/lib/python3.7/dist-packages (from jupyter-console->jupyter->d2l==0.15.0) (2.6.1)\n",
            "Requirement already satisfied: ipython in /usr/local/lib/python3.7/dist-packages (from jupyter-console->jupyter->d2l==0.15.0) (5.5.0)\n",
            "Requirement already satisfied: prompt-toolkit<2.0.0,>=1.0.0 in /usr/local/lib/python3.7/dist-packages (from jupyter-console->jupyter->d2l==0.15.0) (1.0.18)\n",
            "Requirement already satisfied: widgetsnbextension~=3.5.0 in /usr/local/lib/python3.7/dist-packages (from ipywidgets->jupyter->d2l==0.15.0) (3.5.1)\n",
            "Requirement already satisfied: jupyterlab-widgets>=1.0.0; python_version >= \"3.6\" in /usr/local/lib/python3.7/dist-packages (from ipywidgets->jupyter->d2l==0.15.0) (1.0.0)\n",
            "Requirement already satisfied: qtpy in /usr/local/lib/python3.7/dist-packages (from qtconsole->jupyter->d2l==0.15.0) (1.9.0)\n",
            "Requirement already satisfied: pyzmq>=17.1 in /usr/local/lib/python3.7/dist-packages (from qtconsole->jupyter->d2l==0.15.0) (22.0.3)\n",
            "Requirement already satisfied: defusedxml in /usr/local/lib/python3.7/dist-packages (from nbconvert->jupyter->d2l==0.15.0) (0.6.0)\n",
            "Requirement already satisfied: entrypoints>=0.2.2 in /usr/local/lib/python3.7/dist-packages (from nbconvert->jupyter->d2l==0.15.0) (0.3)\n",
            "Requirement already satisfied: testpath in /usr/local/lib/python3.7/dist-packages (from nbconvert->jupyter->d2l==0.15.0) (0.4.4)\n",
            "Requirement already satisfied: bleach in /usr/local/lib/python3.7/dist-packages (from nbconvert->jupyter->d2l==0.15.0) (3.3.0)\n",
            "Requirement already satisfied: pandocfilters>=1.4.1 in /usr/local/lib/python3.7/dist-packages (from nbconvert->jupyter->d2l==0.15.0) (1.4.3)\n",
            "Requirement already satisfied: mistune<2,>=0.8.1 in /usr/local/lib/python3.7/dist-packages (from nbconvert->jupyter->d2l==0.15.0) (0.8.4)\n",
            "Requirement already satisfied: ptyprocess; os_name != \"nt\" in /usr/local/lib/python3.7/dist-packages (from terminado>=0.8.1->notebook->jupyter->d2l==0.15.0) (0.7.0)\n",
            "Requirement already satisfied: MarkupSafe>=0.23 in /usr/local/lib/python3.7/dist-packages (from jinja2->notebook->jupyter->d2l==0.15.0) (1.1.1)\n",
            "Requirement already satisfied: jsonschema!=2.5.0,>=2.4 in /usr/local/lib/python3.7/dist-packages (from nbformat->notebook->jupyter->d2l==0.15.0) (2.6.0)\n",
            "Requirement already satisfied: decorator in /usr/local/lib/python3.7/dist-packages (from traitlets>=4.2.1->notebook->jupyter->d2l==0.15.0) (4.4.2)\n",
            "Requirement already satisfied: pickleshare in /usr/local/lib/python3.7/dist-packages (from ipython->jupyter-console->jupyter->d2l==0.15.0) (0.7.5)\n",
            "Requirement already satisfied: setuptools>=18.5 in /usr/local/lib/python3.7/dist-packages (from ipython->jupyter-console->jupyter->d2l==0.15.0) (53.0.0)\n",
            "Requirement already satisfied: simplegeneric>0.8 in /usr/local/lib/python3.7/dist-packages (from ipython->jupyter-console->jupyter->d2l==0.15.0) (0.8.1)\n",
            "Requirement already satisfied: pexpect; sys_platform != \"win32\" in /usr/local/lib/python3.7/dist-packages (from ipython->jupyter-console->jupyter->d2l==0.15.0) (4.8.0)\n",
            "Requirement already satisfied: wcwidth in /usr/local/lib/python3.7/dist-packages (from prompt-toolkit<2.0.0,>=1.0.0->jupyter-console->jupyter->d2l==0.15.0) (0.2.5)\n",
            "Requirement already satisfied: webencodings in /usr/local/lib/python3.7/dist-packages (from bleach->nbconvert->jupyter->d2l==0.15.0) (0.5.1)\n",
            "Requirement already satisfied: packaging in /usr/local/lib/python3.7/dist-packages (from bleach->nbconvert->jupyter->d2l==0.15.0) (20.9)\n"
          ],
          "name": "stdout"
        }
      ]
    },
    {
      "cell_type": "code",
      "metadata": {
        "id": "L3VQYcefW8Hf"
      },
      "source": [
        "import pandas as pd\n",
        "import numpy as np \n",
        "import re\n",
        "import warnings\n",
        "import torch\n",
        "import matplotlib.pyplot as plt\n",
        "import pickle\n",
        "\n",
        "warnings.filterwarnings('ignore')  "
      ],
      "execution_count": null,
      "outputs": []
    },
    {
      "cell_type": "markdown",
      "metadata": {
        "id": "sStnn3cnXAOM"
      },
      "source": [
        "## Load Data"
      ]
    },
    {
      "cell_type": "code",
      "metadata": {
        "id": "FyzcY9_IXCal",
        "colab": {
          "base_uri": "https://localhost:8080/"
        },
        "outputId": "dd831744-f08a-4cac-f67c-87e89f813152"
      },
      "source": [
        "from google.colab import drive \n",
        "drive.mount('/content/gdrive')"
      ],
      "execution_count": null,
      "outputs": [
        {
          "output_type": "stream",
          "text": [
            "Drive already mounted at /content/gdrive; to attempt to forcibly remount, call drive.mount(\"/content/gdrive\", force_remount=True).\n"
          ],
          "name": "stdout"
        }
      ]
    },
    {
      "cell_type": "markdown",
      "metadata": {
        "id": "_LM1FQO7XNK6"
      },
      "source": [
        "#### Create a dataframe from SentimentTweets.csv file data"
      ]
    },
    {
      "cell_type": "code",
      "metadata": {
        "id": "Z54N_yxEXG2r",
        "colab": {
          "base_uri": "https://localhost:8080/",
          "height": 204
        },
        "outputId": "5accc59f-e159-4187-c8ae-38c8c59aafa8"
      },
      "source": [
        "df=pd.read_csv('gdrive/My Drive/Colab Notebooks/SentimentTweets.csv', usecols=['target','id','date','flag','user','text'])\n",
        "\n",
        "df.head()"
      ],
      "execution_count": null,
      "outputs": [
        {
          "output_type": "execute_result",
          "data": {
            "text/html": [
              "<div>\n",
              "<style scoped>\n",
              "    .dataframe tbody tr th:only-of-type {\n",
              "        vertical-align: middle;\n",
              "    }\n",
              "\n",
              "    .dataframe tbody tr th {\n",
              "        vertical-align: top;\n",
              "    }\n",
              "\n",
              "    .dataframe thead th {\n",
              "        text-align: right;\n",
              "    }\n",
              "</style>\n",
              "<table border=\"1\" class=\"dataframe\">\n",
              "  <thead>\n",
              "    <tr style=\"text-align: right;\">\n",
              "      <th></th>\n",
              "      <th>target</th>\n",
              "      <th>id</th>\n",
              "      <th>date</th>\n",
              "      <th>flag</th>\n",
              "      <th>user</th>\n",
              "      <th>text</th>\n",
              "    </tr>\n",
              "  </thead>\n",
              "  <tbody>\n",
              "    <tr>\n",
              "      <th>0</th>\n",
              "      <td>0</td>\n",
              "      <td>2249621587</td>\n",
              "      <td>Fri Jun 19 22:41:08 PDT 2009</td>\n",
              "      <td>NO_QUERY</td>\n",
              "      <td>sukumarpant</td>\n",
              "      <td>#brokenpromises...</td>\n",
              "    </tr>\n",
              "    <tr>\n",
              "      <th>1</th>\n",
              "      <td>0</td>\n",
              "      <td>2059003515</td>\n",
              "      <td>Sat Jun 06 16:03:21 PDT 2009</td>\n",
              "      <td>NO_QUERY</td>\n",
              "      <td>MTMSparrow</td>\n",
              "      <td>David Carradine  so sad. Thai's law not sure i...</td>\n",
              "    </tr>\n",
              "    <tr>\n",
              "      <th>2</th>\n",
              "      <td>4</td>\n",
              "      <td>2017466467</td>\n",
              "      <td>Wed Jun 03 08:26:14 PDT 2009</td>\n",
              "      <td>NO_QUERY</td>\n",
              "      <td>itsmemcee</td>\n",
              "      <td>A @ 415 B @ 425. Tell your bro i say congrats!</td>\n",
              "    </tr>\n",
              "    <tr>\n",
              "      <th>3</th>\n",
              "      <td>4</td>\n",
              "      <td>2186457254</td>\n",
              "      <td>Mon Jun 15 18:52:04 PDT 2009</td>\n",
              "      <td>NO_QUERY</td>\n",
              "      <td>jdfreivald</td>\n",
              "      <td>@littlefluffycat  Indeed.</td>\n",
              "    </tr>\n",
              "    <tr>\n",
              "      <th>4</th>\n",
              "      <td>4</td>\n",
              "      <td>2064458395</td>\n",
              "      <td>Sun Jun 07 06:19:20 PDT 2009</td>\n",
              "      <td>NO_QUERY</td>\n",
              "      <td>CrazyHan</td>\n",
              "      <td>Completed Race 4 Life in 58mins with girlies f...</td>\n",
              "    </tr>\n",
              "  </tbody>\n",
              "</table>\n",
              "</div>"
            ],
            "text/plain": [
              "   target  ...                                               text\n",
              "0       0  ...                                #brokenpromises... \n",
              "1       0  ...  David Carradine  so sad. Thai's law not sure i...\n",
              "2       4  ...    A @ 415 B @ 425. Tell your bro i say congrats! \n",
              "3       4  ...                          @littlefluffycat  Indeed.\n",
              "4       4  ...  Completed Race 4 Life in 58mins with girlies f...\n",
              "\n",
              "[5 rows x 6 columns]"
            ]
          },
          "metadata": {
            "tags": []
          },
          "execution_count": 56
        }
      ]
    },
    {
      "cell_type": "code",
      "metadata": {
        "id": "9Cu7EnZPXad-",
        "colab": {
          "base_uri": "https://localhost:8080/",
          "height": 204
        },
        "outputId": "f69299ef-1ab4-422f-a1c3-a8da7b775876"
      },
      "source": [
        "df.drop(columns=['id', 'date', 'flag', 'user'], axis=1, inplace=True) #drop useless columns\n",
        "\n",
        "df.head()"
      ],
      "execution_count": null,
      "outputs": [
        {
          "output_type": "execute_result",
          "data": {
            "text/html": [
              "<div>\n",
              "<style scoped>\n",
              "    .dataframe tbody tr th:only-of-type {\n",
              "        vertical-align: middle;\n",
              "    }\n",
              "\n",
              "    .dataframe tbody tr th {\n",
              "        vertical-align: top;\n",
              "    }\n",
              "\n",
              "    .dataframe thead th {\n",
              "        text-align: right;\n",
              "    }\n",
              "</style>\n",
              "<table border=\"1\" class=\"dataframe\">\n",
              "  <thead>\n",
              "    <tr style=\"text-align: right;\">\n",
              "      <th></th>\n",
              "      <th>target</th>\n",
              "      <th>text</th>\n",
              "    </tr>\n",
              "  </thead>\n",
              "  <tbody>\n",
              "    <tr>\n",
              "      <th>0</th>\n",
              "      <td>0</td>\n",
              "      <td>#brokenpromises...</td>\n",
              "    </tr>\n",
              "    <tr>\n",
              "      <th>1</th>\n",
              "      <td>0</td>\n",
              "      <td>David Carradine  so sad. Thai's law not sure i...</td>\n",
              "    </tr>\n",
              "    <tr>\n",
              "      <th>2</th>\n",
              "      <td>4</td>\n",
              "      <td>A @ 415 B @ 425. Tell your bro i say congrats!</td>\n",
              "    </tr>\n",
              "    <tr>\n",
              "      <th>3</th>\n",
              "      <td>4</td>\n",
              "      <td>@littlefluffycat  Indeed.</td>\n",
              "    </tr>\n",
              "    <tr>\n",
              "      <th>4</th>\n",
              "      <td>4</td>\n",
              "      <td>Completed Race 4 Life in 58mins with girlies f...</td>\n",
              "    </tr>\n",
              "  </tbody>\n",
              "</table>\n",
              "</div>"
            ],
            "text/plain": [
              "   target                                               text\n",
              "0       0                                #brokenpromises... \n",
              "1       0  David Carradine  so sad. Thai's law not sure i...\n",
              "2       4    A @ 415 B @ 425. Tell your bro i say congrats! \n",
              "3       4                          @littlefluffycat  Indeed.\n",
              "4       4  Completed Race 4 Life in 58mins with girlies f..."
            ]
          },
          "metadata": {
            "tags": []
          },
          "execution_count": 57
        }
      ]
    },
    {
      "cell_type": "code",
      "metadata": {
        "id": "r64ZFbZwXdIc"
      },
      "source": [
        "# split 'target' and 'text' columns \n",
        "X = df[['text']]\n",
        "y = df[['target']]"
      ],
      "execution_count": null,
      "outputs": []
    },
    {
      "cell_type": "code",
      "metadata": {
        "id": "Cv0fmkO5Xela"
      },
      "source": [
        "from sklearn.model_selection import train_test_split\n",
        "\n",
        "# get train and test dataframes \n",
        "train_X, test_X, train_Y, test_Y = train_test_split(X, y, test_size=0.2, stratify=df['target'], random_state = 42)"
      ],
      "execution_count": null,
      "outputs": []
    },
    {
      "cell_type": "markdown",
      "metadata": {
        "id": "4qt2539dXho5"
      },
      "source": [
        "#### Display train and test sets after split"
      ]
    },
    {
      "cell_type": "code",
      "metadata": {
        "id": "EM1VLqxVXgI1",
        "colab": {
          "base_uri": "https://localhost:8080/",
          "height": 204
        },
        "outputId": "7bf0bf56-be11-4705-ee04-5de35d578db5"
      },
      "source": [
        "train_X.head()"
      ],
      "execution_count": null,
      "outputs": [
        {
          "output_type": "execute_result",
          "data": {
            "text/html": [
              "<div>\n",
              "<style scoped>\n",
              "    .dataframe tbody tr th:only-of-type {\n",
              "        vertical-align: middle;\n",
              "    }\n",
              "\n",
              "    .dataframe tbody tr th {\n",
              "        vertical-align: top;\n",
              "    }\n",
              "\n",
              "    .dataframe thead th {\n",
              "        text-align: right;\n",
              "    }\n",
              "</style>\n",
              "<table border=\"1\" class=\"dataframe\">\n",
              "  <thead>\n",
              "    <tr style=\"text-align: right;\">\n",
              "      <th></th>\n",
              "      <th>text</th>\n",
              "    </tr>\n",
              "  </thead>\n",
              "  <tbody>\n",
              "    <tr>\n",
              "      <th>492660</th>\n",
              "      <td>The respected journalist @robfahey just tried ...</td>\n",
              "    </tr>\n",
              "    <tr>\n",
              "      <th>858754</th>\n",
              "      <td>@maggienash  Thanks, Maggie.  I'm still bouncing</td>\n",
              "    </tr>\n",
              "    <tr>\n",
              "      <th>746070</th>\n",
              "      <td>@do0dlebugdebz not now,but will be if you're o...</td>\n",
              "    </tr>\n",
              "    <tr>\n",
              "      <th>885531</th>\n",
              "      <td>@Pure798 yea that works...ughh</td>\n",
              "    </tr>\n",
              "    <tr>\n",
              "      <th>806384</th>\n",
              "      <td>@melapoo lol Cool. I keep getting the weird on...</td>\n",
              "    </tr>\n",
              "  </tbody>\n",
              "</table>\n",
              "</div>"
            ],
            "text/plain": [
              "                                                     text\n",
              "492660  The respected journalist @robfahey just tried ...\n",
              "858754  @maggienash  Thanks, Maggie.  I'm still bouncing \n",
              "746070  @do0dlebugdebz not now,but will be if you're o...\n",
              "885531                    @Pure798 yea that works...ughh \n",
              "806384  @melapoo lol Cool. I keep getting the weird on..."
            ]
          },
          "metadata": {
            "tags": []
          },
          "execution_count": 60
        }
      ]
    },
    {
      "cell_type": "code",
      "metadata": {
        "id": "OBaNuTQZXksQ",
        "colab": {
          "base_uri": "https://localhost:8080/",
          "height": 204
        },
        "outputId": "0bcf72ee-ccae-44fe-90c4-c79efaab432c"
      },
      "source": [
        "test_X.head()"
      ],
      "execution_count": null,
      "outputs": [
        {
          "output_type": "execute_result",
          "data": {
            "text/html": [
              "<div>\n",
              "<style scoped>\n",
              "    .dataframe tbody tr th:only-of-type {\n",
              "        vertical-align: middle;\n",
              "    }\n",
              "\n",
              "    .dataframe tbody tr th {\n",
              "        vertical-align: top;\n",
              "    }\n",
              "\n",
              "    .dataframe thead th {\n",
              "        text-align: right;\n",
              "    }\n",
              "</style>\n",
              "<table border=\"1\" class=\"dataframe\">\n",
              "  <thead>\n",
              "    <tr style=\"text-align: right;\">\n",
              "      <th></th>\n",
              "      <th>text</th>\n",
              "    </tr>\n",
              "  </thead>\n",
              "  <tbody>\n",
              "    <tr>\n",
              "      <th>220479</th>\n",
              "      <td>...... fuck you soderling. fuck you. this has ...</td>\n",
              "    </tr>\n",
              "    <tr>\n",
              "      <th>840623</th>\n",
              "      <td>OK next step - today I learn to twitter from m...</td>\n",
              "    </tr>\n",
              "    <tr>\n",
              "      <th>772674</th>\n",
              "      <td>trying to upload a picture and loves how twitt...</td>\n",
              "    </tr>\n",
              "    <tr>\n",
              "      <th>1037193</th>\n",
              "      <td>@addictedtonye Get 100 followers a day using w...</td>\n",
              "    </tr>\n",
              "    <tr>\n",
              "      <th>971656</th>\n",
              "      <td>@AmeliaBt It sure is..</td>\n",
              "    </tr>\n",
              "  </tbody>\n",
              "</table>\n",
              "</div>"
            ],
            "text/plain": [
              "                                                      text\n",
              "220479   ...... fuck you soderling. fuck you. this has ...\n",
              "840623   OK next step - today I learn to twitter from m...\n",
              "772674   trying to upload a picture and loves how twitt...\n",
              "1037193  @addictedtonye Get 100 followers a day using w...\n",
              "971656                             @AmeliaBt It sure is.. "
            ]
          },
          "metadata": {
            "tags": []
          },
          "execution_count": 61
        }
      ]
    },
    {
      "cell_type": "markdown",
      "metadata": {
        "id": "4ClyD5k4Xl61"
      },
      "source": [
        "## Labels Pre-processing"
      ]
    },
    {
      "cell_type": "code",
      "metadata": {
        "id": "T6o-BhRXXnlJ"
      },
      "source": [
        "# replace 4 with 1 to create binary labels\n",
        "train_Y = train_Y.replace(4,1)\n",
        "test_Y = test_Y.replace(4,1)\n",
        "\n",
        "# create numpy arrays for sets' labels\n",
        "train_y = np.asarray(train_Y['target'].tolist()) \n",
        "test_y = np.asarray(test_Y['target'].tolist())\n",
        "\n",
        "# covert numpy arrays to torch tensors\n",
        "train_y, test_y = map(torch.tensor, (train_y, test_y))\n",
        "# covert tensors data to float\n",
        "train_y, test_y = train_y.float(), test_y.float()"
      ],
      "execution_count": null,
      "outputs": []
    },
    {
      "cell_type": "markdown",
      "metadata": {
        "id": "ZzDrAI8xXpzc"
      },
      "source": [
        "## Data Pre-processing"
      ]
    },
    {
      "cell_type": "markdown",
      "metadata": {
        "id": "JhfmSB4kcQDV"
      },
      "source": [
        "#### Load cleansed data from csv\n"
      ]
    },
    {
      "cell_type": "code",
      "metadata": {
        "id": "YoFIMphscMsR"
      },
      "source": [
        "# restore processed data\n",
        "train_X = pd.read_csv('gdrive/My Drive/Colab Notebooks/CleanedTrain.csv', usecols=['text','processedText'])\n",
        "test_X = pd.read_csv('gdrive/My Drive/Colab Notebooks/CleanedTest.csv', usecols=['text','processedText'])"
      ],
      "execution_count": null,
      "outputs": []
    },
    {
      "cell_type": "markdown",
      "metadata": {
        "id": "a8UMJDrgchTW"
      },
      "source": [
        "### Cleanse data"
      ]
    },
    {
      "cell_type": "code",
      "metadata": {
        "id": "RtrcZJSWXsb7"
      },
      "source": [
        "# function that removes all @mentions, links and non alphabetic strings \n",
        "def clean_content(text):\n",
        "    \n",
        "    text = re.sub(r'@[A-Za-z0-9_]+', '', text) # remove text with @ prefix\n",
        "    text = re.sub(r'http\\S+', '', text) # remove text with http prefix (links)  \n",
        "    text = re.sub(r'www\\S+', '', text) # remove text with www prefix (links)\n",
        "    text = re.sub(r'\\\\\\w+', '', str(text)) # remove text after backslash\n",
        "    text = re.sub(r'\\b\\w{1,2}\\b', '', text) # remove text containing 2 or less characters\n",
        "    \n",
        "    text =  ''.join(ch for ch in text if ch.isalpha() or ch == ' ')\n",
        "    \n",
        "    text = text.lower() # convert text into lowercase\n",
        "    \n",
        "    return text"
      ],
      "execution_count": null,
      "outputs": []
    },
    {
      "cell_type": "code",
      "metadata": {
        "id": "TRZXeA2nXt8L"
      },
      "source": [
        "# create a column for each set containing the processed text data\n",
        "for index, row in train_X.iterrows():\n",
        "    train_X.loc[index,'processedText'] = clean_content(train_X.loc[index,'text'])\n",
        "\n",
        "for index, row in test_X.iterrows():\n",
        "    test_X.loc[index,'processedText'] = clean_content(test_X.loc[index,'text'])"
      ],
      "execution_count": null,
      "outputs": []
    },
    {
      "cell_type": "markdown",
      "metadata": {
        "id": "Pt5LUmFqXwzV"
      },
      "source": [
        "#### Display train and test sets after text cleansing"
      ]
    },
    {
      "cell_type": "code",
      "metadata": {
        "id": "YPZLdglyXvZh",
        "colab": {
          "base_uri": "https://localhost:8080/",
          "height": 204
        },
        "outputId": "8ba51626-3f1f-4625-ca79-c892cb7c9325"
      },
      "source": [
        "train_X.head()"
      ],
      "execution_count": null,
      "outputs": [
        {
          "output_type": "execute_result",
          "data": {
            "text/html": [
              "<div>\n",
              "<style scoped>\n",
              "    .dataframe tbody tr th:only-of-type {\n",
              "        vertical-align: middle;\n",
              "    }\n",
              "\n",
              "    .dataframe tbody tr th {\n",
              "        vertical-align: top;\n",
              "    }\n",
              "\n",
              "    .dataframe thead th {\n",
              "        text-align: right;\n",
              "    }\n",
              "</style>\n",
              "<table border=\"1\" class=\"dataframe\">\n",
              "  <thead>\n",
              "    <tr style=\"text-align: right;\">\n",
              "      <th></th>\n",
              "      <th>text</th>\n",
              "      <th>processedText</th>\n",
              "    </tr>\n",
              "  </thead>\n",
              "  <tbody>\n",
              "    <tr>\n",
              "      <th>492660</th>\n",
              "      <td>The respected journalist @robfahey just tried ...</td>\n",
              "      <td>the respected journalist  just tried  have sex...</td>\n",
              "    </tr>\n",
              "    <tr>\n",
              "      <th>858754</th>\n",
              "      <td>@maggienash  Thanks, Maggie.  I'm still bouncing</td>\n",
              "      <td>thanks maggie   still bouncing</td>\n",
              "    </tr>\n",
              "    <tr>\n",
              "      <th>746070</th>\n",
              "      <td>@do0dlebugdebz not now,but will be if you're o...</td>\n",
              "      <td>not nowbut will   you    just sounded like da...</td>\n",
              "    </tr>\n",
              "    <tr>\n",
              "      <th>885531</th>\n",
              "      <td>@Pure798 yea that works...ughh</td>\n",
              "      <td>yea that worksughh</td>\n",
              "    </tr>\n",
              "    <tr>\n",
              "      <th>806384</th>\n",
              "      <td>@melapoo lol Cool. I keep getting the weird on...</td>\n",
              "      <td>lol cool  keep getting the weird ones  got th...</td>\n",
              "    </tr>\n",
              "  </tbody>\n",
              "</table>\n",
              "</div>"
            ],
            "text/plain": [
              "                                                     text                                      processedText\n",
              "492660  The respected journalist @robfahey just tried ...  the respected journalist  just tried  have sex...\n",
              "858754  @maggienash  Thanks, Maggie.  I'm still bouncing                     thanks maggie   still bouncing \n",
              "746070  @do0dlebugdebz not now,but will be if you're o...   not nowbut will   you    just sounded like da...\n",
              "885531                    @Pure798 yea that works...ughh                                 yea that worksughh \n",
              "806384  @melapoo lol Cool. I keep getting the weird on...   lol cool  keep getting the weird ones  got th..."
            ]
          },
          "metadata": {
            "tags": []
          },
          "execution_count": 65
        }
      ]
    },
    {
      "cell_type": "code",
      "metadata": {
        "id": "8_dyGR4IXzTG",
        "colab": {
          "base_uri": "https://localhost:8080/",
          "height": 204
        },
        "outputId": "45c16a58-b419-4d90-d94f-667e9ecfb162"
      },
      "source": [
        "test_X.head()"
      ],
      "execution_count": null,
      "outputs": [
        {
          "output_type": "execute_result",
          "data": {
            "text/html": [
              "<div>\n",
              "<style scoped>\n",
              "    .dataframe tbody tr th:only-of-type {\n",
              "        vertical-align: middle;\n",
              "    }\n",
              "\n",
              "    .dataframe tbody tr th {\n",
              "        vertical-align: top;\n",
              "    }\n",
              "\n",
              "    .dataframe thead th {\n",
              "        text-align: right;\n",
              "    }\n",
              "</style>\n",
              "<table border=\"1\" class=\"dataframe\">\n",
              "  <thead>\n",
              "    <tr style=\"text-align: right;\">\n",
              "      <th></th>\n",
              "      <th>text</th>\n",
              "      <th>processedText</th>\n",
              "    </tr>\n",
              "  </thead>\n",
              "  <tbody>\n",
              "    <tr>\n",
              "      <th>220479</th>\n",
              "      <td>...... fuck you soderling. fuck you. this has ...</td>\n",
              "      <td>fuck you soderling fuck you this has    night...</td>\n",
              "    </tr>\n",
              "    <tr>\n",
              "      <th>840623</th>\n",
              "      <td>OK next step - today I learn to twitter from m...</td>\n",
              "      <td>next step  today  learn  twitter from  phone ...</td>\n",
              "    </tr>\n",
              "    <tr>\n",
              "      <th>772674</th>\n",
              "      <td>trying to upload a picture and loves how twitt...</td>\n",
              "      <td>trying  upload  picture and loves how twitter ...</td>\n",
              "    </tr>\n",
              "    <tr>\n",
              "      <th>1037193</th>\n",
              "      <td>@addictedtonye Get 100 followers a day using w...</td>\n",
              "      <td>get  followers  day using  once you add every...</td>\n",
              "    </tr>\n",
              "    <tr>\n",
              "      <th>971656</th>\n",
              "      <td>@AmeliaBt It sure is..</td>\n",
              "      <td>sure</td>\n",
              "    </tr>\n",
              "  </tbody>\n",
              "</table>\n",
              "</div>"
            ],
            "text/plain": [
              "                                                      text                                      processedText\n",
              "220479   ...... fuck you soderling. fuck you. this has ...   fuck you soderling fuck you this has    night...\n",
              "840623   OK next step - today I learn to twitter from m...   next step  today  learn  twitter from  phone ...\n",
              "772674   trying to upload a picture and loves how twitt...  trying  upload  picture and loves how twitter ...\n",
              "1037193  @addictedtonye Get 100 followers a day using w...   get  followers  day using  once you add every...\n",
              "971656                             @AmeliaBt It sure is..                                              sure  "
            ]
          },
          "metadata": {
            "tags": []
          },
          "execution_count": 66
        }
      ]
    },
    {
      "cell_type": "code",
      "metadata": {
        "id": "OS56PPZjg6kT"
      },
      "source": [
        "# # store processed data to a csv file\n",
        "# train_X.to_csv('gdrive/My Drive/Colab Notebooks/CleanedTrain.csv', index = True, header=True)\n",
        "# test_X.to_csv('gdrive/My Drive/Colab Notebooks/CleanedTest.csv', index = True, header=True)"
      ],
      "execution_count": null,
      "outputs": []
    },
    {
      "cell_type": "markdown",
      "metadata": {
        "id": "gdbg3VI4X2M_"
      },
      "source": [
        "### Tf-idf Vectorization"
      ]
    },
    {
      "cell_type": "code",
      "metadata": {
        "id": "kH2OoLFGX0n2"
      },
      "source": [
        "from sklearn.feature_extraction.text import TfidfVectorizer\n",
        "\n",
        "tfidfVectorizer = TfidfVectorizer(max_df=0.99, min_df=1, stop_words='english', max_features=150)\n",
        "\n",
        "# apply tf-idf transformation to both train and test sets data\n",
        "tr_tfidf = tfidfVectorizer.fit_transform(train_X['processedText'])\n",
        "te_tfidf = tfidfVectorizer.transform(test_X['processedText'])\n",
        "\n",
        "# insert transformed data to numpy arrays for both training and test sets\n",
        "train_tfidf = tr_tfidf.toarray()\n",
        "test_tfidf = te_tfidf.toarray()"
      ],
      "execution_count": null,
      "outputs": []
    },
    {
      "cell_type": "markdown",
      "metadata": {
        "id": "7JW0sbRl3Wza"
      },
      "source": [
        "#### Convert input vectors to torch tensors"
      ]
    },
    {
      "cell_type": "code",
      "metadata": {
        "id": "-s2GcdA13RV6"
      },
      "source": [
        "# covert numpy arrays to torch tensors\r\n",
        "train_tfidf, test_tfidf = map(torch.tensor, (train_tfidf, test_tfidf))\r\n",
        "# covert tensors data to float\r\n",
        "train_tfidf, test_tfidf = train_tfidf.float(), test_tfidf.float()"
      ],
      "execution_count": null,
      "outputs": []
    },
    {
      "cell_type": "markdown",
      "metadata": {
        "id": "Lu0tIeExpLPd"
      },
      "source": [
        "### GloVe Pre-trained Embeddings"
      ]
    },
    {
      "cell_type": "code",
      "metadata": {
        "id": "L91p4LurpJ2Z"
      },
      "source": [
        "from torchtext.data import Field \n",
        "from torchtext.vocab import GloVe"
      ],
      "execution_count": null,
      "outputs": []
    },
    {
      "cell_type": "markdown",
      "metadata": {
        "id": "oo6oCRsY2Fxx"
      },
      "source": [
        "#### Load glove embeddings from disk"
      ]
    },
    {
      "cell_type": "code",
      "metadata": {
        "id": "0AoRegLWEdka"
      },
      "source": [
        "with open('gdrive/My Drive/Colab Notebooks/train_glove.pkl', 'rb') as fp:\n",
        "    train_glove = pickle.load(fp)\n",
        "\n",
        "with open('gdrive/My Drive/Colab Notebooks/test_glove.pkl', 'rb') as fp:\n",
        "    test_glove = pickle.load(fp)"
      ],
      "execution_count": null,
      "outputs": []
    },
    {
      "cell_type": "markdown",
      "metadata": {
        "id": "RITdTeFH3HIr"
      },
      "source": [
        "#### Convert input vectors to torch tensors"
      ]
    },
    {
      "cell_type": "code",
      "metadata": {
        "id": "SpCzi6Bo3HIx"
      },
      "source": [
        "#covert numpy arrays to torch tensors\n",
        "train_glove, test_glove = map(torch.tensor, (train_glove, test_glove))\n",
        "# covert tensors data to float\n",
        "train_glove, test_glove = train_glove.float(), test_glove.float()"
      ],
      "execution_count": null,
      "outputs": []
    },
    {
      "cell_type": "markdown",
      "metadata": {
        "id": "Qd2UmWYYd5PR"
      },
      "source": [
        "### Produce embedding input vectors"
      ]
    },
    {
      "cell_type": "code",
      "metadata": {
        "id": "fJj7sins3DWE",
        "colab": {
          "base_uri": "https://localhost:8080/"
        },
        "outputId": "754e12ca-0f1d-4c1f-9dcb-c3de13ca9a22"
      },
      "source": [
        "emb_size=100\r\n",
        "\r\n",
        "embedding = GloVe(name='6B', dim=emb_size) # use \"glove.6B.100d\" as embedding"
      ],
      "execution_count": null,
      "outputs": [
        {
          "output_type": "stream",
          "text": [
            ".vector_cache/glove.6B.zip: 862MB [06:51, 2.09MB/s]                           \n",
            " 99%|█████████▉| 397903/400000 [00:16<00:00, 24948.78it/s]"
          ],
          "name": "stderr"
        }
      ]
    },
    {
      "cell_type": "code",
      "metadata": {
        "id": "MQJ02_a_3Mzv"
      },
      "source": [
        "# function to tokenize preprocessed text and add the necessary padding tokens \n",
        "def tokenize(df, padding):\n",
        "\n",
        "  text_field = Field(\n",
        "      sequential=True,\n",
        "      tokenize='spacy', \n",
        "      fix_length=padding,\n",
        "      lower=True\n",
        "  )\n",
        "\n",
        "  label_field = Field(sequential=False, use_vocab=False)\n",
        "\n",
        "  preprocessed_text = df['processedText'].apply(\n",
        "      lambda x: text_field.preprocess(x)\n",
        "  )\n",
        "\n",
        "  return preprocessed_text"
      ],
      "execution_count": null,
      "outputs": []
    },
    {
      "cell_type": "code",
      "metadata": {
        "id": "yL932Qp2rW1K"
      },
      "source": [
        "# function that creates a mean vector for a series of tokens\n",
        "def tokens_to_vector(tokens, embedding, emb_size):\n",
        "  vectors = []\n",
        "  \n",
        "  for token in tokens:\n",
        "    try: \n",
        "        vectors.append(embedding[token].cpu().detach().numpy()) # add word's vector to list if word belongs to embedding dictionary\n",
        "    except KeyError:\n",
        "        vectors.append(np.zeros(emb_size).astype('float32') ) # else, add a zero vector to the list to represent unknown words\n",
        "          \n",
        "  total = np.zeros(emb_size).astype('float32') \n",
        "  \n",
        "  # compute the mean vector\n",
        "  for v in vectors: \n",
        "      total += v\n",
        "      \n",
        "  mean = total / len(vectors)\n",
        "\n",
        "  return mean.tolist() # return vector in list format"
      ],
      "execution_count": null,
      "outputs": []
    },
    {
      "cell_type": "code",
      "metadata": {
        "id": "5rNqilsfHFCI"
      },
      "source": [
        "padding = train_X.processedText.map(lambda x: len(x)).max() # find the largest 'processedText' in dataframe to determine the padding's length"
      ],
      "execution_count": null,
      "outputs": []
    },
    {
      "cell_type": "code",
      "metadata": {
        "id": "BKVv3EeVno2f",
        "colab": {
          "base_uri": "https://localhost:8080/"
        },
        "outputId": "946b34e7-8aae-4ab9-e0df-cbb0e7321c10"
      },
      "source": [
        "# apply tokenization to both train and test sets\n",
        "train_toks = tokenize(train_X, padding)\n",
        "test_toks = tokenize(test_X, padding)"
      ],
      "execution_count": null,
      "outputs": [
        {
          "output_type": "stream",
          "text": [
            "\r 99%|█████████▉| 397903/400000 [00:30<00:00, 24948.78it/s]"
          ],
          "name": "stderr"
        }
      ]
    },
    {
      "cell_type": "code",
      "metadata": {
        "id": "_Eqxp7EkBBOu"
      },
      "source": [
        "tr_glove = [] \n",
        "\n",
        "# create a list of vectors for every series of tokens in train set\n",
        "for i, tokens in enumerate(train_toks):\n",
        "  tr_glove.append(tokens_to_vector(tokens, embedding, 100))\n",
        "\n",
        "te_glove = []\n",
        "\n",
        "# create a list of vectors for every series of tokens in test set\n",
        "for i, tokens in enumerate(test_toks):\n",
        "  te_glove.append(tokens_to_vector(tokens, embedding, 100))"
      ],
      "execution_count": null,
      "outputs": []
    },
    {
      "cell_type": "code",
      "metadata": {
        "id": "S-e5AoOBFuSX"
      },
      "source": [
        "# convert list of vectors to numpy array\n",
        "train_glove = np.array(tr_glove)\n",
        "test_glove = np.array(te_glove)"
      ],
      "execution_count": null,
      "outputs": []
    },
    {
      "cell_type": "code",
      "metadata": {
        "id": "4Gauk8vx3QtE"
      },
      "source": [
        "# # store glove embeddings to disk\r\n",
        "# with open('gdrive/My Drive/Colab Notebooks/train_glove.pkl', 'wb') as fp:\r\n",
        "#     pickle.dump(train_glove, fp)\r\n",
        "\r\n",
        "# with open('gdrive/My Drive/Colab Notebooks/test_glove.pkl', 'wb') as fp:\r\n",
        "#     pickle.dump(test_glove, fp)"
      ],
      "execution_count": null,
      "outputs": []
    },
    {
      "cell_type": "markdown",
      "metadata": {
        "id": "9CLiNV0XfAde"
      },
      "source": [
        "#### Convert input vectors to torch tensors"
      ]
    },
    {
      "cell_type": "code",
      "metadata": {
        "id": "zR59A_DfrZXE"
      },
      "source": [
        "#covert numpy arrays to torch tensors\n",
        "train_glove, test_glove = map(torch.tensor, (train_glove, test_glove))\n",
        "# covert tensors data to float\n",
        "train_glove, test_glove = train_glove.float(), test_glove.float()"
      ],
      "execution_count": null,
      "outputs": []
    },
    {
      "cell_type": "markdown",
      "metadata": {
        "id": "YhSyXl904xb_"
      },
      "source": [
        "## Feed-Forward Neural Networks"
      ]
    },
    {
      "cell_type": "code",
      "metadata": {
        "id": "x0KLu_hZeYKx"
      },
      "source": [
        "import torch.nn as nn\n",
        "import torch.nn.functional as F\n",
        "from torch import optim"
      ],
      "execution_count": null,
      "outputs": []
    },
    {
      "cell_type": "markdown",
      "metadata": {
        "id": "P3c0KOKtMziW"
      },
      "source": [
        "### Evaluation Functions"
      ]
    },
    {
      "cell_type": "code",
      "metadata": {
        "id": "_CE6lI8iYIVE"
      },
      "source": [
        "# function that creates a dataframe to display a user-given field of the Neural Networks\n",
        "def display_func(net1, net2, net3, net4, column):\n",
        "  nn_dic = {net1:['-'], net2:['-'], net3:['-'], net4:['-']}\n",
        "  nn_df = pd.DataFrame.from_dict(nn_dic, orient='index', columns=[column])\n",
        "\n",
        "  return nn_df\n",
        "\n",
        "# function that creates a dataframe to display the Precision, Recall and F1-score of the Neural Networks\n",
        "def display_metrics(tfidf, glove):\n",
        "  nn_dic = {tfidf:['-','-','-'], glove:['-','-','-']}\n",
        "  nn_df = pd.DataFrame.from_dict(nn_dic, orient='index', columns=['Precision','Recall','F1-Score'])\n",
        "\n",
        "  return nn_df\n",
        "\n",
        "# function that implements Root Mean Square Error\n",
        "def RMSELoss(yhat,y):\n",
        "    return torch.sqrt(torch.mean((yhat - y) ** 2))"
      ],
      "execution_count": null,
      "outputs": []
    },
    {
      "cell_type": "code",
      "metadata": {
        "id": "HvnVsVT6sjSI"
      },
      "source": [
        "from sklearn.metrics import roc_curve, auc\n",
        "from sklearn.metrics import roc_auc_score\n",
        "\n",
        "# function to plot loss per epoch\n",
        "def loss_per_epoch(loss, title):\n",
        "  plt.figure(figsize=(8, 5))\n",
        "  plt.style.use('seaborn-whitegrid')\n",
        "\n",
        "  plt.plot(range(len(loss)), loss)\n",
        "  plt.title('Loss - Epoch Diagram (' + title + ')', size=20)\n",
        "  plt.xlim=[1, len(loss)]\n",
        "  plt.xlabel('Epochs', size=20)\n",
        "\n",
        "  plt.yticks(loss, [i for i in loss])\n",
        "  plt.yscale('logit')\n",
        "  plt.ylabel('Loss', size=20)\n",
        "\n",
        "  plt.show()\n",
        "\n",
        "\n",
        "# function that plots the ROC curve on the test set\n",
        "def roc_plot(net, test_X, test_y, batch_size, title):\n",
        "  fpr = dict()\n",
        "  tpr = dict()\n",
        "  roc_auc = dict()\n",
        "  test_iter = d2l.load_array((test_X, test_y), batch_size) # split train set in batches\n",
        "  \n",
        "  fin_y_pred = []\n",
        "  prec, rec, f1 = 0, 0, 0\n",
        "  for X, y in test_iter:\n",
        "    dim = X.shape[1]\n",
        "    X = X.unsqueeze(1)\n",
        "    X = X.expand(X.shape[0], dim, dim)\n",
        "    \n",
        "    # add parameters to device\n",
        "    X = X.to(device)\n",
        "    y = y.to(device)\n",
        "\n",
        "    y_pred = net.predict(X) # execute predict on test set\n",
        "    y_pred = torch.mean(y_pred, dim=1) # calculate mean\n",
        "    y_pred = y_pred.cpu().data.numpy() # convert to numpy\n",
        "\n",
        "    y = y.cpu().data.numpy() # convert to numpy \n",
        "\n",
        "    for i in range(2):\n",
        "        fpr[i], tpr[i], _ = roc_curve(y, y_pred)\n",
        "        roc_auc[i] = auc(fpr[i], tpr[i])\n",
        "\n",
        "  plt.figure(figsize=(8, 5))\n",
        "  plt.style.use('seaborn-whitegrid')\n",
        "  plt.plot(fpr[1], tpr[1])\n",
        "\n",
        "  plt.title('Receiver operating characteristic (' + title + ')', size=20)\n",
        "  plt.xlabel('False Positive Rate', size=20)\n",
        "  plt.ylabel('True Positive Rate', size=20)\n",
        "  plt.show()\n",
        "  \n",
        "  roc_score = \"%.3f%%\" % (roc_auc[i] * 100)\n",
        "  print(\"\\nROC Score = \", roc_score)"
      ],
      "execution_count": null,
      "outputs": []
    },
    {
      "cell_type": "markdown",
      "metadata": {
        "id": "fo9Vk5aQZM48"
      },
      "source": [
        "### Neural Network (Basic Edition)"
      ]
    },
    {
      "cell_type": "code",
      "metadata": {
        "id": "CWNHg4E84xlF"
      },
      "source": [
        "class BasicNet(nn.Module):\n",
        "\n",
        "  '''\n",
        "    Basic Edition of our Feed-Forward Neural Net\n",
        "\n",
        "    Structure:\n",
        "      Linear input, hidden and output layers\n",
        "      Use of ReLu activation between every pair of layers for better performance and faster learning of train data \n",
        "\n",
        "    Output layer:\n",
        "      Softmax activation function\n",
        "    '''\n",
        "  \n",
        "  def __init__(self, input_dim, hidden_dim, output_dim):\n",
        "    super(BasicNet, self).__init__()\n",
        "        \n",
        "    self.l1 = nn.Linear(input_dim, hidden_dim) \n",
        "    self.relu1 = nn.ReLU()\n",
        "    self.l2 = nn.Linear(hidden_dim, hidden_dim)\n",
        "    self.relu2 = nn.ReLU()\n",
        "    self.l3 = nn.Linear(hidden_dim, output_dim)  \n",
        "\n",
        "  def forward(self, X):\n",
        "    out = self.l1(X)\n",
        "    out = self.relu1(out)\n",
        "    out = self.l2(out)\n",
        "    out = self.relu2(out)\n",
        "    out = self.l3(out)\n",
        "    return F.softmax(out, dim=1)\n",
        "\n",
        "  def predict(self, X):\n",
        "    Y_pred = self.forward(X)\n",
        "    return Y_pred"
      ],
      "execution_count": null,
      "outputs": []
    },
    {
      "cell_type": "code",
      "metadata": {
        "id": "ydZguWPPZwwo"
      },
      "source": [
        "from d2l import torch as d2l\n",
        "\n",
        "# function that trains a Neural Net and returns the loss history\n",
        "def fit(net, train_X, train_y, epochs=10, learning_rate=0.1, batch_size=1):\n",
        "  train_ls = []\n",
        "  train_iter = d2l.load_array((train_X, train_y), batch_size) # split train set in batches\n",
        "  \n",
        "  optimizer = torch.optim.Adagrad(net.parameters(), lr=learning_rate) # AdaGrad Optimizer\n",
        "  for epoch in range(epochs):\n",
        "    epoch_ls = 0\n",
        "    for X, y in train_iter:\n",
        "      criterion = RMSELoss # use RMSE to calucalate the loss\n",
        "      l = criterion(net(X.float()), y.long()) # calculate batch's loss\n",
        "      epoch_ls += l.item() # sum all batches' losses of current epoch\n",
        "      optimizer.zero_grad()\n",
        "      l.backward()\n",
        "      optimizer.step()\n",
        "    \n",
        "    mean_ls = epoch_ls / len(train_iter) # calculate the mean loss of the current epoch\n",
        "    print(f'epoch {epoch + 1}, loss {mean_ls:f}') \n",
        "    train_ls.append(mean_ls)\n",
        "\n",
        "  return train_ls\n",
        "\n",
        "# function that executes the Neural Net training and prints the loss per epoch\n",
        "def train_net(device, net, train_X, train_y, sample, epochs=10, lr=0.1, batch=1):\n",
        "  # add parameters to device\n",
        "  train_X = train_X.to(device)\n",
        "  train_y = train_y.to(device)\n",
        "  net.to(device)\n",
        "\n",
        "  # execute fit on train set\n",
        "  train_ls = fit(net, train_X[:sample], train_y[:sample], epochs=epochs, learning_rate=lr, batch_size=batch) \n",
        "  print(f'\\nFinal loss {train_ls[-1]:f}')\n",
        "\n",
        "  return train_ls "
      ],
      "execution_count": null,
      "outputs": []
    },
    {
      "cell_type": "code",
      "metadata": {
        "id": "dKTELKj0eU5i"
      },
      "source": [
        "from sklearn import metrics\n",
        "\n",
        "# function that executes prediction on test set \n",
        "def predict_on_test(device, net, test_X, test_y):\n",
        "  # add parameters to device\n",
        "  test_X = test_X.to(device)\n",
        "  test_y = test_y.to(device)\n",
        "\n",
        "  y_pred = net.predict(test_X) # execute predict on test set\n",
        "\n",
        "  test_y, y_pred = test_y.cpu().data.numpy(), y_pred.cpu().data.numpy() # convert to numpy \n",
        "\n",
        "  prec = \"%.3f%%\" % (metrics.precision_score(test_y, y_pred) * 100)\n",
        "  rec = \"%.3f%%\" % (metrics.recall_score(test_y, y_pred) * 100)\n",
        "  f1 = \"%.3f%%\" % (metrics.f1_score(test_y, y_pred) * 100)\n",
        "\n",
        "  return y_pred, prec, rec, f1"
      ],
      "execution_count": null,
      "outputs": []
    },
    {
      "cell_type": "markdown",
      "metadata": {
        "id": "ASbjSirM24cj"
      },
      "source": [
        "### Train & Predict"
      ]
    },
    {
      "cell_type": "code",
      "metadata": {
        "id": "pVzvILvo3GCw"
      },
      "source": [
        "# initialize dataframe to display metrics\n",
        "bnn_df = display_metrics('BasicNet-tfidf', 'BasicNet-glove')"
      ],
      "execution_count": null,
      "outputs": []
    },
    {
      "cell_type": "code",
      "metadata": {
        "id": "LODecKOGVtZs",
        "colab": {
          "base_uri": "https://localhost:8080/"
        },
        "outputId": "aef42eb4-d5f5-4514-a26b-5c6bb95ef44e"
      },
      "source": [
        "# enable gpu for faster execution\n",
        "device = torch.device(\"cuda\" if torch.cuda.is_available() else \"cpu\")\n",
        "print(\"Device available for running: \")\n",
        "print(device)"
      ],
      "execution_count": null,
      "outputs": [
        {
          "output_type": "stream",
          "text": [
            "Device available for running: \n",
            "cuda\n"
          ],
          "name": "stdout"
        }
      ]
    },
    {
      "cell_type": "markdown",
      "metadata": {
        "id": "Be8NXB0gfxoD"
      },
      "source": [
        "#### Tf-idf"
      ]
    },
    {
      "cell_type": "code",
      "metadata": {
        "id": "ys1OzarFuTst"
      },
      "source": [
        "# initialize parameters\n",
        "sample1=train_tfidf.shape[0] # the whole training set\n",
        "epochs1=5\n",
        "lr1=0.001\n",
        "batch1=1024\n",
        "\n",
        "# initialize Neural Net\n",
        "net1 = BasicNet(train_tfidf.shape[1], train_tfidf.shape[1], 1)"
      ],
      "execution_count": null,
      "outputs": []
    },
    {
      "cell_type": "code",
      "metadata": {
        "colab": {
          "base_uri": "https://localhost:8080/"
        },
        "id": "zRsY2ZckUrWf",
        "outputId": "602cd4e0-270a-482d-8899-5b4196b37233"
      },
      "source": [
        "# train Neural Net\n",
        "btrain_tfidf_ls = train_net(device, net1, train_tfidf, train_y, sample1, epochs1, lr1, batch1) \n",
        "# predict on test set\n",
        "(bpred_tfidf,\n",
        " bnn_df.loc['BasicNet-tfidf','Precision'], \n",
        " bnn_df.loc['BasicNet-tfidf','Recall'], \n",
        " bnn_df.loc['BasicNet-tfidf','F1-Score']) = predict_on_test(device, net1, test_tfidf, test_y) "
      ],
      "execution_count": null,
      "outputs": [
        {
          "output_type": "stream",
          "text": [
            "epoch 1, loss 0.706680\n",
            "epoch 2, loss 0.706688\n",
            "epoch 3, loss 0.706682\n",
            "epoch 4, loss 0.706684\n",
            "epoch 5, loss 0.706687\n",
            "\n",
            "Final loss 0.706687\n"
          ],
          "name": "stdout"
        }
      ]
    },
    {
      "cell_type": "markdown",
      "metadata": {
        "id": "HvfmXHhAhvYI"
      },
      "source": [
        "**Our first Neural network, BasicNet, is trained with RMSE loss function and uses softmax activation function (adapted for binary classification) in the output layer. Moreover, we choose the number of neurons in the hidden layer to be equal to the number of neurons in the input layer. <br> From our first experiment with BasicNet, using tf-idf input vectors, it's obvious that our model doesn't converge because it's overfitting. This can be easily concluded both from the ups and downs between the pairs of epochs and from the below Loss-Epoch Diagram. <br> This is a problem we will solve with our next  Neural Network, UpgradedNet.**\n"
      ]
    },
    {
      "cell_type": "code",
      "metadata": {
        "id": "nSf_9I4Dx-5a",
        "colab": {
          "base_uri": "https://localhost:8080/",
          "height": 360
        },
        "outputId": "1c1d6fc1-3225-402d-f29f-e7994610bbae"
      },
      "source": [
        "loss_per_epoch(btrain_tfidf_ls, 'BasicNet-tfidf')"
      ],
      "execution_count": null,
      "outputs": [
        {
          "output_type": "display_data",
          "data": {
            "image/png": "[encoded data removed]",
            "text/plain": [
              "<Figure size 576x360 with 1 Axes>"
            ]
          },
          "metadata": {
            "tags": []
          }
        }
      ]
    },
    {
      "cell_type": "markdown",
      "metadata": {
        "id": "EUsO_NXygAL2"
      },
      "source": [
        "#### GloVe"
      ]
    },
    {
      "cell_type": "code",
      "metadata": {
        "id": "iJvtif7wPnd5"
      },
      "source": [
        "# initialize parameters\n",
        "sample2=train_glove.shape[0] # the whole training set\n",
        "epochs2=5\n",
        "lr2=0.001\n",
        "batch2=1024\n",
        "\n",
        "# initialize Neural Net\n",
        "net2 = BasicNet(train_glove.shape[1], train_glove.shape[1], 1)"
      ],
      "execution_count": null,
      "outputs": []
    },
    {
      "cell_type": "code",
      "metadata": {
        "colab": {
          "base_uri": "https://localhost:8080/"
        },
        "id": "G_hLfGBlsNR1",
        "outputId": "7183d308-eda6-4a00-bb29-c0c54f35b197"
      },
      "source": [
        "# train Neural Net\n",
        "btrain_glove_ls = train_net(device, net2, train_glove, train_y, sample2, epochs2, lr2, batch2) \n",
        "# predict on test set\n",
        "(bpred_glove,\n",
        " bnn_df.loc['BasicNet-glove','Precision'], \n",
        " bnn_df.loc['BasicNet-glove','Recall'], \n",
        " bnn_df.loc['BasicNet-glove','F1-Score']) = predict_on_test(device, net2, test_glove, test_y) "
      ],
      "execution_count": null,
      "outputs": [
        {
          "output_type": "stream",
          "text": [
            "epoch 1, loss 0.706683\n",
            "epoch 2, loss 0.706684\n",
            "epoch 3, loss 0.706684\n",
            "epoch 4, loss 0.706682\n",
            "epoch 5, loss 0.706692\n",
            "\n",
            "Final loss 0.706692\n"
          ],
          "name": "stdout"
        }
      ]
    },
    {
      "cell_type": "markdown",
      "metadata": {
        "id": "ewbtN2q4mqzm"
      },
      "source": [
        "**Our second experiment with BasicNet, using glove embeddings input vectors, produces more less the same results with our first experiment. Our model is overfitting, again. This means that pretrained embeddings can not change the efficiency of a whole model on their own. <br> We are obliged to make changes to BasicNet's layers and activations functions, in order to produce better results.**"
      ]
    },
    {
      "cell_type": "code",
      "metadata": {
        "colab": {
          "base_uri": "https://localhost:8080/",
          "height": 360
        },
        "id": "rPZd9LuWsNR3",
        "outputId": "dae9791a-a4f2-4835-b169-d363c6417c6b"
      },
      "source": [
        "loss_per_epoch(btrain_glove_ls, 'BasicNet-glove')"
      ],
      "execution_count": null,
      "outputs": [
        {
          "output_type": "display_data",
          "data": {
            "image/png": "[encoded data removed]",
            "text/plain": [
              "<Figure size 576x360 with 1 Axes>"
            ]
          },
          "metadata": {
            "tags": []
          }
        }
      ]
    },
    {
      "cell_type": "markdown",
      "metadata": {
        "id": "qFqzo5-DismJ"
      },
      "source": [
        "### BasicNet Prediction Evaluation"
      ]
    },
    {
      "cell_type": "code",
      "metadata": {
        "colab": {
          "base_uri": "https://localhost:8080/",
          "height": 111
        },
        "id": "MwdbdV51rE3K",
        "outputId": "b14dc80b-23a6-4e04-9400-9cc6e70caafd"
      },
      "source": [
        "bnn_df"
      ],
      "execution_count": null,
      "outputs": [
        {
          "output_type": "execute_result",
          "data": {
            "text/html": [
              "<div>\n",
              "<style scoped>\n",
              "    .dataframe tbody tr th:only-of-type {\n",
              "        vertical-align: middle;\n",
              "    }\n",
              "\n",
              "    .dataframe tbody tr th {\n",
              "        vertical-align: top;\n",
              "    }\n",
              "\n",
              "    .dataframe thead th {\n",
              "        text-align: right;\n",
              "    }\n",
              "</style>\n",
              "<table border=\"1\" class=\"dataframe\">\n",
              "  <thead>\n",
              "    <tr style=\"text-align: right;\">\n",
              "      <th></th>\n",
              "      <th>Precision</th>\n",
              "      <th>Recall</th>\n",
              "      <th>F1-Score</th>\n",
              "    </tr>\n",
              "  </thead>\n",
              "  <tbody>\n",
              "    <tr>\n",
              "      <th>BasicNet-tfidf</th>\n",
              "      <td>50.048%</td>\n",
              "      <td>100.000%</td>\n",
              "      <td>66.709%</td>\n",
              "    </tr>\n",
              "    <tr>\n",
              "      <th>BasicNet-glove</th>\n",
              "      <td>50.048%</td>\n",
              "      <td>100.000%</td>\n",
              "      <td>66.709%</td>\n",
              "    </tr>\n",
              "  </tbody>\n",
              "</table>\n",
              "</div>"
            ],
            "text/plain": [
              "               Precision    Recall F1-Score\n",
              "BasicNet-tfidf   50.048%  100.000%  66.709%\n",
              "BasicNet-glove   50.048%  100.000%  66.709%"
            ]
          },
          "metadata": {
            "tags": []
          },
          "execution_count": 92
        }
      ]
    },
    {
      "cell_type": "markdown",
      "metadata": {
        "id": "_1oDP94voQTe"
      },
      "source": [
        "**Our first two experiments with BasicNet didn't provide us the results we would like, in terms of prediction on the test set. Examining the metrics at first glance, we may consider that the F1 Score seems satisfying. That's not entirely true because there is a big imbalance between the Precision and Recall metrics. This imbalance (Low Precision - High Recall) practically means that the Neural Network classifies all the positive sentiments correctly but it also classifies almost half of the negative sentiments as positive. As a result F1 Score gets a value between the values of Precision and Recall. However, this F1 Score value isn't representative of the effectiveness of the classifier, due to the fact that Precision is really bad. Another observation that is not so much expected is the fact that we get the same prediction results for both our models trained with different input vectors.**\n"
      ]
    },
    {
      "cell_type": "markdown",
      "metadata": {
        "id": "ir5xbfh2-RaN"
      },
      "source": [
        "### Neural Network (Upgraded Edition)"
      ]
    },
    {
      "cell_type": "code",
      "metadata": {
        "id": "rKVUnt9E-RaN"
      },
      "source": [
        "class UpgradedNet(nn.Module):\n",
        "  \n",
        "  '''\n",
        "    Upgraded Edition of our Feed-Forward Neural Net\n",
        "\n",
        "    Structure:\n",
        "      Linear input, hidden and output layers\n",
        "      Use of LeakyReLu activation between every pair of layers to deal with the dying ReLU problem\n",
        "    \n",
        "    Output layer:\n",
        "      Sigmoid activation function\n",
        "  '''\n",
        "\n",
        "  def __init__(self, input_dim, hidden_dim, output_dim):\n",
        "    super(UpgradedNet, self).__init__()\n",
        "        \n",
        "    self.l1 = nn.Linear(input_dim, hidden_dim)\n",
        "    self.relu1 = nn.LeakyReLU()                       # switch ReLu activation function with LeakyReLu activation function\n",
        "    self.hd1 = (hidden_dim / 3) * 2 + 1               # calculate the number of output neurons of the first hidden layer        \n",
        "    self.l2 = nn.Linear(hidden_dim, int(self.hd1)) \n",
        "    self.relu2 = nn.LeakyReLU()                       # switch ReLu activation function with LeakyReLu activation function\n",
        "    self.hd2 = (int(self.hd1) / 3) * 2 + 1            # calculate the number of output neurons of the second hidden layer\n",
        "    self.l3 = nn.Linear(int(self.hd1), int(self.hd2)) \n",
        "    self.relu3 = nn.LeakyReLU()                       # switch ReLu activation function with LeakyReLu activation function\n",
        "    self.l4 = nn.Linear(int(self.hd2), output_dim)  \n",
        "    \n",
        "  def forward(self, X):\n",
        "    out = self.l1(X)\n",
        "    out = self.relu1(out)\n",
        "    out = self.l2(out)\n",
        "    out = self.relu2(out)\n",
        "    out = self.l3(out)\n",
        "    out = self.relu3(out)\n",
        "    out = self.l4(out)    \n",
        "    return F.sigmoid(out) # replace softmax of BasicNet with sigmoid\n",
        "\n",
        "  def predict(self, X):\n",
        "    Y_pred = self.forward(X)\n",
        "    return Y_pred"
      ],
      "execution_count": null,
      "outputs": []
    },
    {
      "cell_type": "code",
      "metadata": {
        "id": "HM6HJA6ZspsR"
      },
      "source": [
        "# function that trains a Neural Net and returns the loss history\n",
        "# with manual implementation of Early Stopping and BCELoss loss function\n",
        "def fit_with_early_stopping(net, train_X, train_y, epochs=10, learning_rate=0.1, batch_size=1, patience=3):\n",
        "  not_improved = 0\n",
        "  early_stop = False\n",
        "  min_ls = np.Inf # initialize minimum loss\n",
        "  \n",
        "  train_ls = []\n",
        "  train_iter = d2l.load_array((train_X, train_y), batch_size) # split train set in batches\n",
        "  \n",
        "  optimizer = torch.optim.Adagrad(net.parameters(), lr=learning_rate) # AdaGrad Optimizer\n",
        "  for epoch in range(epochs):\n",
        "    epoch_ls = 0\n",
        "    for X, y in train_iter:\n",
        "      criterion = nn.BCELoss() # use BCELoss to calucalate the loss\n",
        "      y = y.unsqueeze(1)\n",
        "      l = criterion(net(X.float()), y) # calculate batch's loss\n",
        "      epoch_ls += l.item() # sum all batches' losses of current epoch\n",
        "      optimizer.zero_grad()\n",
        "      l.backward()\n",
        "      optimizer.step()\n",
        "    \n",
        "    mean_ls = epoch_ls / len(train_iter) # calculate the mean loss of the current epoch\n",
        "    mean_ls = round(mean_ls, 6) # round up the loss to the 6th decimal digit\n",
        "\n",
        "    if mean_ls < min_ls: # store minimum loss\n",
        "      not_improved = 0\n",
        "      min_ls = mean_ls\n",
        "\n",
        "    else:\n",
        "      not_improved += 1 # raise not_improved counter\n",
        "\n",
        "    if (epoch + 1) >= patience and not_improved == patience: # apply early stopping \n",
        "      print(\"Early stopping! (patience = \" + str(patience) + \")\")\n",
        "      early_stop = True\n",
        "      break\n",
        "\n",
        "    print(f'epoch {epoch + 1}, loss {mean_ls:f}') \n",
        "    train_ls.append(mean_ls)\n",
        "\n",
        "  return train_ls\n",
        "\n",
        "# function that executes the Neural Net training and prints the loss per epoch, applying Early Stopping\n",
        "def train_net_with_early_stopping(device, net, train_X, train_y, sample, epochs=10, lr=0.1, batch=1, patience=3):\n",
        "  # add parameters to device\n",
        "  train_X = train_X.to(device)\n",
        "  train_y = train_y.to(device)\n",
        "  net.to(device)\n",
        "\n",
        "  # execute fit with Early Stopping on train set\n",
        "  train_ls = fit_with_early_stopping(net, train_X[:sample], train_y[:sample], epochs=epochs, learning_rate=lr, batch_size=batch, patience=patience) \n",
        "  print(f'\\nFinal loss {train_ls[-1]:f}')\n",
        "\n",
        "  return train_ls "
      ],
      "execution_count": null,
      "outputs": []
    },
    {
      "cell_type": "code",
      "metadata": {
        "id": "OZu7Nyttmh6x"
      },
      "source": [
        "# function that executes prediction on test set using sigmoid activation function on output layer\n",
        "def predict_on_test_with_sigmoid(device, net, test_X, test_y):\n",
        "  # add parameters to device\n",
        "  test_X = test_X.to(device)\n",
        "  test_y = test_y.to(device)\n",
        "\n",
        "  y_pred = net.predict(test_X) # execute predict on test set\n",
        "  y_pred = y_pred.cpu().data.numpy() # convert to numpy\n",
        "  \n",
        "  y_pred = np.where(y_pred >= 0.5, 1, 0) # if prediction is >= 0.5 set it to 1\n",
        "\n",
        "  test_y = test_y.cpu().data.numpy() # convert to numpy \n",
        "\n",
        "  prec = \"%.3f%%\" % (metrics.precision_score(test_y, y_pred) * 100)\n",
        "  rec = \"%.3f%%\" % (metrics.recall_score(test_y, y_pred) * 100)\n",
        "  f1 = \"%.3f%%\" % (metrics.f1_score(test_y, y_pred) * 100)\n",
        "\n",
        "  return y_pred, prec, rec, f1"
      ],
      "execution_count": null,
      "outputs": []
    },
    {
      "cell_type": "markdown",
      "metadata": {
        "id": "Q0Dzsc_13Ch8"
      },
      "source": [
        "### Train & Predict"
      ]
    },
    {
      "cell_type": "code",
      "metadata": {
        "id": "aqGlRs5_53PW"
      },
      "source": [
        "# initialize dataframe to display metrics\n",
        "unn_df = display_metrics('UpgradedNet-tfidf', 'UpgradedNet-glove')"
      ],
      "execution_count": null,
      "outputs": []
    },
    {
      "cell_type": "code",
      "metadata": {
        "colab": {
          "base_uri": "https://localhost:8080/"
        },
        "id": "mPZfeCWpwjdn",
        "outputId": "a76c5cf7-fd7a-43e5-ef77-3ceabb36b123"
      },
      "source": [
        "# enable gpu for faster execution\n",
        "device = torch.device(\"cuda\" if torch.cuda.is_available() else \"cpu\")\n",
        "print(\"Device available for running: \")\n",
        "print(device)"
      ],
      "execution_count": null,
      "outputs": [
        {
          "output_type": "stream",
          "text": [
            "Device available for running: \n",
            "cuda\n"
          ],
          "name": "stdout"
        }
      ]
    },
    {
      "cell_type": "markdown",
      "metadata": {
        "id": "0hLrkISE-RaN"
      },
      "source": [
        "#### Tf-idf"
      ]
    },
    {
      "cell_type": "code",
      "metadata": {
        "id": "ZNqpNySA-RaN"
      },
      "source": [
        "# initialize parameters\n",
        "sample3=train_tfidf.shape[0] # the whole training set\n",
        "epochs3=20\n",
        "lr3=0.005\n",
        "batch3=1024\n",
        "patience=3 # number of allowed epochs with worse loss\n",
        "\n",
        "# initialize Neural Net\n",
        "net3 = UpgradedNet(train_tfidf.shape[1], train_tfidf.shape[1], 1)"
      ],
      "execution_count": null,
      "outputs": []
    },
    {
      "cell_type": "code",
      "metadata": {
        "colab": {
          "base_uri": "https://localhost:8080/"
        },
        "id": "9nAOzl9S-RaN",
        "outputId": "ccd05f20-cf23-46a7-89c1-58d35a7cb372"
      },
      "source": [
        "# train Neural Net\n",
        "utrain_tfidf_ls = train_net_with_early_stopping(device, net3, train_tfidf, train_y, sample3, epochs3, lr3, batch3, patience) \n",
        "# predict on test set\n",
        "(upred_tfidf,\n",
        " unn_df.loc['UpgradedNet-tfidf','Precision'], \n",
        " unn_df.loc['UpgradedNet-tfidf','Recall'], \n",
        " unn_df.loc['UpgradedNet-tfidf','F1-Score']) = predict_on_test_with_sigmoid(device, net3, test_tfidf, test_y) "
      ],
      "execution_count": null,
      "outputs": [
        {
          "output_type": "stream",
          "text": [
            "epoch 1, loss 0.590471\n",
            "epoch 2, loss 0.586390\n",
            "epoch 3, loss 0.585185\n",
            "epoch 4, loss 0.584324\n",
            "epoch 5, loss 0.583604\n",
            "epoch 6, loss 0.583019\n",
            "epoch 7, loss 0.582487\n",
            "epoch 8, loss 0.582050\n",
            "epoch 9, loss 0.581646\n",
            "epoch 10, loss 0.581323\n",
            "epoch 11, loss 0.580998\n",
            "epoch 12, loss 0.580715\n",
            "epoch 13, loss 0.580465\n",
            "epoch 14, loss 0.580219\n",
            "epoch 15, loss 0.580003\n",
            "epoch 16, loss 0.579786\n",
            "epoch 17, loss 0.579586\n",
            "epoch 18, loss 0.579420\n",
            "epoch 19, loss 0.579265\n",
            "epoch 20, loss 0.579082\n",
            "\n",
            "Final loss 0.579082\n"
          ],
          "name": "stdout"
        }
      ]
    },
    {
      "cell_type": "markdown",
      "metadata": {
        "id": "2oqXd6vtzs4O"
      },
      "source": [
        "**We upgrade our first Neural network, BasicNet, into UpgradedNet. This time, we train UpgradedNet with BCELoss loss function and we use sigmoid activation function (appropriate for binary classification by default) in the output layer. We, also replace the ReLu activation functions with LeakyReLu ones. The reason we apply this change is related to the prediction results on the test set and we will analyze it below. Moreover, we choose the number of neurons in each hidden layer to be 2/3 the size of the neurons of the previous layer, plus the size of the output layer. The best learning rate that occured after experementation is 0.005, that's why we use it in both our UpgradedNet models. Finally, trying to avoid overfitting we train UpgradedNet with the Early Stopping technique, with patience=3 and after experementation it is indeed applied for a big number of epochs ( > 100). <br> In the above experiment we choose to train the model for 20 epochs to reduce time execution. Besides, the model already converges just fine and the loss is now reduced by more than 0.1 compared to the relative experiment we conducted with the BasicNet model. After executing the above experiment we can, in fact, confirm the bad effect of RMSE loss function in binary classification models. We know that MSE is not guaranteed to minimize the loss function, because MSE function expects real-valued inputs in range (-∞, ∞), while binary classification models output probabilities in range(0,1) through the sigmoid function. In a few words, RMSE was the main factor that caused overfitting in BasicNet models.  <br> The above results are visualized in the Loss-Epoch Diagram.**\n"
      ]
    },
    {
      "cell_type": "code",
      "metadata": {
        "colab": {
          "base_uri": "https://localhost:8080/",
          "height": 360
        },
        "id": "dJoFK-NQ-RaO",
        "outputId": "1b460ba2-59f3-4d28-cfa9-bdeaffa9d8cc"
      },
      "source": [
        "loss_per_epoch(utrain_tfidf_ls, 'UpgradedNet-tfidf')"
      ],
      "execution_count": null,
      "outputs": [
        {
          "output_type": "display_data",
          "data": {
            "image/png": "[encoded data removed]",
            "text/plain": [
              "<Figure size 576x360 with 1 Axes>"
            ]
          },
          "metadata": {
            "tags": []
          }
        }
      ]
    },
    {
      "cell_type": "markdown",
      "metadata": {
        "id": "56JssDknTOhi"
      },
      "source": [
        "#### GloVe\n"
      ]
    },
    {
      "cell_type": "code",
      "metadata": {
        "id": "Ql7_Ph-gTOhi"
      },
      "source": [
        "# initialize parameters\n",
        "sample4=train_glove.shape[0] # the whole training set\n",
        "epochs4=20\n",
        "lr4=0.005\n",
        "batch4=1024\n",
        "patience=3 # number of allowed epochs with worse loss\n",
        "\n",
        "# initialize Neural Net\n",
        "net4 = UpgradedNet(train_glove.shape[1], train_glove.shape[1], 1)"
      ],
      "execution_count": null,
      "outputs": []
    },
    {
      "cell_type": "code",
      "metadata": {
        "colab": {
          "base_uri": "https://localhost:8080/"
        },
        "id": "ShzF80JgTOhi",
        "outputId": "c358ce7e-ebe2-4bff-ac29-d46f92658091"
      },
      "source": [
        "# train Neural Net\n",
        "utrain_glove_ls = train_net_with_early_stopping(device, net4, train_glove, train_y, sample4, epochs4, lr4, batch4, patience) \n",
        "# predict on test set\n",
        "(upred_glove,\n",
        " unn_df.loc['UpgradedNet-glove','Precision'], \n",
        " unn_df.loc['UpgradedNet-glove','Recall'], \n",
        " unn_df.loc['UpgradedNet-glove','F1-Score']) = predict_on_test_with_sigmoid(device, net4, test_glove, test_y) "
      ],
      "execution_count": null,
      "outputs": [
        {
          "output_type": "stream",
          "text": [
            "epoch 1, loss 0.561813\n",
            "epoch 2, loss 0.545275\n",
            "epoch 3, loss 0.539491\n",
            "epoch 4, loss 0.535773\n",
            "epoch 5, loss 0.533183\n",
            "epoch 6, loss 0.531122\n",
            "epoch 7, loss 0.529339\n",
            "epoch 8, loss 0.527853\n",
            "epoch 9, loss 0.526606\n",
            "epoch 10, loss 0.525455\n",
            "epoch 11, loss 0.524395\n",
            "epoch 12, loss 0.523436\n",
            "epoch 13, loss 0.522623\n",
            "epoch 14, loss 0.521839\n",
            "epoch 15, loss 0.521119\n",
            "epoch 16, loss 0.520491\n",
            "epoch 17, loss 0.519826\n",
            "epoch 18, loss 0.519306\n",
            "epoch 19, loss 0.518792\n",
            "epoch 20, loss 0.518319\n",
            "\n",
            "Final loss 0.518319\n"
          ],
          "name": "stdout"
        }
      ]
    },
    {
      "cell_type": "markdown",
      "metadata": {
        "id": "fvBkLhcJ7syZ"
      },
      "source": [
        "**Our second experiment with UpgradedNet, using glove embeddings input vectors, produces similar results with our previous experiment with UpgradedNet, concerning the loss. We train our model using the Early Stopping technique, with patience=3 and Early Stopping is again applied for a big number of epochs. In this experiment we also manage to avoid overfitting and we observe an even better loss reduction, since the loss is almost 0.2 lower compared to the relative loss of BasicNet model. The above results are visualized in the Loss-Epoch Diagram.**\n"
      ]
    },
    {
      "cell_type": "code",
      "metadata": {
        "colab": {
          "base_uri": "https://localhost:8080/",
          "height": 360
        },
        "id": "pEhg5lfOTOhj",
        "outputId": "d330c827-e137-47f1-d679-15841c8ea70e"
      },
      "source": [
        "loss_per_epoch(utrain_glove_ls, 'UpgradedNet-glove')"
      ],
      "execution_count": null,
      "outputs": [
        {
          "output_type": "display_data",
          "data": {
            "image/png": "[encoded data removed]",
            "text/plain": [
              "<Figure size 576x360 with 1 Axes>"
            ]
          },
          "metadata": {
            "tags": []
          }
        }
      ]
    },
    {
      "cell_type": "markdown",
      "metadata": {
        "id": "vY8CqNrhi1iQ"
      },
      "source": [
        "### UpgradedNet Prediction Evaluation"
      ]
    },
    {
      "cell_type": "code",
      "metadata": {
        "id": "qVaL1mG3gDYa",
        "colab": {
          "base_uri": "https://localhost:8080/",
          "height": 111
        },
        "outputId": "12a32540-9746-4d89-d1c0-88a7331cc2d5"
      },
      "source": [
        "unn_df"
      ],
      "execution_count": null,
      "outputs": [
        {
          "output_type": "execute_result",
          "data": {
            "text/html": [
              "<div>\n",
              "<style scoped>\n",
              "    .dataframe tbody tr th:only-of-type {\n",
              "        vertical-align: middle;\n",
              "    }\n",
              "\n",
              "    .dataframe tbody tr th {\n",
              "        vertical-align: top;\n",
              "    }\n",
              "\n",
              "    .dataframe thead th {\n",
              "        text-align: right;\n",
              "    }\n",
              "</style>\n",
              "<table border=\"1\" class=\"dataframe\">\n",
              "  <thead>\n",
              "    <tr style=\"text-align: right;\">\n",
              "      <th></th>\n",
              "      <th>Precision</th>\n",
              "      <th>Recall</th>\n",
              "      <th>F1-Score</th>\n",
              "    </tr>\n",
              "  </thead>\n",
              "  <tbody>\n",
              "    <tr>\n",
              "      <th>UpgradedNet-tfidf</th>\n",
              "      <td>63.859%</td>\n",
              "      <td>77.412%</td>\n",
              "      <td>69.986%</td>\n",
              "    </tr>\n",
              "    <tr>\n",
              "      <th>UpgradedNet-glove</th>\n",
              "      <td>73.868%</td>\n",
              "      <td>73.475%</td>\n",
              "      <td>73.671%</td>\n",
              "    </tr>\n",
              "  </tbody>\n",
              "</table>\n",
              "</div>"
            ],
            "text/plain": [
              "                  Precision   Recall F1-Score\n",
              "UpgradedNet-tfidf   63.859%  77.412%  69.986%\n",
              "UpgradedNet-glove   73.868%  73.475%  73.671%"
            ]
          },
          "metadata": {
            "tags": []
          },
          "execution_count": 104
        }
      ]
    },
    {
      "cell_type": "markdown",
      "metadata": {
        "id": "bo0E9KpjzyTr"
      },
      "source": [
        "**Our two experiments with UpgradedNet helped us optimize the results concerning the loss convergence. Specifically, we managed to stop overfitting and we reduced the loss by almost 15% in the first UpgradedNet model and by 30% in the second. Let's see what happened with the prediction on the test set. <br> At first glance, there is a significant improvement in the prediction results compared to the corresponding ones of our BasicNet models. After experementation, we concluded that the main reason that led to this improvement of the prediction results, is the use of the sigmoid function in the output layer combined with the changes we made in the hidden layers architecture. Let's break it down. <br> First of all, the switching of the output activation function from softmax to sigmoid had a big impact in loss reduction. More precisely, by using the sigmoid function the loss automatically dropped by 0.5 and the models began to converge normally. Another important factor, was the hidden layers architecture. The way we chose to gradually reduce the neurons layer by layer, led not only in faster loss convergence but also raised the prediction metrics by almost 4%. Continuing the analysis on model's architecture, the use of LeakyReLu activation function instead of ReLu had a small but significant effect in the metrics' values. We came up using LeakyReLu after experimenting with all respective activation functions like ReLu, ELU and SELU. LeakyReLu produced the best metrics among all of them by 2%. LeakyReLu turned out to have a good loss convergence even though it didn't converge faster than ReLu. ELU was a step behind concerning efficiency in both loss convergence and prediction metrics. Finally, SELU had a terrible convergence compared to the other 3 activation functions. <br> On the other hand, adding a dropout layer didn't have a good effect on the model. We tried putting a dropout layer in different positions of our Neural Network but in no case it had a positive impact. Specifically, the model was converging much slower and the metrics were similar with the ones of BasicNet. <br> Returning to the positive factors of prediction's improvment we should notice the importance of the size of input vectors. For example, at first we used tf-idf input vectors of size 100. The prediction results we got were worse than the BasicNet ones! Once, we changed the input size to 150 we noticed a huge raise of almost 10% on all metrics, that eventually led to the prediction results we show on the above dataframes. Last but not least, we should mention the importance of picking the correct optimizer. We already knew that theoretically AdaGrad is usually a good optimizer for binary classification problems. In order to be sure, we also, experimented with Stochastic Gradient Descent optimizer and the prediction results were very close to AdaGrad's, but the converge was much slower. Finally, we tried Adam optimizer as well and we observed a fast convergence. Yet, the prediction on the test set was much worse, since all metrics were almost 10% lower than metrics we got using AdaGrad.**\n"
      ]
    },
    {
      "cell_type": "markdown",
      "metadata": {
        "id": "6R7VR_H9Mziy"
      },
      "source": [
        "## Final Evaluation"
      ]
    },
    {
      "cell_type": "markdown",
      "metadata": {
        "id": "TwJ5hBlKDB7n"
      },
      "source": [
        "#### Sort models from best to worst based on lowest Final Loss"
      ]
    },
    {
      "cell_type": "code",
      "metadata": {
        "colab": {
          "base_uri": "https://localhost:8080/",
          "height": 173
        },
        "id": "tTYg0HJPB9Ba",
        "outputId": "49010bbc-37e1-4054-9ff3-74a5df90a0b3"
      },
      "source": [
        "# initialize a dataframe to display loss\n",
        "ls_df = display_func('BasicNet-tfidf', 'BasicNet-glove', 'UpgradedNet-tfidf', 'UpgradedNet-glove', 'Final-Loss')\n",
        "\n",
        "# store each model's final loss \n",
        "ls_df.loc['BasicNet-tfidf','Final-Loss'] = btrain_tfidf_ls[-1]\n",
        "ls_df.loc['BasicNet-glove','Final-Loss'] = btrain_glove_ls[-1]\n",
        "ls_df.loc['UpgradedNet-tfidf','Final-Loss'] = utrain_tfidf_ls[-1]\n",
        "ls_df.loc['UpgradedNet-glove','Final-Loss'] = utrain_glove_ls[-1]\n",
        "\n",
        "# sort Neural Nets based on Final-Loss column\n",
        "sort_ls_df = ls_df.sort_values(by=['Final-Loss'], ascending=True)\n",
        "sort_ls_df"
      ],
      "execution_count": null,
      "outputs": [
        {
          "output_type": "execute_result",
          "data": {
            "text/html": [
              "<div>\n",
              "<style scoped>\n",
              "    .dataframe tbody tr th:only-of-type {\n",
              "        vertical-align: middle;\n",
              "    }\n",
              "\n",
              "    .dataframe tbody tr th {\n",
              "        vertical-align: top;\n",
              "    }\n",
              "\n",
              "    .dataframe thead th {\n",
              "        text-align: right;\n",
              "    }\n",
              "</style>\n",
              "<table border=\"1\" class=\"dataframe\">\n",
              "  <thead>\n",
              "    <tr style=\"text-align: right;\">\n",
              "      <th></th>\n",
              "      <th>Final-Loss</th>\n",
              "    </tr>\n",
              "  </thead>\n",
              "  <tbody>\n",
              "    <tr>\n",
              "      <th>UpgradedNet-glove</th>\n",
              "      <td>0.518319</td>\n",
              "    </tr>\n",
              "    <tr>\n",
              "      <th>UpgradedNet-tfidf</th>\n",
              "      <td>0.579082</td>\n",
              "    </tr>\n",
              "    <tr>\n",
              "      <th>BasicNet-tfidf</th>\n",
              "      <td>0.706687</td>\n",
              "    </tr>\n",
              "    <tr>\n",
              "      <th>BasicNet-glove</th>\n",
              "      <td>0.706692</td>\n",
              "    </tr>\n",
              "  </tbody>\n",
              "</table>\n",
              "</div>"
            ],
            "text/plain": [
              "                  Final-Loss\n",
              "UpgradedNet-glove   0.518319\n",
              "UpgradedNet-tfidf   0.579082\n",
              "BasicNet-tfidf      0.706687\n",
              "BasicNet-glove      0.706692"
            ]
          },
          "metadata": {
            "tags": []
          },
          "execution_count": 105
        }
      ]
    },
    {
      "cell_type": "markdown",
      "metadata": {
        "id": "TyPExtEwAdQJ"
      },
      "source": [
        "#### Sort models from best to worst based on highest F1 Score"
      ]
    },
    {
      "cell_type": "code",
      "metadata": {
        "colab": {
          "base_uri": "https://localhost:8080/",
          "height": 173
        },
        "id": "BWsBiUP3ASth",
        "outputId": "3fd099f8-76c8-4e6c-8b33-62ae24086e67"
      },
      "source": [
        "#concatenate dataframes' rows to create a new dataframe\n",
        "nn_df = pd.concat([bnn_df, unn_df])\n",
        "\n",
        "#sort Neural Nets based on F1-Score\n",
        "sort_nn_df = nn_df.sort_values(by=['F1-Score'], ascending=False)\n",
        "sort_nn_df"
      ],
      "execution_count": null,
      "outputs": [
        {
          "output_type": "execute_result",
          "data": {
            "text/html": [
              "<div>\n",
              "<style scoped>\n",
              "    .dataframe tbody tr th:only-of-type {\n",
              "        vertical-align: middle;\n",
              "    }\n",
              "\n",
              "    .dataframe tbody tr th {\n",
              "        vertical-align: top;\n",
              "    }\n",
              "\n",
              "    .dataframe thead th {\n",
              "        text-align: right;\n",
              "    }\n",
              "</style>\n",
              "<table border=\"1\" class=\"dataframe\">\n",
              "  <thead>\n",
              "    <tr style=\"text-align: right;\">\n",
              "      <th></th>\n",
              "      <th>Precision</th>\n",
              "      <th>Recall</th>\n",
              "      <th>F1-Score</th>\n",
              "    </tr>\n",
              "  </thead>\n",
              "  <tbody>\n",
              "    <tr>\n",
              "      <th>UpgradedNet-glove</th>\n",
              "      <td>73.868%</td>\n",
              "      <td>73.475%</td>\n",
              "      <td>73.671%</td>\n",
              "    </tr>\n",
              "    <tr>\n",
              "      <th>UpgradedNet-tfidf</th>\n",
              "      <td>63.859%</td>\n",
              "      <td>77.412%</td>\n",
              "      <td>69.986%</td>\n",
              "    </tr>\n",
              "    <tr>\n",
              "      <th>BasicNet-tfidf</th>\n",
              "      <td>50.048%</td>\n",
              "      <td>100.000%</td>\n",
              "      <td>66.709%</td>\n",
              "    </tr>\n",
              "    <tr>\n",
              "      <th>BasicNet-glove</th>\n",
              "      <td>50.048%</td>\n",
              "      <td>100.000%</td>\n",
              "      <td>66.709%</td>\n",
              "    </tr>\n",
              "  </tbody>\n",
              "</table>\n",
              "</div>"
            ],
            "text/plain": [
              "                  Precision    Recall F1-Score\n",
              "UpgradedNet-glove   73.868%   73.475%  73.671%\n",
              "UpgradedNet-tfidf   63.859%   77.412%  69.986%\n",
              "BasicNet-tfidf      50.048%  100.000%  66.709%\n",
              "BasicNet-glove      50.048%  100.000%  66.709%"
            ]
          },
          "metadata": {
            "tags": []
          },
          "execution_count": 106
        }
      ]
    },
    {
      "cell_type": "markdown",
      "metadata": {
        "id": "Tn4w-NcnEzDa"
      },
      "source": [
        "#### Dominant Model"
      ]
    },
    {
      "cell_type": "code",
      "metadata": {
        "colab": {
          "base_uri": "https://localhost:8080/",
          "height": 111
        },
        "id": "it8WkDaVE9Z2",
        "outputId": "aeb98fa0-070b-4778-cd1e-d5431fdca576"
      },
      "source": [
        "sort_ls_df.head(2)"
      ],
      "execution_count": null,
      "outputs": [
        {
          "output_type": "execute_result",
          "data": {
            "text/html": [
              "<div>\n",
              "<style scoped>\n",
              "    .dataframe tbody tr th:only-of-type {\n",
              "        vertical-align: middle;\n",
              "    }\n",
              "\n",
              "    .dataframe tbody tr th {\n",
              "        vertical-align: top;\n",
              "    }\n",
              "\n",
              "    .dataframe thead th {\n",
              "        text-align: right;\n",
              "    }\n",
              "</style>\n",
              "<table border=\"1\" class=\"dataframe\">\n",
              "  <thead>\n",
              "    <tr style=\"text-align: right;\">\n",
              "      <th></th>\n",
              "      <th>Final-Loss</th>\n",
              "    </tr>\n",
              "  </thead>\n",
              "  <tbody>\n",
              "    <tr>\n",
              "      <th>UpgradedNet-glove</th>\n",
              "      <td>0.518319</td>\n",
              "    </tr>\n",
              "    <tr>\n",
              "      <th>UpgradedNet-tfidf</th>\n",
              "      <td>0.579082</td>\n",
              "    </tr>\n",
              "  </tbody>\n",
              "</table>\n",
              "</div>"
            ],
            "text/plain": [
              "                  Final-Loss\n",
              "UpgradedNet-glove   0.518319\n",
              "UpgradedNet-tfidf   0.579082"
            ]
          },
          "metadata": {
            "tags": []
          },
          "execution_count": 107
        }
      ]
    },
    {
      "cell_type": "code",
      "metadata": {
        "colab": {
          "base_uri": "https://localhost:8080/",
          "height": 111
        },
        "id": "p_Xtr6xmFIR2",
        "outputId": "ba569053-aaff-4e26-fd8b-be54bc2fc16a"
      },
      "source": [
        "sort_nn_df.head(2)"
      ],
      "execution_count": null,
      "outputs": [
        {
          "output_type": "execute_result",
          "data": {
            "text/html": [
              "<div>\n",
              "<style scoped>\n",
              "    .dataframe tbody tr th:only-of-type {\n",
              "        vertical-align: middle;\n",
              "    }\n",
              "\n",
              "    .dataframe tbody tr th {\n",
              "        vertical-align: top;\n",
              "    }\n",
              "\n",
              "    .dataframe thead th {\n",
              "        text-align: right;\n",
              "    }\n",
              "</style>\n",
              "<table border=\"1\" class=\"dataframe\">\n",
              "  <thead>\n",
              "    <tr style=\"text-align: right;\">\n",
              "      <th></th>\n",
              "      <th>Precision</th>\n",
              "      <th>Recall</th>\n",
              "      <th>F1-Score</th>\n",
              "    </tr>\n",
              "  </thead>\n",
              "  <tbody>\n",
              "    <tr>\n",
              "      <th>UpgradedNet-glove</th>\n",
              "      <td>73.868%</td>\n",
              "      <td>73.475%</td>\n",
              "      <td>73.671%</td>\n",
              "    </tr>\n",
              "    <tr>\n",
              "      <th>UpgradedNet-tfidf</th>\n",
              "      <td>63.859%</td>\n",
              "      <td>77.412%</td>\n",
              "      <td>69.986%</td>\n",
              "    </tr>\n",
              "  </tbody>\n",
              "</table>\n",
              "</div>"
            ],
            "text/plain": [
              "                  Precision   Recall F1-Score\n",
              "UpgradedNet-glove   73.868%  73.475%  73.671%\n",
              "UpgradedNet-tfidf   63.859%  77.412%  69.986%"
            ]
          },
          "metadata": {
            "tags": []
          },
          "execution_count": 108
        }
      ]
    },
    {
      "cell_type": "markdown",
      "metadata": {
        "id": "-bop2sMGGpZ_"
      },
      "source": [
        "**There is no doubt that our UpgradedNet Neural Network is far better than the BasicNet one. UpgradedNet is dominating BasicNet in every way. Not only it dealt with the overfitting problem and reduced the loss by almost 30% but it also led to a very trustworthy prediction on the test set. As we can see, there is a great balance between Pricison and Recall metrics, specially in the model, where glove embeddings are used. This balance leads to an equally great F1 Score, which is a determinant representative of a model's efficiency. <br> We chose to implement two totally contradictory models, in order to gradually present the changes we should make to reach a very satisfying result, as well as to emphasize the bad choices someone must avoid, so as not to be led to a frustrating result.**"
      ]
    },
    {
      "cell_type": "markdown",
      "metadata": {
        "id": "1of_QkvmF7Rr"
      },
      "source": [
        "### ROC Curve"
      ]
    },
    {
      "cell_type": "markdown",
      "metadata": {
        "id": "Jn55nlXEoipb"
      },
      "source": [
        "**The Auc Score of UpgradedNet Neural Network, using pre-trained glove embeddings input vectors is ~80% and it's a decent score. As a matter of fact, the Auc Score is far better from the relative scores of the two BasicNet models and much better than the score of UpgradedNet, using tf-idf transformations as input vectors. The high Auc Score means that the model has a good ability at measuring how often a sentiment rating is correct.  We should be happy with our result, specially if we consider that Feed-Forward Neural Networks are, usually, good when classification is determined by a long range semantic dependency and they are not so effective at extracting local and position-invariant features. For tasks like Sentiment Analysis, where feature detection in text is more important (searching for angry terms, irony, sadness etc.), a Convolution Neural Network would surely produce the best results possible. <br> The Auc Score is visualized in the below ROC diagram, where the outcome is almost a perfect curve.**"
      ]
    },
    {
      "cell_type": "code",
      "metadata": {
        "id": "0-ZqQmixF7gn",
        "colab": {
          "base_uri": "https://localhost:8080/",
          "height": 394
        },
        "outputId": "cbcf5905-ee55-4dc6-b6ff-7c6347681a75"
      },
      "source": [
        "# display the best ROC diagram based on Auc Score\n",
        "roc_plot(net4, test_glove, test_y, batch4, 'UpgradedNet-glove')"
      ],
      "execution_count": null,
      "outputs": [
        {
          "output_type": "display_data",
          "data": {
            "image/png": "[encoded data removed]",
            "text/plain": [
              "<Figure size 576x360 with 1 Axes>"
            ]
          },
          "metadata": {
            "tags": []
          }
        },
        {
          "output_type": "stream",
          "text": [
            "\n",
            "ROC Score =  81.573%\n"
          ],
          "name": "stdout"
        }
      ]
    }
  ]
}